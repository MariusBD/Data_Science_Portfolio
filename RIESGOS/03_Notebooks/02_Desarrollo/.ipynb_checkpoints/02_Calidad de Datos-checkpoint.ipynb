{
 "cells": [
  {
   "cell_type": "markdown",
   "id": "d31dea65",
   "metadata": {},
   "source": [
    "# CALIDAD DE DATOS"
   ]
  },
  {
   "cell_type": "markdown",
   "id": "swiss-fault",
   "metadata": {},
   "source": [
    "## IMPORTAR PAQUETES"
   ]
  },
  {
   "cell_type": "code",
   "execution_count": 1,
   "id": "adjacent-toddler",
   "metadata": {},
   "outputs": [],
   "source": [
    "import numpy as np\n",
    "import pandas as pd\n",
    "from janitor import clean_names\n",
    "\n",
    "#Automcompletar rápido\n",
    "%config IPCompleter.greedy=True\n",
    "\n",
    "#Desactivar notación científica\n",
    "pd.options.display.float_format = '{:,.2f}'.format"
   ]
  },
  {
   "cell_type": "markdown",
   "id": "graduate-compensation",
   "metadata": {},
   "source": [
    "## IMPORTAR LOS DATOS"
   ]
  },
  {
   "cell_type": "code",
   "execution_count": 2,
   "id": "28c63848",
   "metadata": {},
   "outputs": [],
   "source": [
    "ruta_proyecto = 'C:/Users/Marius/EstructuraDirectorio/03_MACHINE_LEARNING/07_CASOS/03_RIESGOS'\n",
    "\n",
    "nombre_fichero_datos = 'trabajo.csv'"
   ]
  },
  {
   "cell_type": "code",
   "execution_count": 5,
   "id": "24ff453b",
   "metadata": {},
   "outputs": [
    {
     "data": {
      "text/html": [
       "<div>\n",
       "<style scoped>\n",
       "    .dataframe tbody tr th:only-of-type {\n",
       "        vertical-align: middle;\n",
       "    }\n",
       "\n",
       "    .dataframe tbody tr th {\n",
       "        vertical-align: top;\n",
       "    }\n",
       "\n",
       "    .dataframe thead th {\n",
       "        text-align: right;\n",
       "    }\n",
       "</style>\n",
       "<table border=\"1\" class=\"dataframe\">\n",
       "  <thead>\n",
       "    <tr style=\"text-align: right;\">\n",
       "      <th></th>\n",
       "      <th>Unnamed: 0</th>\n",
       "      <th>empleo</th>\n",
       "      <th>antigüedad_empleo</th>\n",
       "      <th>ingresos</th>\n",
       "      <th>ingresos_verificados</th>\n",
       "      <th>rating</th>\n",
       "      <th>dti</th>\n",
       "      <th>vivienda</th>\n",
       "      <th>num_hipotecas</th>\n",
       "      <th>num_lineas_credito</th>\n",
       "      <th>...</th>\n",
       "      <th>id_prestamo</th>\n",
       "      <th>descripcion</th>\n",
       "      <th>finalidad</th>\n",
       "      <th>principal</th>\n",
       "      <th>tipo_interes</th>\n",
       "      <th>num_cuotas</th>\n",
       "      <th>imp_cuota</th>\n",
       "      <th>imp_amortizado</th>\n",
       "      <th>estado</th>\n",
       "      <th>imp_recuperado</th>\n",
       "    </tr>\n",
       "    <tr>\n",
       "      <th>id_cliente</th>\n",
       "      <th></th>\n",
       "      <th></th>\n",
       "      <th></th>\n",
       "      <th></th>\n",
       "      <th></th>\n",
       "      <th></th>\n",
       "      <th></th>\n",
       "      <th></th>\n",
       "      <th></th>\n",
       "      <th></th>\n",
       "      <th></th>\n",
       "      <th></th>\n",
       "      <th></th>\n",
       "      <th></th>\n",
       "      <th></th>\n",
       "      <th></th>\n",
       "      <th></th>\n",
       "      <th></th>\n",
       "      <th></th>\n",
       "      <th></th>\n",
       "      <th></th>\n",
       "    </tr>\n",
       "  </thead>\n",
       "  <tbody>\n",
       "    <tr>\n",
       "      <th>137387967</th>\n",
       "      <td>0</td>\n",
       "      <td>Hvac technician</td>\n",
       "      <td>3 years</td>\n",
       "      <td>54,000.00</td>\n",
       "      <td>Source Verified</td>\n",
       "      <td>A</td>\n",
       "      <td>19.31</td>\n",
       "      <td>MORTGAGE</td>\n",
       "      <td>2.00</td>\n",
       "      <td>10.00</td>\n",
       "      <td>...</td>\n",
       "      <td>NaN</td>\n",
       "      <td>NaN</td>\n",
       "      <td>debt_consolidation</td>\n",
       "      <td>15,000.00</td>\n",
       "      <td>7.21</td>\n",
       "      <td>36 months</td>\n",
       "      <td>464.60</td>\n",
       "      <td>2,669.06</td>\n",
       "      <td>Current</td>\n",
       "      <td>0.00</td>\n",
       "    </tr>\n",
       "    <tr>\n",
       "      <th>132883631</th>\n",
       "      <td>4</td>\n",
       "      <td>Subsea Technician</td>\n",
       "      <td>7 years</td>\n",
       "      <td>125,000.00</td>\n",
       "      <td>Source Verified</td>\n",
       "      <td>B</td>\n",
       "      <td>9.00</td>\n",
       "      <td>MORTGAGE</td>\n",
       "      <td>1.00</td>\n",
       "      <td>6.00</td>\n",
       "      <td>...</td>\n",
       "      <td>NaN</td>\n",
       "      <td>NaN</td>\n",
       "      <td>debt_consolidation</td>\n",
       "      <td>22,000.00</td>\n",
       "      <td>10.90</td>\n",
       "      <td>36 months</td>\n",
       "      <td>719.22</td>\n",
       "      <td>22,000.00</td>\n",
       "      <td>Fully Paid</td>\n",
       "      <td>0.00</td>\n",
       "    </tr>\n",
       "    <tr>\n",
       "      <th>131289518</th>\n",
       "      <td>5</td>\n",
       "      <td>NaN</td>\n",
       "      <td>10+ years</td>\n",
       "      <td>72,777.00</td>\n",
       "      <td>Source Verified</td>\n",
       "      <td>D</td>\n",
       "      <td>24.74</td>\n",
       "      <td>MORTGAGE</td>\n",
       "      <td>2.00</td>\n",
       "      <td>10.00</td>\n",
       "      <td>...</td>\n",
       "      <td>NaN</td>\n",
       "      <td>NaN</td>\n",
       "      <td>home_improvement</td>\n",
       "      <td>25,000.00</td>\n",
       "      <td>21.85</td>\n",
       "      <td>60 months</td>\n",
       "      <td>688.35</td>\n",
       "      <td>2,811.27</td>\n",
       "      <td>Current</td>\n",
       "      <td>0.00</td>\n",
       "    </tr>\n",
       "    <tr>\n",
       "      <th>77861711</th>\n",
       "      <td>6</td>\n",
       "      <td>Correctional officer</td>\n",
       "      <td>10+ years</td>\n",
       "      <td>50,000.00</td>\n",
       "      <td>Verified</td>\n",
       "      <td>C</td>\n",
       "      <td>29.31</td>\n",
       "      <td>MORTGAGE</td>\n",
       "      <td>1.00</td>\n",
       "      <td>8.00</td>\n",
       "      <td>...</td>\n",
       "      <td>NaN</td>\n",
       "      <td>NaN</td>\n",
       "      <td>debt_consolidation</td>\n",
       "      <td>14,400.00</td>\n",
       "      <td>15.31</td>\n",
       "      <td>36 months</td>\n",
       "      <td>501.37</td>\n",
       "      <td>2,310.49</td>\n",
       "      <td>Charged Off</td>\n",
       "      <td>6,430.36</td>\n",
       "    </tr>\n",
       "    <tr>\n",
       "      <th>103448519</th>\n",
       "      <td>7</td>\n",
       "      <td>Web site administrator</td>\n",
       "      <td>10+ years</td>\n",
       "      <td>99,800.00</td>\n",
       "      <td>Not Verified</td>\n",
       "      <td>A</td>\n",
       "      <td>9.69</td>\n",
       "      <td>MORTGAGE</td>\n",
       "      <td>0.00</td>\n",
       "      <td>8.00</td>\n",
       "      <td>...</td>\n",
       "      <td>NaN</td>\n",
       "      <td>NaN</td>\n",
       "      <td>credit_card</td>\n",
       "      <td>9,600.00</td>\n",
       "      <td>5.32</td>\n",
       "      <td>36 months</td>\n",
       "      <td>289.11</td>\n",
       "      <td>6,228.92</td>\n",
       "      <td>Current</td>\n",
       "      <td>0.00</td>\n",
       "    </tr>\n",
       "    <tr>\n",
       "      <th>...</th>\n",
       "      <td>...</td>\n",
       "      <td>...</td>\n",
       "      <td>...</td>\n",
       "      <td>...</td>\n",
       "      <td>...</td>\n",
       "      <td>...</td>\n",
       "      <td>...</td>\n",
       "      <td>...</td>\n",
       "      <td>...</td>\n",
       "      <td>...</td>\n",
       "      <td>...</td>\n",
       "      <td>...</td>\n",
       "      <td>...</td>\n",
       "      <td>...</td>\n",
       "      <td>...</td>\n",
       "      <td>...</td>\n",
       "      <td>...</td>\n",
       "      <td>...</td>\n",
       "      <td>...</td>\n",
       "      <td>...</td>\n",
       "      <td>...</td>\n",
       "    </tr>\n",
       "    <tr>\n",
       "      <th>73222117</th>\n",
       "      <td>199992</td>\n",
       "      <td>Executive Assistant</td>\n",
       "      <td>10+ years</td>\n",
       "      <td>85,000.00</td>\n",
       "      <td>Verified</td>\n",
       "      <td>B</td>\n",
       "      <td>33.05</td>\n",
       "      <td>RENT</td>\n",
       "      <td>1.00</td>\n",
       "      <td>25.00</td>\n",
       "      <td>...</td>\n",
       "      <td>NaN</td>\n",
       "      <td>NaN</td>\n",
       "      <td>debt_consolidation</td>\n",
       "      <td>3,000.00</td>\n",
       "      <td>9.75</td>\n",
       "      <td>36 months</td>\n",
       "      <td>96.45</td>\n",
       "      <td>3,000.00</td>\n",
       "      <td>Fully Paid</td>\n",
       "      <td>0.00</td>\n",
       "    </tr>\n",
       "    <tr>\n",
       "      <th>129396054</th>\n",
       "      <td>199993</td>\n",
       "      <td>Field Manager</td>\n",
       "      <td>10+ years</td>\n",
       "      <td>55,000.00</td>\n",
       "      <td>Source Verified</td>\n",
       "      <td>D</td>\n",
       "      <td>15.36</td>\n",
       "      <td>OWN</td>\n",
       "      <td>1.00</td>\n",
       "      <td>7.00</td>\n",
       "      <td>...</td>\n",
       "      <td>NaN</td>\n",
       "      <td>NaN</td>\n",
       "      <td>debt_consolidation</td>\n",
       "      <td>14,400.00</td>\n",
       "      <td>17.47</td>\n",
       "      <td>60 months</td>\n",
       "      <td>361.53</td>\n",
       "      <td>1,975.94</td>\n",
       "      <td>Current</td>\n",
       "      <td>0.00</td>\n",
       "    </tr>\n",
       "    <tr>\n",
       "      <th>121031962</th>\n",
       "      <td>199996</td>\n",
       "      <td>Owner &amp; President</td>\n",
       "      <td>6 years</td>\n",
       "      <td>111,697.00</td>\n",
       "      <td>Verified</td>\n",
       "      <td>B</td>\n",
       "      <td>16.63</td>\n",
       "      <td>MORTGAGE</td>\n",
       "      <td>2.00</td>\n",
       "      <td>10.00</td>\n",
       "      <td>...</td>\n",
       "      <td>NaN</td>\n",
       "      <td>NaN</td>\n",
       "      <td>other</td>\n",
       "      <td>10,000.00</td>\n",
       "      <td>9.44</td>\n",
       "      <td>36 months</td>\n",
       "      <td>320.05</td>\n",
       "      <td>4,388.51</td>\n",
       "      <td>Current</td>\n",
       "      <td>0.00</td>\n",
       "    </tr>\n",
       "    <tr>\n",
       "      <th>135641397</th>\n",
       "      <td>199997</td>\n",
       "      <td>Sr. Field Engineer</td>\n",
       "      <td>10+ years</td>\n",
       "      <td>285,000.00</td>\n",
       "      <td>Source Verified</td>\n",
       "      <td>D</td>\n",
       "      <td>6.02</td>\n",
       "      <td>MORTGAGE</td>\n",
       "      <td>3.00</td>\n",
       "      <td>9.00</td>\n",
       "      <td>...</td>\n",
       "      <td>NaN</td>\n",
       "      <td>NaN</td>\n",
       "      <td>small_business</td>\n",
       "      <td>30,000.00</td>\n",
       "      <td>17.47</td>\n",
       "      <td>36 months</td>\n",
       "      <td>1,076.62</td>\n",
       "      <td>5,387.53</td>\n",
       "      <td>Current</td>\n",
       "      <td>0.00</td>\n",
       "    </tr>\n",
       "    <tr>\n",
       "      <th>53664762</th>\n",
       "      <td>199998</td>\n",
       "      <td>Attorney</td>\n",
       "      <td>8 years</td>\n",
       "      <td>168,000.00</td>\n",
       "      <td>Source Verified</td>\n",
       "      <td>E</td>\n",
       "      <td>4.69</td>\n",
       "      <td>RENT</td>\n",
       "      <td>0.00</td>\n",
       "      <td>8.00</td>\n",
       "      <td>...</td>\n",
       "      <td>NaN</td>\n",
       "      <td>NaN</td>\n",
       "      <td>small_business</td>\n",
       "      <td>30,050.00</td>\n",
       "      <td>18.25</td>\n",
       "      <td>60 months</td>\n",
       "      <td>767.17</td>\n",
       "      <td>2,964.44</td>\n",
       "      <td>Charged Off</td>\n",
       "      <td>2,750.88</td>\n",
       "    </tr>\n",
       "  </tbody>\n",
       "</table>\n",
       "<p>140000 rows × 25 columns</p>\n",
       "</div>"
      ],
      "text/plain": [
       "            Unnamed: 0                   empleo antigüedad_empleo   ingresos  \\\n",
       "id_cliente                                                                     \n",
       "137387967            0         Hvac technician            3 years  54,000.00   \n",
       "132883631            4        Subsea Technician           7 years 125,000.00   \n",
       "131289518            5                      NaN         10+ years  72,777.00   \n",
       "77861711             6     Correctional officer         10+ years  50,000.00   \n",
       "103448519            7  Web site administrator          10+ years  99,800.00   \n",
       "...                ...                      ...               ...        ...   \n",
       "73222117        199992      Executive Assistant         10+ years  85,000.00   \n",
       "129396054       199993            Field Manager         10+ years  55,000.00   \n",
       "121031962       199996        Owner & President           6 years 111,697.00   \n",
       "135641397       199997       Sr. Field Engineer         10+ years 285,000.00   \n",
       "53664762        199998                 Attorney           8 years 168,000.00   \n",
       "\n",
       "           ingresos_verificados rating   dti  vivienda  num_hipotecas  \\\n",
       "id_cliente                                                              \n",
       "137387967       Source Verified      A 19.31  MORTGAGE           2.00   \n",
       "132883631       Source Verified      B  9.00  MORTGAGE           1.00   \n",
       "131289518       Source Verified      D 24.74  MORTGAGE           2.00   \n",
       "77861711               Verified      C 29.31  MORTGAGE           1.00   \n",
       "103448519          Not Verified      A  9.69  MORTGAGE           0.00   \n",
       "...                         ...    ...   ...       ...            ...   \n",
       "73222117               Verified      B 33.05      RENT           1.00   \n",
       "129396054       Source Verified      D 15.36       OWN           1.00   \n",
       "121031962              Verified      B 16.63  MORTGAGE           2.00   \n",
       "135641397       Source Verified      D  6.02  MORTGAGE           3.00   \n",
       "53664762        Source Verified      E  4.69      RENT           0.00   \n",
       "\n",
       "            num_lineas_credito  ...  id_prestamo  descripcion  \\\n",
       "id_cliente                      ...                             \n",
       "137387967                10.00  ...          NaN          NaN   \n",
       "132883631                 6.00  ...          NaN          NaN   \n",
       "131289518                10.00  ...          NaN          NaN   \n",
       "77861711                  8.00  ...          NaN          NaN   \n",
       "103448519                 8.00  ...          NaN          NaN   \n",
       "...                        ...  ...          ...          ...   \n",
       "73222117                 25.00  ...          NaN          NaN   \n",
       "129396054                 7.00  ...          NaN          NaN   \n",
       "121031962                10.00  ...          NaN          NaN   \n",
       "135641397                 9.00  ...          NaN          NaN   \n",
       "53664762                  8.00  ...          NaN          NaN   \n",
       "\n",
       "                     finalidad  principal  tipo_interes  num_cuotas imp_cuota  \\\n",
       "id_cliente                                                                      \n",
       "137387967   debt_consolidation  15,000.00          7.21   36 months    464.60   \n",
       "132883631   debt_consolidation  22,000.00         10.90   36 months    719.22   \n",
       "131289518     home_improvement  25,000.00         21.85   60 months    688.35   \n",
       "77861711    debt_consolidation  14,400.00         15.31   36 months    501.37   \n",
       "103448519          credit_card   9,600.00          5.32   36 months    289.11   \n",
       "...                        ...        ...           ...         ...       ...   \n",
       "73222117    debt_consolidation   3,000.00          9.75   36 months     96.45   \n",
       "129396054   debt_consolidation  14,400.00         17.47   60 months    361.53   \n",
       "121031962                other  10,000.00          9.44   36 months    320.05   \n",
       "135641397       small_business  30,000.00         17.47   36 months  1,076.62   \n",
       "53664762        small_business  30,050.00         18.25   60 months    767.17   \n",
       "\n",
       "           imp_amortizado       estado  imp_recuperado  \n",
       "id_cliente                                              \n",
       "137387967        2,669.06      Current            0.00  \n",
       "132883631       22,000.00   Fully Paid            0.00  \n",
       "131289518        2,811.27      Current            0.00  \n",
       "77861711         2,310.49  Charged Off        6,430.36  \n",
       "103448519        6,228.92      Current            0.00  \n",
       "...                   ...          ...             ...  \n",
       "73222117         3,000.00   Fully Paid            0.00  \n",
       "129396054        1,975.94      Current            0.00  \n",
       "121031962        4,388.51      Current            0.00  \n",
       "135641397        5,387.53      Current            0.00  \n",
       "53664762         2,964.44  Charged Off        2,750.88  \n",
       "\n",
       "[140000 rows x 25 columns]"
      ]
     },
     "execution_count": 5,
     "metadata": {},
     "output_type": "execute_result"
    }
   ],
   "source": [
    "ruta_completa = ruta_proyecto + '/02_Datos/03_Trabajo/' + nombre_fichero_datos\n",
    "\n",
    "df = pd.read_csv(ruta_completa,index_col='id_cliente')\n",
    "df"
   ]
  },
  {
   "cell_type": "markdown",
   "id": "7180bb24",
   "metadata": {},
   "source": [
    "### Objetivo principal: \n",
    "\n",
    "Calcular cúal es la probabilidad de que este crédito sea impagado y cúanto vamos a poder recuperar finalmente  de ese crédito y calcular esa métrica del Expected Loss (EL) que podemos utilizar a priori antes de concederle el crédito a un nuevo cliente que solicita un nuevo préstamo para saber si se lo tenemos que conceder, denegar o se lo concedemos pero a un tipo de interés más alto."
   ]
  },
  {
   "cell_type": "markdown",
   "id": "d2d5443c",
   "metadata": {},
   "source": [
    "## VISIÓN GENERAL"
   ]
  },
  {
   "cell_type": "code",
   "execution_count": 6,
   "id": "976c8ac6",
   "metadata": {
    "scrolled": false
   },
   "outputs": [
    {
     "name": "stdout",
     "output_type": "stream",
     "text": [
      "<class 'pandas.core.frame.DataFrame'>\n",
      "Int64Index: 140000 entries, 137387967 to 53664762\n",
      "Data columns (total 25 columns):\n",
      " #   Column                       Non-Null Count   Dtype  \n",
      "---  ------                       --------------   -----  \n",
      " 0   Unnamed: 0                   140000 non-null  int64  \n",
      " 1   empleo                       129679 non-null  object \n",
      " 2   antigüedad_empleo            130943 non-null  object \n",
      " 3   ingresos                     140000 non-null  float64\n",
      " 4   ingresos_verificados         140000 non-null  object \n",
      " 5   rating                       140000 non-null  object \n",
      " 6   dti                          139897 non-null  float64\n",
      " 7   vivienda                     140000 non-null  object \n",
      " 8   num_hipotecas                136904 non-null  float64\n",
      " 9   num_lineas_credito           139998 non-null  float64\n",
      " 10  porc_tarjetas_75p            135342 non-null  float64\n",
      " 11  porc_uso_revolving           139892 non-null  float64\n",
      " 12  num_cancelaciones_12meses    139990 non-null  float64\n",
      " 13  num_derogatorios             139998 non-null  float64\n",
      " 14  num_meses_desde_ult_retraso  68216 non-null   float64\n",
      " 15  id_prestamo                  0 non-null       float64\n",
      " 16  descripcion                  7756 non-null    object \n",
      " 17  finalidad                    140000 non-null  object \n",
      " 18  principal                    140000 non-null  float64\n",
      " 19  tipo_interes                 140000 non-null  float64\n",
      " 20  num_cuotas                   140000 non-null  object \n",
      " 21  imp_cuota                    140000 non-null  float64\n",
      " 22  imp_amortizado               140000 non-null  float64\n",
      " 23  estado                       140000 non-null  object \n",
      " 24  imp_recuperado               140000 non-null  float64\n",
      "dtypes: float64(15), int64(1), object(9)\n",
      "memory usage: 27.8+ MB\n"
     ]
    }
   ],
   "source": [
    "df.info()"
   ]
  },
  {
   "cell_type": "markdown",
   "id": "3b5cfb7c",
   "metadata": {},
   "source": [
    "### Explicación variables\n",
    "\n",
    "empleo: de la persona que solicita el credito\n",
    "\n",
    "antigüedad_empleo: antiguedad del empleado en su empleo actual\n",
    "\n",
    "ingresos: ingresos anuales de la persona\n",
    "\n",
    "ingresos_verificados: esta variable nos va decir si esos ingresos que nos declara la persona los hemos verificado o no a través de terceras comprobaciones.\n",
    "\n",
    "rating: esta variable nos dice en función del historial crediticio se asigna un nivel de rating, por ejemplo si eres A tienes muchos menos riesgo que si eres un F.\n",
    "\n",
    "dti: debt to income, es el ratio entre la deuda y los ingresos.Esta deuda que esta adquiriendo el cliente que % representa sobre el los ingresos.El  banco tiene el criterio de que si tu tienes entorno al 30-40% de deuda es muy probable que no te lo concedan, porque piensan que además de la deuda tienes otros gastos para vivir.Esta variable es muy importante en este contexto.\n",
    "\n",
    "vivienda: Si tiene vivienda en propiedad o alquiler.\n",
    "\n",
    "num_hipotecas: nº hipotecas que tiene\n",
    "\n",
    "num_lineas_credito: nº creditos que tiene.\n",
    "\n",
    "porc_tarjetas_75p: significa que % de todas las tarjetas que tiene el cliente, han superado ya el gasto del 75% del credito, que esa tarjeta tiene disponible.Por ejemplo si tienes una tarjeta de credito de 1000 euros/mes y te has gastado 750€, ya has sobrepasado ese limite del 75%.Nos habla de como de ahogado va el cliente si encima le doy otro prestamos adicional, la probabilidad de impago será mayor.\n",
    "\n",
    "porc_uso_revolving: es un mecanismo con el cual es aplicar los lineas de credito de las empresas pero a clientes particulares.Te conceden un credito de 500€/mes y de esos 500 euros cada mes, vas utilizando lo que quieras, de tal manera que vas a acumulado esa deuda pendiente y vas pagando intereses sobre esa deuda pendiente.Este producto tiene unos tipos de interés muy altos.\n",
    "\n",
    "num_cancelaciones_12meses:cuantos contratos de prestamos se le ha cancelado a ese cliente los últ 12 meses.Esta variable es una especie de indicador de anteriores impagos que ha tenido el cliente.\n",
    "\n",
    "num_derogatorios:Impagos que haya podido tener el cliente no solo con el propio banco sino con todos los bancos con los que ha interactuado.\n",
    "\n",
    "num_meses_desde_ult_retraso:Cuantos meses han pasado desde la última vez que te retrasaste en el pago.\n",
    "\n",
    "descripcion:\n",
    "\n",
    "finalidad: para que se va a usar el prestamo cuando vas a solicitarlo\n",
    "\n",
    "principal: total del prestamo que pide el prestamo y se te concede\n",
    "\n",
    "tipo_interes: tipo interes al que pagas el prestamo\n",
    "\n",
    "num_cuotas: en cuantas cuotas vas a pagar el prestamo\n",
    "\n",
    "imp_cuotas:cuanto vas a pagar en cada cuota mensualmente\n",
    "\n",
    "imp_amortizado:cuanto de ese prestamo inicial ya has pagado\n",
    "\n",
    "estado:variable fundamental, para ver si el prestamo está en impago, al corriente etc.\n",
    "\n",
    "imp_recuperado: el importe que consigue recuperar el banco, es decir, si se produce un impago cuando aun quedan por pagar 20k€ cuantos de esos 20k ha conseguido recuperar el banco.\n",
    "\n",
    "\n",
    "\n"
   ]
  },
  {
   "cell_type": "markdown",
   "id": "e96f1c4e",
   "metadata": {},
   "source": [
    "### Corrección"
   ]
  },
  {
   "cell_type": "code",
   "execution_count": 7,
   "id": "94cccc38",
   "metadata": {},
   "outputs": [],
   "source": [
    "df.drop(columns='Unnamed: 0',inplace=True)"
   ]
  },
  {
   "cell_type": "markdown",
   "id": "158ee1d7",
   "metadata": {},
   "source": [
    "## TIPOS DE DATOS"
   ]
  },
  {
   "cell_type": "markdown",
   "id": "88162727",
   "metadata": {},
   "source": [
    "### Identificación"
   ]
  },
  {
   "cell_type": "code",
   "execution_count": 8,
   "id": "197a99c2",
   "metadata": {
    "scrolled": false
   },
   "outputs": [
    {
     "data": {
      "text/plain": [
       "empleo                          object\n",
       "antigüedad_empleo               object\n",
       "ingresos                       float64\n",
       "ingresos_verificados            object\n",
       "rating                          object\n",
       "dti                            float64\n",
       "vivienda                        object\n",
       "num_hipotecas                  float64\n",
       "num_lineas_credito             float64\n",
       "porc_tarjetas_75p              float64\n",
       "porc_uso_revolving             float64\n",
       "num_cancelaciones_12meses      float64\n",
       "num_derogatorios               float64\n",
       "num_meses_desde_ult_retraso    float64\n",
       "id_prestamo                    float64\n",
       "descripcion                     object\n",
       "finalidad                       object\n",
       "principal                      float64\n",
       "tipo_interes                   float64\n",
       "num_cuotas                      object\n",
       "imp_cuota                      float64\n",
       "imp_amortizado                 float64\n",
       "estado                          object\n",
       "imp_recuperado                 float64\n",
       "dtype: object"
      ]
     },
     "execution_count": 8,
     "metadata": {},
     "output_type": "execute_result"
    }
   ],
   "source": [
    "df.dtypes"
   ]
  },
  {
   "cell_type": "markdown",
   "id": "f29bc3fb",
   "metadata": {},
   "source": [
    "Conclusiones:\n",
    "\n",
    "* Todo correcto en cuanto a tipo de datos"
   ]
  },
  {
   "cell_type": "markdown",
   "id": "cc8d4a22",
   "metadata": {},
   "source": [
    "## VALORES ÚNICOS"
   ]
  },
  {
   "cell_type": "markdown",
   "id": "f21f0e36",
   "metadata": {},
   "source": [
    "### Identificación"
   ]
  },
  {
   "cell_type": "code",
   "execution_count": 9,
   "id": "6e53e444",
   "metadata": {
    "scrolled": false
   },
   "outputs": [
    {
     "data": {
      "text/plain": [
       "id_prestamo                        0\n",
       "num_cuotas                         2\n",
       "ingresos_verificados               3\n",
       "vivienda                           6\n",
       "num_cancelaciones_12meses          7\n",
       "rating                             7\n",
       "estado                             9\n",
       "antigüedad_empleo                 11\n",
       "finalidad                         14\n",
       "num_derogatorios                  19\n",
       "num_hipotecas                     25\n",
       "num_lineas_credito                62\n",
       "num_meses_desde_ult_retraso      131\n",
       "porc_tarjetas_75p                169\n",
       "tipo_interes                     591\n",
       "porc_uso_revolving              1106\n",
       "principal                       1472\n",
       "dti                             5277\n",
       "descripcion                     7734\n",
       "imp_recuperado                 10622\n",
       "ingresos                       11690\n",
       "imp_cuota                      33668\n",
       "empleo                         54455\n",
       "imp_amortizado                 57687\n",
       "dtype: int64"
      ]
     },
     "execution_count": 9,
     "metadata": {},
     "output_type": "execute_result"
    }
   ],
   "source": [
    "df.nunique().sort_values()"
   ]
  },
  {
   "cell_type": "markdown",
   "id": "a1106594",
   "metadata": {},
   "source": [
    "Conclusiones:\n",
    "\n",
    "* id_prestamo con menos de 2 valores --> eliminar"
   ]
  },
  {
   "cell_type": "markdown",
   "id": "b1d1a668",
   "metadata": {},
   "source": [
    "### Corrección"
   ]
  },
  {
   "cell_type": "code",
   "execution_count": 10,
   "id": "62f7d14e",
   "metadata": {},
   "outputs": [],
   "source": [
    "df.drop(columns = 'id_prestamo', inplace = True)"
   ]
  },
  {
   "cell_type": "markdown",
   "id": "e25cfc89",
   "metadata": {},
   "source": [
    "## DUPLICADOS"
   ]
  },
  {
   "cell_type": "markdown",
   "id": "8a079ed3",
   "metadata": {},
   "source": [
    "### Identificación"
   ]
  },
  {
   "cell_type": "code",
   "execution_count": 11,
   "id": "f5b23bfc",
   "metadata": {
    "scrolled": true
   },
   "outputs": [
    {
     "data": {
      "text/plain": [
       "0"
      ]
     },
     "execution_count": 11,
     "metadata": {},
     "output_type": "execute_result"
    }
   ],
   "source": [
    "df.duplicated().sum()"
   ]
  },
  {
   "cell_type": "markdown",
   "id": "632ec2cd",
   "metadata": {},
   "source": [
    "## SEPARAR NUMÉRICAS Y CATEGÓRICAS"
   ]
  },
  {
   "cell_type": "markdown",
   "id": "573a61ac",
   "metadata": {},
   "source": [
    "### Categóricas"
   ]
  },
  {
   "cell_type": "code",
   "execution_count": 12,
   "id": "47a7eece",
   "metadata": {},
   "outputs": [],
   "source": [
    "cat = df.select_dtypes(exclude = 'number').copy()"
   ]
  },
  {
   "cell_type": "markdown",
   "id": "41756893",
   "metadata": {},
   "source": [
    "### Numéricas"
   ]
  },
  {
   "cell_type": "code",
   "execution_count": 13,
   "id": "59140e9a",
   "metadata": {},
   "outputs": [],
   "source": [
    "num = df.select_dtypes(include='number').copy()"
   ]
  },
  {
   "cell_type": "markdown",
   "id": "5e7d8e7e",
   "metadata": {},
   "source": [
    "## GESTIÓN DE CATEGÓRICAS"
   ]
  },
  {
   "cell_type": "markdown",
   "id": "5b5808b7",
   "metadata": {},
   "source": [
    "### Nulos"
   ]
  },
  {
   "cell_type": "markdown",
   "id": "5c08ca55",
   "metadata": {},
   "source": [
    "#### Identificación"
   ]
  },
  {
   "cell_type": "code",
   "execution_count": 14,
   "id": "da49ae63",
   "metadata": {
    "scrolled": true
   },
   "outputs": [
    {
     "data": {
      "text/plain": [
       "descripcion             132244\n",
       "empleo                   10321\n",
       "antigüedad_empleo         9057\n",
       "ingresos_verificados         0\n",
       "rating                       0\n",
       "vivienda                     0\n",
       "finalidad                    0\n",
       "num_cuotas                   0\n",
       "estado                       0\n",
       "dtype: int64"
      ]
     },
     "execution_count": 14,
     "metadata": {},
     "output_type": "execute_result"
    }
   ],
   "source": [
    "cat.isna().sum().sort_values(ascending = False)"
   ]
  },
  {
   "cell_type": "code",
   "execution_count": 15,
   "id": "b95992ce",
   "metadata": {},
   "outputs": [
    {
     "data": {
      "text/plain": [
       "NaN                                                                                                                                                                                                                                                                                                                                                                                                                                                                                                                                                                                                                                                                                                                                                                                                                                                                                                                                                           132244\n",
       "                                                                                                                                                                                                                                                                                                                                                                                                                                                                                                                                                                                                                                                                                                                                                                                                                                                                                                                                                                  14\n",
       "  Borrower added on 12/08/12 > Debt Consolidation<br>                                                                                                                                                                                                                                                                                                                                                                                                                                                                                                                                                                                                                                                                                                                                                                                                                                                                                                              2\n",
       "  Borrower added on 07/02/13 > Credit card refinance<br>                                                                                                                                                                                                                                                                                                                                                                                                                                                                                                                                                                                                                                                                                                                                                                                                                                                                                                           2\n",
       "credit card debt consolidation                                                                                                                                                                                                                                                                                                                                                                                                                                                                                                                                                                                                                                                                                                                                                                                                                                                                                                                                     2\n",
       "                                                                                                                                                                                                                                                                                                                                                                                                                                                                                                                                                                                                                                                                                                                                                                                                                                                                                                                                                               ...  \n",
       "  Borrower added on 08/28/13 > Consolidation<br>                                                                                                                                                                                                                                                                                                                                                                                                                                                                                                                                                                                                                                                                                                                                                                                                                                                                                                                   1\n",
       "I need to relocate my 15 year old business to a smaller space on the next block.  I will be able to lower my overhead and increase sales since this location is less rent, provides more visibility and walk by traffic.   This loan will allow me to clear my credit card debt and renovate a new space in accordance with the building codes.  This move will keep me even for the first year but after that will improve my profits dramatically.  In my 15 year tenure, I have had 3 credit cards which have been paid on time and always more than the minimum payment.  I pay all of my suppliers and employees at the time of service - cash.  I have a good reputation in town and have been involved in several committees and fund raising activities throughout the years.  I remain committed to my business of antiques, clock repair and a wonderful tearoom - which continues to be discovered by more people and is receiving accolades.           1\n",
       "  Borrower added on 09/07/13 > This loan will give me the opportunity to pay off higher interest credit cards more quickly and at a lower interest rate.  My goal is to improve my credit score so I can purchase a home in the near future.<br>                                                                                                                                                                                                                                                                                                                                                                                                                                                                                                                                                                                                                                                                                                                   1\n",
       "  Borrower added on 09/07/12 > my roof is in need of repair.<br>                                                                                                                                                                                                                                                                                                                                                                                                                                                                                                                                                                                                                                                                                                                                                                                                                                                                                                   1\n",
       "  Borrower added on 11/01/11 > Looking to use this loan to repay my large credit card debits.  I have always paid all of my debt payments on time, and am trying to get out from underneath all of this credit card debt now.  I have an extremely safe job as I work for a very conservative international mutual fund company, which I have been employed by for 5 years now.  Please let me know if you would like any further information about this loan.<br/><br/>Thanks!<br/>                                                                                                                                                                                                                                                                                                                                                                                                                                                                               1\n",
       "Name: descripcion, Length: 7735, dtype: int64"
      ]
     },
     "execution_count": 15,
     "metadata": {},
     "output_type": "execute_result"
    }
   ],
   "source": [
    "cat.descripcion.value_counts(dropna=False)\n",
    "#esta variable, parace una descripcion en texto libre en un formulario cuando esta solicitando el prestamo\n",
    "#tenemos 132k registros que no estan informados es decir la gran mayoria\n"
   ]
  },
  {
   "cell_type": "code",
   "execution_count": 16,
   "id": "d3b9f1e7",
   "metadata": {},
   "outputs": [
    {
     "data": {
      "text/plain": [
       "NaN                                   10321\n",
       "Teacher                                2463\n",
       "Manager                                2148\n",
       "Owner                                  1361\n",
       "Registered Nurse                        991\n",
       "                                      ...  \n",
       "Sr Pastor                                 1\n",
       "Allocation Planner                        1\n",
       "Accounts Receivable Representative        1\n",
       "Regional Director, North America          1\n",
       "Sr. Field Engineer                        1\n",
       "Name: empleo, Length: 54456, dtype: int64"
      ]
     },
     "execution_count": 16,
     "metadata": {},
     "output_type": "execute_result"
    }
   ],
   "source": [
    "cat.empleo.value_counts(dropna=False)"
   ]
  },
  {
   "cell_type": "code",
   "execution_count": 17,
   "id": "cac1218b",
   "metadata": {},
   "outputs": [
    {
     "data": {
      "text/plain": [
       "10+ years    46201\n",
       "2 years      12566\n",
       "< 1 year     11835\n",
       "3 years      11274\n",
       "1 year        9096\n",
       "NaN           9057\n",
       "5 years       8712\n",
       "4 years       8521\n",
       "6 years       6313\n",
       "8 years       5724\n",
       "7 years       5707\n",
       "9 years       4994\n",
       "Name: antigüedad_empleo, dtype: int64"
      ]
     },
     "execution_count": 17,
     "metadata": {},
     "output_type": "execute_result"
    }
   ],
   "source": [
    "cat.antigüedad_empleo.value_counts(dropna=False)"
   ]
  },
  {
   "cell_type": "markdown",
   "id": "45ca2193",
   "metadata": {},
   "source": [
    "Conclusiones:\n",
    "\n",
    "* sustituir todas por valor 'desconocido'"
   ]
  },
  {
   "cell_type": "markdown",
   "id": "6802d575",
   "metadata": {},
   "source": [
    "#### Corrección"
   ]
  },
  {
   "cell_type": "markdown",
   "id": "ebeb52a6",
   "metadata": {},
   "source": [
    "##### Imputar por un valor"
   ]
  },
  {
   "cell_type": "markdown",
   "id": "2cba1c3c",
   "metadata": {},
   "source": [
    "###### Variables a imputar"
   ]
  },
  {
   "cell_type": "code",
   "execution_count": 18,
   "id": "4050ef9f",
   "metadata": {},
   "outputs": [],
   "source": [
    "var_imputar_desconocido = ['descripcion','empleo','antigüedad_empleo']"
   ]
  },
  {
   "cell_type": "markdown",
   "id": "78d10252",
   "metadata": {},
   "source": [
    "###### Imputar"
   ]
  },
  {
   "cell_type": "code",
   "execution_count": 19,
   "id": "f16e8491",
   "metadata": {},
   "outputs": [],
   "source": [
    "cat[var_imputar_desconocido] = cat[var_imputar_desconocido].fillna('desconocido')"
   ]
  },
  {
   "cell_type": "markdown",
   "id": "db3a72a6",
   "metadata": {},
   "source": [
    "## GESTIÓN DE NUMÉRICAS"
   ]
  },
  {
   "cell_type": "markdown",
   "id": "d65bd06a",
   "metadata": {},
   "source": [
    "### Nulos"
   ]
  },
  {
   "cell_type": "markdown",
   "id": "e5ee8416",
   "metadata": {},
   "source": [
    "#### Identificación"
   ]
  },
  {
   "cell_type": "code",
   "execution_count": 20,
   "id": "c9f054a3",
   "metadata": {
    "scrolled": true
   },
   "outputs": [
    {
     "data": {
      "text/plain": [
       "num_meses_desde_ult_retraso    71784\n",
       "porc_tarjetas_75p               4658\n",
       "num_hipotecas                   3096\n",
       "porc_uso_revolving               108\n",
       "dti                              103\n",
       "num_cancelaciones_12meses         10\n",
       "num_lineas_credito                 2\n",
       "num_derogatorios                   2\n",
       "ingresos                           0\n",
       "principal                          0\n",
       "tipo_interes                       0\n",
       "imp_cuota                          0\n",
       "imp_amortizado                     0\n",
       "imp_recuperado                     0\n",
       "dtype: int64"
      ]
     },
     "execution_count": 20,
     "metadata": {},
     "output_type": "execute_result"
    }
   ],
   "source": [
    "num.isna().sum().sort_values(ascending = False)"
   ]
  },
  {
   "cell_type": "markdown",
   "id": "a043a2e8",
   "metadata": {},
   "source": [
    "Veamoslas con más detalle."
   ]
  },
  {
   "cell_type": "code",
   "execution_count": 21,
   "id": "6b8ad2ba",
   "metadata": {},
   "outputs": [
    {
     "data": {
      "text/plain": [
       "id_cliente\n",
       "137387967   10.00\n",
       "132883631   16.00\n",
       "131289518     NaN\n",
       "77861711     8.00\n",
       "103448519   28.00\n",
       "             ... \n",
       "73222117      NaN\n",
       "129396054     NaN\n",
       "121031962    6.00\n",
       "135641397   25.00\n",
       "53664762      NaN\n",
       "Name: num_meses_desde_ult_retraso, Length: 140000, dtype: float64"
      ]
     },
     "execution_count": 21,
     "metadata": {},
     "output_type": "execute_result"
    }
   ],
   "source": [
    "num.num_meses_desde_ult_retraso"
   ]
  },
  {
   "cell_type": "code",
   "execution_count": 22,
   "id": "aa5112af",
   "metadata": {
    "scrolled": false
   },
   "outputs": [
    {
     "data": {
      "image/png": "[encoded data removed]",
      "text/plain": [
       "<Figure size 1200x600 with 1 Axes>"
      ]
     },
     "metadata": {},
     "output_type": "display_data"
    }
   ],
   "source": [
    "num.num_meses_desde_ult_retraso.value_counts().sort_index().plot.bar(figsize = (12,6));"
   ]
  },
  {
   "cell_type": "markdown",
   "id": "7e2ff55b",
   "metadata": {},
   "source": [
    "Haya ceros, pero parecen pocos para una variable que implica retrasos.\n",
    "\n",
    "Así que vamos a pensar que los nulos significan que no ha habido retrasos.\n",
    "\n",
    "Y por tanto imputar por ceros."
   ]
  },
  {
   "cell_type": "code",
   "execution_count": 23,
   "id": "2873ee93",
   "metadata": {},
   "outputs": [
    {
     "data": {
      "image/png": "[encoded data removed]",
      "text/plain": [
       "<Figure size 1200x600 with 1 Axes>"
      ]
     },
     "metadata": {},
     "output_type": "display_data"
    }
   ],
   "source": [
    "num.porc_tarjetas_75p.value_counts().sort_index().plot.bar(figsize = (12,6));"
   ]
  },
  {
   "cell_type": "markdown",
   "id": "1bff94a6",
   "metadata": {},
   "source": [
    "La categoría mayoritaria es cero.\n",
    "\n",
    "Imputaremos por cero."
   ]
  },
  {
   "cell_type": "code",
   "execution_count": 24,
   "id": "e0bb1a4a",
   "metadata": {},
   "outputs": [
    {
     "data": {
      "image/png": "[encoded data removed]",
      "text/plain": [
       "<Figure size 1200x600 with 1 Axes>"
      ]
     },
     "metadata": {},
     "output_type": "display_data"
    }
   ],
   "source": [
    "num.num_hipotecas.value_counts().sort_index().plot.bar(figsize = (12,6));"
   ]
  },
  {
   "cell_type": "markdown",
   "id": "d0269d6c",
   "metadata": {},
   "source": [
    "La categoría mayoritaria es cero.\n",
    "\n",
    "Imputaremos por cero."
   ]
  },
  {
   "cell_type": "markdown",
   "id": "750b3940",
   "metadata": {},
   "source": [
    "Conclusiones:\n",
    "\n",
    "* imputar todas por ceros"
   ]
  },
  {
   "cell_type": "markdown",
   "id": "562eea7f",
   "metadata": {},
   "source": [
    "#### Corrección"
   ]
  },
  {
   "cell_type": "code",
   "execution_count": 25,
   "id": "37d7e0d9",
   "metadata": {},
   "outputs": [],
   "source": [
    "num.fillna(0,inplace=True)"
   ]
  },
  {
   "cell_type": "markdown",
   "id": "82cb56e8",
   "metadata": {},
   "source": [
    "### Atípicos"
   ]
  },
  {
   "cell_type": "markdown",
   "id": "760baf8c",
   "metadata": {},
   "source": [
    "#### Por desviación típica"
   ]
  },
  {
   "cell_type": "markdown",
   "id": "4b508149",
   "metadata": {},
   "source": [
    "##### Identificación"
   ]
  },
  {
   "cell_type": "markdown",
   "id": "8ceda3d3",
   "metadata": {},
   "source": [
    "###### Definir el número de desviaciones típicas"
   ]
  },
  {
   "cell_type": "code",
   "execution_count": 26,
   "id": "2b7419cb",
   "metadata": {},
   "outputs": [],
   "source": [
    "num_desv_tip = 4"
   ]
  },
  {
   "cell_type": "markdown",
   "id": "942da237",
   "metadata": {},
   "source": [
    "###### Función que devuelve los índices de los atípicos"
   ]
  },
  {
   "cell_type": "code",
   "execution_count": 27,
   "id": "8a81f494",
   "metadata": {},
   "outputs": [],
   "source": [
    "def atipicos_desv_tip(variable, num_desv_tip = 4):\n",
    "    #sacamos los nulos por ahora\n",
    "    variable = variable.dropna()\n",
    "    #calculamos los límites\n",
    "    media = np.mean(variable)\n",
    "    sd = np.std(variable)\n",
    "    umbral = sd * num_desv_tip\n",
    "    lim_inf = media - umbral\n",
    "    lim_sup = media + umbral\n",
    "    #encontramos los índices de los que están fuera de los límites\n",
    "    indices = [indice for indice,valor in variable.items() if valor < lim_inf or valor > lim_sup]\n",
    "    return(indices)"
   ]
  },
  {
   "cell_type": "markdown",
   "id": "768e7398",
   "metadata": {},
   "source": [
    "#### Función que cuenta el número de atípicos"
   ]
  },
  {
   "cell_type": "code",
   "execution_count": 28,
   "id": "5c8f4462",
   "metadata": {},
   "outputs": [],
   "source": [
    "def conteo_atipicos(df,variable, num_desv_tip = 4):\n",
    "    atipicos = atipicos_desv_tip(df[variable], num_desv_tip)\n",
    "    return(df.loc[atipicos,variable].value_counts().sort_index())"
   ]
  },
  {
   "cell_type": "markdown",
   "id": "5cd1e425",
   "metadata": {},
   "source": [
    "###### Variables a aplicar"
   ]
  },
  {
   "cell_type": "code",
   "execution_count": 29,
   "id": "cfbb3d88",
   "metadata": {},
   "outputs": [],
   "source": [
    "var_atipicos_dt = ['ingresos','principal','imp_cuota','imp_recuperado']"
   ]
  },
  {
   "cell_type": "markdown",
   "id": "ac400ced",
   "metadata": {},
   "source": [
    "###### Aplicar"
   ]
  },
  {
   "cell_type": "code",
   "execution_count": 30,
   "id": "c4b74e98",
   "metadata": {},
   "outputs": [
    {
     "name": "stdout",
     "output_type": "stream",
     "text": [
      "\n",
      "ingresos:\n",
      "\n",
      "426,000.00       1\n",
      "427,000.00       1\n",
      "430,000.00       4\n",
      "430,644.00       1\n",
      "431,000.00       1\n",
      "                ..\n",
      "7,845,315.00     1\n",
      "8,500,000.00     1\n",
      "9,550,000.00     1\n",
      "9,573,072.00     1\n",
      "10,999,200.00    1\n",
      "Name: ingresos, Length: 143, dtype: int64\n",
      "\n",
      "principal:\n",
      "\n",
      "Series([], Name: principal, dtype: int64)\n",
      "\n",
      "imp_cuota:\n",
      "\n",
      "1,535.71    1\n",
      "1,566.80    2\n",
      "1,587.02    1\n",
      "1,607.80    1\n",
      "1,714.54    1\n",
      "Name: imp_cuota, dtype: int64\n",
      "\n",
      "imp_recuperado:\n",
      "\n",
      "3,204.00     1\n",
      "3,204.30     1\n",
      "3,204.90     1\n",
      "3,207.86     1\n",
      "3,208.00     1\n",
      "            ..\n",
      "26,172.99    1\n",
      "27,478.64    1\n",
      "27,657.68    1\n",
      "33,407.16    1\n",
      "33,666.34    1\n",
      "Name: imp_recuperado, Length: 1569, dtype: int64\n"
     ]
    }
   ],
   "source": [
    "for variable in var_atipicos_dt:\n",
    "    print('\\n' + variable + ':\\n')\n",
    "    print(conteo_atipicos(num,variable,num_desv_tip))"
   ]
  },
  {
   "cell_type": "code",
   "execution_count": 31,
   "id": "0fb13388",
   "metadata": {},
   "outputs": [
    {
     "data": {
      "text/plain": [
       "425591.26758832997"
      ]
     },
     "execution_count": 31,
     "metadata": {},
     "output_type": "execute_result"
    }
   ],
   "source": [
    "np.mean(num.ingresos) + np.std(num.ingresos) *4"
   ]
  },
  {
   "cell_type": "code",
   "execution_count": 32,
   "id": "01ebec52",
   "metadata": {},
   "outputs": [
    {
     "data": {
      "text/plain": [
       "-268960.0462197586"
      ]
     },
     "execution_count": 32,
     "metadata": {},
     "output_type": "execute_result"
    }
   ],
   "source": [
    "np.mean(num.ingresos) - np.std(num.ingresos) *4"
   ]
  },
  {
   "cell_type": "markdown",
   "id": "5beaeba9",
   "metadata": {},
   "source": [
    "Revisamos con más detalle la variable ingresos."
   ]
  },
  {
   "cell_type": "code",
   "execution_count": 33,
   "id": "0b1c7eb8",
   "metadata": {},
   "outputs": [
    {
     "data": {
      "text/plain": [
       "count      140,000.00\n",
       "mean        78,315.61\n",
       "std         86,819.22\n",
       "min              0.00\n",
       "25%         46,000.00\n",
       "50%         65,000.00\n",
       "75%         93,100.00\n",
       "max     10,999,200.00\n",
       "Name: ingresos, dtype: float64"
      ]
     },
     "execution_count": 33,
     "metadata": {},
     "output_type": "execute_result"
    }
   ],
   "source": [
    "num.ingresos.describe()"
   ]
  },
  {
   "cell_type": "markdown",
   "id": "5197aae9",
   "metadata": {},
   "source": [
    "##### Corrección"
   ]
  },
  {
   "cell_type": "markdown",
   "id": "2b9255dd",
   "metadata": {},
   "source": [
    "Eliminar los registros con ingresos superiores a 300.000$"
   ]
  },
  {
   "cell_type": "markdown",
   "id": "e1233b46",
   "metadata": {},
   "source": [
    "*Cuidado: Si se eliminan registros hay que eliminarlos tanto de cat como de num*"
   ]
  },
  {
   "cell_type": "markdown",
   "id": "18548d6d",
   "metadata": {},
   "source": [
    "###### Id de registros a eliminar"
   ]
  },
  {
   "cell_type": "code",
   "execution_count": 34,
   "id": "7d1c1e81",
   "metadata": {
    "scrolled": true
   },
   "outputs": [
    {
     "data": {
      "text/plain": [
       "array([ 97629676,    601669, 115087816,  30115373,  88149047,  96702950,\n",
       "        83678168, 128295694,  75468055, 104953803,  55380417,  68355962,\n",
       "        59101444,  74703269,  70631462, 101561119, 114093587, 121891976,\n",
       "          458760, 145133997, 141509839,  99967449,  74845067, 113905376,\n",
       "        91162705,  69967314,  69127903, 134144676,  79015002,  33371205,\n",
       "        88195703, 136270374, 114793732,  97457564, 115048244,   9746316,\n",
       "       128843574,  93634763,  75358546,  39559363,  70592833, 107733336,\n",
       "        77517938,  93092543,  91131807, 133401013,  60831304,  40942257,\n",
       "        79492925, 116881558, 115085050,   3630153,  78419419,  79390430,\n",
       "       141591423,  67427919,  92659557,  60963266, 138925364, 128067879,\n",
       "       125219862,  88921166,  65087421,  18895853, 109743090,    225812,\n",
       "       131383380, 109322909, 141468030, 137347897,  53252537, 144125851,\n",
       "        12938159, 107355068, 120217704, 104110402,  65795964,  59242936,\n",
       "       125737574, 132251779, 134323203, 104319520,  79081285,  96979795,\n",
       "          620850,  40385541, 120150582,  74585468, 143147174, 105895840,\n",
       "       124877413, 122347658, 140598256, 103337282, 145550896, 102574792,\n",
       "          572578, 122681489, 135802748,  74523571, 120205589,  46808563,\n",
       "       120605739,   1689366,  62236660, 109005497,  92104768,  88763639,\n",
       "        56934450,  14530758,  39360555,  93960404, 135369591, 119238056,\n",
       "       140959562,  41130637, 110714446,   6708897,  91946592, 142066146,\n",
       "        98197574, 127980829,  75768580, 139257255, 120091603,  77685207,\n",
       "        83964896, 101402707,  44796469, 134144026, 139043081,  81180268,\n",
       "        93820307, 142447421,  98845836, 122341298,  60893886,  54988387,\n",
       "        33411438, 144884757,  94479580, 127844526,  67989743, 142275020,\n",
       "        77815438, 121858382, 104092211,  12596976,  50053165, 117716248,\n",
       "         5648222, 134742400,  88138821,  44389210,   9775633, 144541752,\n",
       "       134387430, 133534237,   1601226,   4305549,  75447714,  66572368,\n",
       "        73302640, 100081315, 131712369,   4285539,  10156133,  43205964,\n",
       "       135655382,   1010101,  19096231,  21940897,  31396507,  67998530,\n",
       "       126797150,  97750801,  76371883, 131284811, 108133540,  14500926,\n",
       "       115397680, 122845355,  49874780, 138749234,  84515781,  90114483,\n",
       "       130334199, 131986111,  75291684,  40492358,  77871568, 114143227,\n",
       "       141129471,  46397393,  77491016,    482198, 130818455, 124837135,\n",
       "        46586567,  65682244, 144991963,  90427593, 103467994, 144712082,\n",
       "        75209638,  98777269, 139531061, 120038180,  58673076, 124035266,\n",
       "        41950206,  28744221,  69156599, 141423357,  34422190,  23825570,\n",
       "       141611571, 102476130,  67918262, 135559263, 137489035, 137921648,\n",
       "         7092557,  58722741, 137316914, 137148507,   2475869, 131507942,\n",
       "       139490749,  88792922,  39897292,  82030165, 116923559, 119221362,\n",
       "        69593596,  96202237,  12776568, 134083720,  70650998, 145357122,\n",
       "        51396630,    561266, 124795220,  54197540, 139807209, 114175196,\n",
       "       127391586,  78709637, 142179922, 122227510, 130331377,  56864853,\n",
       "       107365904, 143367322, 132003543,  35003601, 144794804,  80628288,\n",
       "        56662225,  96510442, 120055762,  93217560, 109043561, 111896883,\n",
       "       137039711,   9816896,   3930156, 124764970, 128536277,  61922933,\n",
       "       116820871,  68394198, 122673742,  96411541, 109915862,  55959447,\n",
       "       132203115, 131314415,  65781940, 139667548, 124793864, 129516435,\n",
       "       125178698,  83388134, 136970362,   6765363,  94057751, 112779927,\n",
       "       114175060,  58270253,  37841834,  39652015, 119301803,  74682106,\n",
       "        95311620, 132435925, 143215611,  84996477, 122359952,  81110235,\n",
       "        68999727,  57824714, 136495710, 131524691,   3485093,  95037050,\n",
       "        79141935,  90190959,  67045514,  83262629, 104100603,  77021408,\n",
       "       126118103,  94130434,  42642363,  52048938,  93267384,  93110198,\n",
       "        97912497, 132766601,  37217305, 100075773,  65373356, 143289920,\n",
       "       103427531,  35683571,  91687865, 108782310, 127103613,  48324582,\n",
       "        60286418, 144497304, 131441921,  70962795,  72705326,  90985447,\n",
       "          115363,  81467097, 119401404,  90135284,  38429317,  76293515,\n",
       "       129105125,  90160890, 140000033,  64360491,  35146345,  28112154,\n",
       "        97323656,  91127894, 131620377, 143115552,  43391740,  99974574,\n",
       "        13607494, 126564865, 126102538,  94058423,  98758708,  66434325,\n",
       "        62529469,  25346564,  53654695, 134070039,  88866153, 137542106,\n",
       "        55179784,  50467050, 111896701, 126475552,  18645650,   4564864,\n",
       "       107276053,  91538091, 121326036, 127647557,  38291817, 121326208,\n",
       "        66086633, 112877623,  97304366,  60647806,  34352623,  46436300,\n",
       "       139391691, 103147580, 134218440, 124804450, 139347011,  98093258,\n",
       "        38524975,  46447363, 127946315, 121345628, 125754008,  70964199,\n",
       "       124139349, 105577516, 136479269,  44127068, 126467938,  10149577,\n",
       "       106845370, 110353166,  73784861,  75094809,  72585852,  74816105,\n",
       "        11975868,  14118015,  93911517, 124774802, 124066664,  64391289,\n",
       "       114219428,  60804291, 119223452,  43145218,  71061821, 132067683,\n",
       "        67286290,  28212093,   3057462, 142637793, 135049135,  65864699,\n",
       "        43245920, 132527098, 140523543, 125915713,  69081477,   4279342,\n",
       "        70000598, 121758201,  18564727, 118198788,  94851269, 139660109,\n",
       "       145074086, 136484144, 138773650,  73479902, 133212209, 141297375,\n",
       "        29743947,  94436457,  77815724, 121907050,   8968659, 134998359,\n",
       "       132242662, 105689911,  14548057,  96696319,  50627726, 126279677,\n",
       "        70836049,  60307143, 131466556, 119962807, 120601747,  60740065,\n",
       "       129816807,  84556787,  46407893,  50920454, 116869902, 139625355,\n",
       "       119315129,   6739165,  70091528,  78339835,   4548460,  81405134,\n",
       "       143875450, 123070288,  94336985,  12947239,  56101281,   5620186,\n",
       "        98441217,  61369166,  10775105,  70944742,  57326917, 144110938,\n",
       "          733401,  92350954,  88887467, 120186820,  59581973,  95756740,\n",
       "        74574091,  65434500,  39249244, 141030059,  31988940,  74604136,\n",
       "       120385175, 134263675,   4915180,  93105696,  61502799,  93135754,\n",
       "       123980457,  81513403, 125495384, 130929563,  79044039,  83719876,\n",
       "       130085183, 125693256,  56079482,  75103252,  50465393, 107058263,\n",
       "         1437658, 124457391, 139621248, 142934714, 142990784, 130820205,\n",
       "       103638445, 133449364,  17332882,  99320418, 127906059,   5782704,\n",
       "        91453270,  87165108, 117807046,  97344567, 129766898, 125034601,\n",
       "       108514084, 141804011,  74101233, 105141433,  96628935,  77298827,\n",
       "        52709212,  95330554, 125730882,  38655125, 119136559,  88783764,\n",
       "        45794303, 144138560,   4095255,  61331292,  61369832,  40107290,\n",
       "       140879695,  26749474,  60556832,  69742452, 127090975,    986703,\n",
       "       137212507, 136800122,  96214908,   8607822, 129997570,  55455330,\n",
       "        93708555,  99707616,  96342937, 136491216,  21149939,  86522701,\n",
       "         9209184, 121337630,  40999819, 139104218,  53795273, 133131739,\n",
       "        29164336,   8659312,  23173158, 120158038,  85291159,  38647539,\n",
       "         4526730,  67808218, 144118144,  75941752, 142877040,  12706051,\n",
       "        65725904, 106936032,  92204864, 127103693,  56482837, 137049127,\n",
       "         4544953,  51376251,  19607586,  46612958,   2645279, 144707260,\n",
       "       125281686,    785827,  17793409,  93994154,  86246563,   7057063,\n",
       "        48765830, 133505298, 132623042, 131547163,  29713905,  84044804,\n",
       "       143917509, 144959732,  43470183,   9047763, 143665680, 144201322,\n",
       "       112159695,    600335,  57164896,  96421352, 137978617,  47018331,\n",
       "       121366722, 119993069, 132454348, 112029060, 125704018, 128112710,\n",
       "        68895741, 134316802, 132401669,  75368178,  97367806, 135793422,\n",
       "        59945430, 125044099,  75808253, 112159196, 143081204,  50580811,\n",
       "       139003798,  13737728, 138089027,  68414600, 110343004, 119279947,\n",
       "         1826732, 118328197, 121259121, 101961161,    736949,  97356377,\n",
       "        77306764,  89909030,  96825667, 111409777, 115701929, 140138838,\n",
       "        63888868, 123044725, 127319246, 143625865, 119261152,  97268541,\n",
       "        66463794, 104472570,  44995922, 141216561, 123994978,  70742939,\n",
       "       140538544, 124876399,  92339595, 139667670,   9694744,  77506868,\n",
       "        50606782, 138765321,  63459129, 119398720, 127489117,  42161459,\n",
       "        48001155,  67358976, 114218348, 125018087,  94109307, 109780689,\n",
       "        49973369,  60356694,  40510267,  77416427,  11726293,  43235780,\n",
       "        83757649,  76301674,  69646648,  70741949, 127583119,   3525351,\n",
       "       118224064, 103637970,  41120916, 138931692, 144974515,  70552657,\n",
       "       113045183, 111558517, 120659977,  12499335, 138203580, 126833847,\n",
       "        70571444,  95203319,  96493730, 126286137, 125962449, 142014029,\n",
       "       128746206, 127274866, 139505618,  92729477,  59382203, 106347831,\n",
       "        69522356, 136911748, 125051305, 109882084,  91230203, 141057367,\n",
       "       113181130, 141836957,  60890496, 121299392, 128733287,  74865375,\n",
       "       132458431,  78558450, 142853610, 100005147, 113822365, 136899808,\n",
       "       142998906, 142911819,    405012, 141752541,  54107140, 132932888,\n",
       "        94191553, 130195255, 128244676,  75878818,   1446979, 132084541,\n",
       "       129127730, 142536497, 130756073,  73724793,  78138291,  76558623,\n",
       "        69762726, 136034396,  96044367,  16231199,  95312173, 136149839,\n",
       "        66420385, 144597540, 126419934,  43499873,  92912522,  51126322,\n",
       "        98795657,  12515907,  23965663,  62337205, 129870781, 145090075,\n",
       "        70090973,  30125030, 119404461,  63328940, 119796394,   4566526,\n",
       "       102216584,  79370500, 112565361, 107459447, 126757972,  71472622,\n",
       "         3700899,  92491854, 129635030, 138585728,  98438505,  37730723,\n",
       "       137884077, 117489130,  68884530, 142474254, 122312648, 134330443,\n",
       "        96261571,  65975274, 142092780, 142892764, 118065195,  90215075,\n",
       "       120623258,  69085139,  57044192, 134022206,  91984876, 122285995,\n",
       "       139774280, 134932519,  57286589, 102435586,  15439813, 130079181,\n",
       "        13267509, 117841293, 107092597,  75324463,  99927033,  65364744,\n",
       "        93429953,  88014924, 122700272,  95222618, 141068415,  83756574,\n",
       "        76411138, 136429088,  94291807, 110282781,  88133019,  78901356,\n",
       "       125177151, 117218856, 139391814,  62237668, 145417443,  97559272,\n",
       "        63527270, 133076559,  74532268, 138282206,  26200126, 138054070,\n",
       "        26820123, 115248214,  72712649,  39571843, 141808169, 130164560,\n",
       "       107336706,  96425877,  76985717,  54423766, 136396069,  55981721,\n",
       "       121320830, 143887377, 123903601, 105873152,  68691365,  96379781,\n",
       "        61311868, 127213522,  70511606, 112971525,  85732516,  27120381,\n",
       "       127331446, 139794277,  16221751, 132473657, 136269133, 113180574,\n",
       "       102463427, 125728448, 112838177, 141234913,  92460017, 112046210,\n",
       "        90481398,   4298738, 123063931,  94742537, 126624031,  43935902,\n",
       "        21591313,  43287211,  63286685,  68694046, 100155779,  46376412,\n",
       "        71754757,  92951346, 112751925,  76323387, 125472952,  29733971,\n",
       "        16542794,   7081552, 121396944, 130827714,  95218480,  17654532,\n",
       "        55937578, 130705370, 140832910, 144662603,   6298875,  38604767,\n",
       "       134363013, 133942061,  63547209,    961607,  87314489,   4287915,\n",
       "        54534988,  84615347,  75289208,   3287408, 142507153,  32358988,\n",
       "       127021576,  91363523, 119692786,  19897182,  38559964,  65028939,\n",
       "        40117778,   1188969,  57195994,  91593619, 124953572,  81572192,\n",
       "       110792246, 139082105, 143853153,  89543172, 136418634], dtype=int64)"
      ]
     },
     "execution_count": 34,
     "metadata": {},
     "output_type": "execute_result"
    }
   ],
   "source": [
    "a_eliminar = num.loc[num.ingresos > 300000].index.values\n",
    "a_eliminar"
   ]
  },
  {
   "cell_type": "markdown",
   "id": "b995bf77",
   "metadata": {},
   "source": [
    "###### Aplicar"
   ]
  },
  {
   "cell_type": "code",
   "execution_count": 35,
   "id": "413fa5ea",
   "metadata": {},
   "outputs": [],
   "source": [
    "cat = cat[~cat.index.isin(a_eliminar)]\n",
    "num = num[~num.index.isin(a_eliminar)]"
   ]
  },
  {
   "cell_type": "markdown",
   "id": "0f6b1e4a",
   "metadata": {},
   "source": [
    "## GUARDAR DATASETS TRAS CALIDAD DE DATOS"
   ]
  },
  {
   "cell_type": "markdown",
   "id": "abb12eef",
   "metadata": {},
   "source": [
    "### Definir los nombres de los archivos"
   ]
  },
  {
   "cell_type": "code",
   "execution_count": 36,
   "id": "f83c6f26",
   "metadata": {},
   "outputs": [],
   "source": [
    "ruta_trabajo = ruta_proyecto + '/02_Datos/03_Trabajo/' + 'trabajo_resultado_calidad.pickle'\n",
    "ruta_cat = ruta_proyecto + '/02_Datos/03_Trabajo/' + 'cat_resultado_calidad.pickle'\n",
    "ruta_num = ruta_proyecto + '/02_Datos/03_Trabajo/' + 'num_resultado_calidad.pickle'"
   ]
  },
  {
   "cell_type": "markdown",
   "id": "1699f284",
   "metadata": {},
   "source": [
    "### Guardar los archivos"
   ]
  },
  {
   "cell_type": "code",
   "execution_count": 37,
   "id": "6731887a",
   "metadata": {},
   "outputs": [],
   "source": [
    "df.to_pickle(ruta_trabajo)\n",
    "cat.to_pickle(ruta_cat)\n",
    "num.to_pickle(ruta_num)"
   ]
  }
 ],
 "metadata": {
  "kernelspec": {
   "display_name": "Python 3 (ipykernel)",
   "language": "python",
   "name": "python3"
  },
  "language_info": {
   "codemirror_mode": {
    "name": "ipython",
    "version": 3
   },
   "file_extension": ".py",
   "mimetype": "text/x-python",
   "name": "python",
   "nbconvert_exporter": "python",
   "pygments_lexer": "ipython3",
   "version": "3.10.8"
  },
  "toc": {
   "base_numbering": 1,
   "nav_menu": {},
   "number_sections": true,
   "sideBar": true,
   "skip_h1_title": false,
   "title_cell": "Table of Contents",
   "title_sidebar": "Contents",
   "toc_cell": false,
   "toc_position": {
    "height": "calc(100% - 180px)",
    "left": "10px",
    "top": "150px",
    "width": "298.812px"
   },
   "toc_section_display": true,
   "toc_window_display": false
  },
  "varInspector": {
   "cols": {
    "lenName": 16,
    "lenType": 16,
    "lenVar": 40
   },
   "kernels_config": {
    "python": {
     "delete_cmd_postfix": "",
     "delete_cmd_prefix": "del ",
     "library": "var_list.py",
     "varRefreshCmd": "print(var_dic_list())"
    },
    "r": {
     "delete_cmd_postfix": ") ",
     "delete_cmd_prefix": "rm(",
     "library": "var_list.r",
     "varRefreshCmd": "cat(var_dic_list()) "
    }
   },
   "position": {
    "height": "546.85px",
    "left": "680.75px",
    "right": "20px",
    "top": "118px",
    "width": "350px"
   },
   "types_to_exclude": [
    "module",
    "function",
    "builtin_function_or_method",
    "instance",
    "_Feature"
   ],
   "window_display": false
  }
 },
 "nbformat": 4,
 "nbformat_minor": 5
}
