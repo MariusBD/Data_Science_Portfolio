{
 "cells": [
  {
   "cell_type": "markdown",
   "id": "d31dea65",
   "metadata": {},
   "source": [
    "# MODELIZACIÓN PARA NO SUPERVISADO"
   ]
  },
  {
   "cell_type": "markdown",
   "id": "swiss-fault",
   "metadata": {},
   "source": [
    "## IMPORTAR PAQUETES"
   ]
  },
  {
   "cell_type": "code",
   "execution_count": 4,
   "id": "adjacent-toddler",
   "metadata": {},
   "outputs": [],
   "source": [
    "import numpy as np\n",
    "import pandas as pd\n",
    "import matplotlib.pyplot as plt\n",
    "%matplotlib inline\n",
    "import seaborn as sns\n",
    "\n",
    "from sklearn.model_selection import train_test_split\n",
    "\n",
    "from sklearn.cluster import KMeans\n",
    "from sklearn.metrics import silhouette_score\n",
    "from sklearn.metrics import calinski_harabasz_score\n",
    "from sklearn.metrics import davies_bouldin_score\n",
    "\n",
    "from sklearn.model_selection import GridSearchCV\n",
    "\n",
    "#Autocompletar rápido\n",
    "%config IPCompleter.greedy=True\n",
    "\n",
    "#Desactivar la notación científica\n",
    "pd.options.display.float_format = '{:.2f}'.format\n",
    "\n",
    "#Desactivar los warnings\n",
    "import warnings\n",
    "warnings.filterwarnings(\"ignore\")"
   ]
  },
  {
   "cell_type": "markdown",
   "id": "graduate-compensation",
   "metadata": {},
   "source": [
    "## IMPORTAR LOS DATOS"
   ]
  },
  {
   "cell_type": "code",
   "execution_count": 7,
   "id": "f9d2de58",
   "metadata": {},
   "outputs": [],
   "source": [
    "ruta_proyecto = 'C:/Users/Marius/EstructuraDirectorio/03_MACHINE_LEARNING/06_CASOS/01_LEADSCORING'\n",
    "nombre_df = 'df_tablon.pickle'\n",
    "df = pd.read_pickle(ruta_proyecto + '/02_Datos/03_Trabajo/' + nombre_df)"
   ]
  },
  {
   "cell_type": "code",
   "execution_count": 52,
   "id": "0bbaf468",
   "metadata": {},
   "outputs": [
    {
     "name": "stdout",
     "output_type": "stream",
     "text": [
      "<class 'pandas.core.frame.DataFrame'>\n",
      "Int64Index: 5094 entries, 660737 to 579533\n",
      "Data columns (total 43 columns):\n",
      " #   Column                                    Non-Null Count  Dtype  \n",
      "---  ------                                    --------------  -----  \n",
      " 0   origen_API                                5094 non-null   float64\n",
      " 1   origen_Landing Page Submission            5094 non-null   float64\n",
      " 2   origen_Lead Add Form                      5094 non-null   float64\n",
      " 3   origen_OTROS                              5094 non-null   float64\n",
      " 4   fuente_Chat                               5094 non-null   float64\n",
      " 5   fuente_Direct Traffic                     5094 non-null   float64\n",
      " 6   fuente_Google                             5094 non-null   float64\n",
      " 7   fuente_OTROS                              5094 non-null   float64\n",
      " 8   fuente_Organic Search                     5094 non-null   float64\n",
      " 9   fuente_Reference                          5094 non-null   float64\n",
      " 10  ult_actividad_Chat Conversation           5094 non-null   float64\n",
      " 11  ult_actividad_Converted to Lead           5094 non-null   float64\n",
      " 12  ult_actividad_Email Link Clicked          5094 non-null   float64\n",
      " 13  ult_actividad_Email Opened                5094 non-null   float64\n",
      " 14  ult_actividad_OTROS                       5094 non-null   float64\n",
      " 15  ult_actividad_Page Visited on Website     5094 non-null   float64\n",
      " 16  ult_actividad_SMS Sent                    5094 non-null   float64\n",
      " 17  ambito_Banking, Investment And Insurance  5094 non-null   float64\n",
      " 18  ambito_Business Administration            5094 non-null   float64\n",
      " 19  ambito_Finance Management                 5094 non-null   float64\n",
      " 20  ambito_Healthcare Management              5094 non-null   float64\n",
      " 21  ambito_Human Resource Management          5094 non-null   float64\n",
      " 22  ambito_IT Projects Management             5094 non-null   float64\n",
      " 23  ambito_International Business             5094 non-null   float64\n",
      " 24  ambito_Marketing Management               5094 non-null   float64\n",
      " 25  ambito_Media and Advertising              5094 non-null   float64\n",
      " 26  ambito_OTROS                              5094 non-null   float64\n",
      " 27  ambito_Operations Management              5094 non-null   float64\n",
      " 28  ambito_Select                             5094 non-null   float64\n",
      " 29  ambito_Supply Chain Management            5094 non-null   float64\n",
      " 30  ambito_Travel and Tourism                 5094 non-null   float64\n",
      " 31  ocupacion_OTROS                           5094 non-null   float64\n",
      " 32  ocupacion_Student                         5094 non-null   float64\n",
      " 33  ocupacion_Unemployed                      5094 non-null   float64\n",
      " 34  ocupacion_Working Professional            5094 non-null   float64\n",
      " 35  descarga_lm_No                            5094 non-null   float64\n",
      " 36  descarga_lm_Yes                           5094 non-null   float64\n",
      " 37  visitas_total_mms                         5094 non-null   float64\n",
      " 38  tiempo_en_site_total_mms                  5094 non-null   float64\n",
      " 39  paginas_vistas_visita_mms                 5094 non-null   float64\n",
      " 40  score_actividad_mms                       5094 non-null   float64\n",
      " 41  score_perfil_mms                          5094 non-null   float64\n",
      " 42  compra                                    5094 non-null   int64  \n",
      "dtypes: float64(42), int64(1)\n",
      "memory usage: 1.7 MB\n"
     ]
    }
   ],
   "source": [
    "df.info()"
   ]
  },
  {
   "cell_type": "code",
   "execution_count": 55,
   "id": "a11da0a4",
   "metadata": {},
   "outputs": [],
   "source": [
    "#Variables que parece que no nos ayudan mucho\n",
    "df.drop(columns= ['fuente_Chat',\n",
    "                  'fuente_Direct Traffic',\n",
    "                  'fuente_Google',\n",
    "                  'fuente_OTROS',\n",
    "                  'fuente_Organic Search',\n",
    "                  'fuente_Reference',\n",
    "                  'score_actividad_mms',\n",
    "                  'score_perfil_mms',\n",
    "                  'ambito_Banking, Investment And Insurance',\n",
    "                  'ambito_Business Administration',\n",
    "                  'ambito_Finance Management',\n",
    "                  'ambito_Healthcare Management',\n",
    "                  'ambito_Human Resource Management',\n",
    "                  'ambito_IT Projects Management',\n",
    "                  'ambito_International Business',\n",
    "                  'ambito_Marketing Management',\n",
    "                  'ambito_Media and Advertising',\n",
    "                  'ambito_OTROS',\n",
    "                  'ambito_Operations Management',\n",
    "                  'ambito_Select',\n",
    "                  'ambito_Supply Chain Management',\n",
    "                  'ambito_Travel and Tourism',\n",
    "                  'descarga_lm_No',\n",
    "                  'descarga_lm_Yes',\n",
    "                  'visitas_total_mms',\n",
    "                  'paginas_vistas_visita_mms'\n",
    "                ], inplace = True)\n"
   ]
  },
  {
   "cell_type": "markdown",
   "id": "9790d322",
   "metadata": {},
   "source": [
    "## MODELIZAR"
   ]
  },
  {
   "cell_type": "markdown",
   "id": "53bd4ad6",
   "metadata": {},
   "source": [
    "### Crear el espacio de soluciones"
   ]
  },
  {
   "cell_type": "code",
   "execution_count": 56,
   "id": "eeaa3ea1",
   "metadata": {},
   "outputs": [],
   "source": [
    "min_k = 3\n",
    "max_k = 7\n",
    "\n",
    "soluciones = list(range(min_k,max_k))"
   ]
  },
  {
   "cell_type": "markdown",
   "id": "1f836ca9",
   "metadata": {},
   "source": [
    "### Crear listas para guardar la salida de cada métrica"
   ]
  },
  {
   "cell_type": "code",
   "execution_count": 57,
   "id": "cfb75560",
   "metadata": {},
   "outputs": [],
   "source": [
    "codo = []\n",
    "silueta = []\n",
    "calins = []\n",
    "davies = []"
   ]
  },
  {
   "cell_type": "markdown",
   "id": "159b78b6",
   "metadata": {},
   "source": [
    "### Analizar el espacio de soluciones"
   ]
  },
  {
   "cell_type": "code",
   "execution_count": 58,
   "id": "4b2f40be",
   "metadata": {},
   "outputs": [],
   "source": [
    "for solucion in soluciones:\n",
    "    \n",
    "    #Instanciar\n",
    "    cluster = KMeans(n_clusters = solucion, n_init=10)\n",
    "    \n",
    "    #Entrenar\n",
    "    cluster.fit(df)\n",
    "    \n",
    "    #Recoger las métricas\n",
    "    codo.append(cluster.inertia_)\n",
    "    silueta.append(silhouette_score(df, cluster.labels_))\n",
    "    calins.append(calinski_harabasz_score(df, cluster.labels_))\n",
    "    davies.append(davies_bouldin_score(df, cluster.labels_))"
   ]
  },
  {
   "cell_type": "markdown",
   "id": "eaa2acf8",
   "metadata": {},
   "source": [
    "### Identificar la mejor solucion"
   ]
  },
  {
   "cell_type": "markdown",
   "id": "ba26fca9",
   "metadata": {},
   "source": [
    "#### Analizar las métricas"
   ]
  },
  {
   "cell_type": "code",
   "execution_count": 59,
   "id": "30f9904f",
   "metadata": {},
   "outputs": [
    {
     "data": {
      "text/html": [
       "<div>\n",
       "<style scoped>\n",
       "    .dataframe tbody tr th:only-of-type {\n",
       "        vertical-align: middle;\n",
       "    }\n",
       "\n",
       "    .dataframe tbody tr th {\n",
       "        vertical-align: top;\n",
       "    }\n",
       "\n",
       "    .dataframe thead th {\n",
       "        text-align: right;\n",
       "    }\n",
       "</style>\n",
       "<table border=\"1\" class=\"dataframe\">\n",
       "  <thead>\n",
       "    <tr style=\"text-align: right;\">\n",
       "      <th></th>\n",
       "      <th>Codo</th>\n",
       "      <th>Silueta</th>\n",
       "      <th>Calins</th>\n",
       "      <th>Davies</th>\n",
       "    </tr>\n",
       "    <tr>\n",
       "      <th>Solucion</th>\n",
       "      <th></th>\n",
       "      <th></th>\n",
       "      <th></th>\n",
       "      <th></th>\n",
       "    </tr>\n",
       "  </thead>\n",
       "  <tbody>\n",
       "    <tr>\n",
       "      <th>3</th>\n",
       "      <td>5593.93</td>\n",
       "      <td>0.28</td>\n",
       "      <td>1461.27</td>\n",
       "      <td>1.50</td>\n",
       "    </tr>\n",
       "    <tr>\n",
       "      <th>4</th>\n",
       "      <td>4910.64</td>\n",
       "      <td>0.31</td>\n",
       "      <td>1345.60</td>\n",
       "      <td>1.37</td>\n",
       "    </tr>\n",
       "    <tr>\n",
       "      <th>5</th>\n",
       "      <td>4375.28</td>\n",
       "      <td>0.35</td>\n",
       "      <td>1288.14</td>\n",
       "      <td>1.61</td>\n",
       "    </tr>\n",
       "    <tr>\n",
       "      <th>6</th>\n",
       "      <td>3870.71</td>\n",
       "      <td>0.38</td>\n",
       "      <td>1297.26</td>\n",
       "      <td>1.41</td>\n",
       "    </tr>\n",
       "  </tbody>\n",
       "</table>\n",
       "</div>"
      ],
      "text/plain": [
       "            Codo  Silueta  Calins  Davies\n",
       "Solucion                                 \n",
       "3        5593.93     0.28 1461.27    1.50\n",
       "4        4910.64     0.31 1345.60    1.37\n",
       "5        4375.28     0.35 1288.14    1.61\n",
       "6        3870.71     0.38 1297.26    1.41"
      ]
     },
     "execution_count": 59,
     "metadata": {},
     "output_type": "execute_result"
    }
   ],
   "source": [
    "metricas = pd.DataFrame({'Solucion':soluciones,\n",
    "              'Codo': codo,\n",
    "              'Silueta':silueta,\n",
    "              'Calins':calins,           \n",
    "              'Davies':davies}).set_index('Solucion')\n",
    "\n",
    "metricas"
   ]
  },
  {
   "cell_type": "markdown",
   "id": "1f5164a5",
   "metadata": {},
   "source": [
    "#### Analizar los gráficos"
   ]
  },
  {
   "cell_type": "code",
   "execution_count": 60,
   "id": "16a81e6d",
   "metadata": {
    "scrolled": false
   },
   "outputs": [
    {
     "data": {
      "image/png": "[encoded data removed]",
      "text/plain": [
       "<Figure size 1200x800 with 4 Axes>"
      ]
     },
     "metadata": {},
     "output_type": "display_data"
    }
   ],
   "source": [
    "metricas.plot(subplots = True, figsize = (12,8), layout = (2,2), sharex = False);\n",
    "#Tecnica del codo no nos resulta de utilidad\n",
    "#LAS METRICAS NOS DICEN QUE LAS MEJORES SOLUCIONES SON ENTRE 3 Y 4\n",
    "#Si no nos gustan lo que podemos hacer es eliminar algunas variables y volver a idnetificar la mejor solucion"
   ]
  },
  {
   "cell_type": "markdown",
   "id": "99e34c6f",
   "metadata": {},
   "source": [
    "### Segmentación final con la mejor solucion"
   ]
  },
  {
   "cell_type": "code",
   "execution_count": 67,
   "id": "3ebc920f",
   "metadata": {},
   "outputs": [
    {
     "data": {
      "text/html": [
       "<style>#sk-container-id-7 {color: black;background-color: white;}#sk-container-id-7 pre{padding: 0;}#sk-container-id-7 div.sk-toggleable {background-color: white;}#sk-container-id-7 label.sk-toggleable__label {cursor: pointer;display: block;width: 100%;margin-bottom: 0;padding: 0.3em;box-sizing: border-box;text-align: center;}#sk-container-id-7 label.sk-toggleable__label-arrow:before {content: \"▸\";float: left;margin-right: 0.25em;color: #696969;}#sk-container-id-7 label.sk-toggleable__label-arrow:hover:before {color: black;}#sk-container-id-7 div.sk-estimator:hover label.sk-toggleable__label-arrow:before {color: black;}#sk-container-id-7 div.sk-toggleable__content {max-height: 0;max-width: 0;overflow: hidden;text-align: left;background-color: #f0f8ff;}#sk-container-id-7 div.sk-toggleable__content pre {margin: 0.2em;color: black;border-radius: 0.25em;background-color: #f0f8ff;}#sk-container-id-7 input.sk-toggleable__control:checked~div.sk-toggleable__content {max-height: 200px;max-width: 100%;overflow: auto;}#sk-container-id-7 input.sk-toggleable__control:checked~label.sk-toggleable__label-arrow:before {content: \"▾\";}#sk-container-id-7 div.sk-estimator input.sk-toggleable__control:checked~label.sk-toggleable__label {background-color: #d4ebff;}#sk-container-id-7 div.sk-label input.sk-toggleable__control:checked~label.sk-toggleable__label {background-color: #d4ebff;}#sk-container-id-7 input.sk-hidden--visually {border: 0;clip: rect(1px 1px 1px 1px);clip: rect(1px, 1px, 1px, 1px);height: 1px;margin: -1px;overflow: hidden;padding: 0;position: absolute;width: 1px;}#sk-container-id-7 div.sk-estimator {font-family: monospace;background-color: #f0f8ff;border: 1px dotted black;border-radius: 0.25em;box-sizing: border-box;margin-bottom: 0.5em;}#sk-container-id-7 div.sk-estimator:hover {background-color: #d4ebff;}#sk-container-id-7 div.sk-parallel-item::after {content: \"\";width: 100%;border-bottom: 1px solid gray;flex-grow: 1;}#sk-container-id-7 div.sk-label:hover label.sk-toggleable__label {background-color: #d4ebff;}#sk-container-id-7 div.sk-serial::before {content: \"\";position: absolute;border-left: 1px solid gray;box-sizing: border-box;top: 0;bottom: 0;left: 50%;z-index: 0;}#sk-container-id-7 div.sk-serial {display: flex;flex-direction: column;align-items: center;background-color: white;padding-right: 0.2em;padding-left: 0.2em;position: relative;}#sk-container-id-7 div.sk-item {position: relative;z-index: 1;}#sk-container-id-7 div.sk-parallel {display: flex;align-items: stretch;justify-content: center;background-color: white;position: relative;}#sk-container-id-7 div.sk-item::before, #sk-container-id-7 div.sk-parallel-item::before {content: \"\";position: absolute;border-left: 1px solid gray;box-sizing: border-box;top: 0;bottom: 0;left: 50%;z-index: -1;}#sk-container-id-7 div.sk-parallel-item {display: flex;flex-direction: column;z-index: 1;position: relative;background-color: white;}#sk-container-id-7 div.sk-parallel-item:first-child::after {align-self: flex-end;width: 50%;}#sk-container-id-7 div.sk-parallel-item:last-child::after {align-self: flex-start;width: 50%;}#sk-container-id-7 div.sk-parallel-item:only-child::after {width: 0;}#sk-container-id-7 div.sk-dashed-wrapped {border: 1px dashed gray;margin: 0 0.4em 0.5em 0.4em;box-sizing: border-box;padding-bottom: 0.4em;background-color: white;}#sk-container-id-7 div.sk-label label {font-family: monospace;font-weight: bold;display: inline-block;line-height: 1.2em;}#sk-container-id-7 div.sk-label-container {text-align: center;}#sk-container-id-7 div.sk-container {/* jupyter's `normalize.less` sets `[hidden] { display: none; }` but bootstrap.min.css set `[hidden] { display: none !important; }` so we also need the `!important` here to be able to override the default hidden behavior on the sphinx rendered scikit-learn.org. See: https://github.com/scikit-learn/scikit-learn/issues/21755 */display: inline-block !important;position: relative;}#sk-container-id-7 div.sk-text-repr-fallback {display: none;}</style><div id=\"sk-container-id-7\" class=\"sk-top-container\"><div class=\"sk-text-repr-fallback\"><pre>KMeans(n_clusters=6)</pre><b>In a Jupyter environment, please rerun this cell to show the HTML representation or trust the notebook. <br />On GitHub, the HTML representation is unable to render, please try loading this page with nbviewer.org.</b></div><div class=\"sk-container\" hidden><div class=\"sk-item\"><div class=\"sk-estimator sk-toggleable\"><input class=\"sk-toggleable__control sk-hidden--visually\" id=\"sk-estimator-id-7\" type=\"checkbox\" checked><label for=\"sk-estimator-id-7\" class=\"sk-toggleable__label sk-toggleable__label-arrow\">KMeans</label><div class=\"sk-toggleable__content\"><pre>KMeans(n_clusters=6)</pre></div></div></div></div></div>"
      ],
      "text/plain": [
       "KMeans(n_clusters=6)"
      ]
     },
     "execution_count": 67,
     "metadata": {},
     "output_type": "execute_result"
    }
   ],
   "source": [
    "mejor_solucion = 6\n",
    "\n",
    "#Instanciar\n",
    "cluster = KMeans(n_clusters = mejor_solucion, n_init=10)\n",
    "    \n",
    "#Entrenar\n",
    "cluster.fit(df)"
   ]
  },
  {
   "cell_type": "markdown",
   "id": "fd6f59ab",
   "metadata": {},
   "source": [
    "## EVALUAR"
   ]
  },
  {
   "cell_type": "markdown",
   "id": "99827e53",
   "metadata": {},
   "source": [
    "Comprobar que los perfiles obtenidos en entrenamiento son similares a los objetivos al predecir sobre validación."
   ]
  },
  {
   "cell_type": "markdown",
   "id": "90ac986a",
   "metadata": {},
   "source": [
    "### Calcular el segmento en entrenamiento y en validación"
   ]
  },
  {
   "cell_type": "code",
   "execution_count": 68,
   "id": "874aa873",
   "metadata": {},
   "outputs": [],
   "source": [
    "df['segmento'] = cluster.predict(df)"
   ]
  },
  {
   "cell_type": "markdown",
   "id": "fe9fb9a1",
   "metadata": {},
   "source": [
    "### Comparar los perfiles"
   ]
  },
  {
   "cell_type": "markdown",
   "id": "87d46a1d",
   "metadata": {},
   "source": [
    "## PERFILAR LOS SEGMENTOS\n",
    "\n",
    "Hemos probado con una solucion de 3 y 4 segmentos, pero no hay una diferencia muy clara de compra entre estos segmentos, es decir de los 3 o 4 segmentos no hay un segmento que convierta mas en compra que los demas, todos convierten en compra pero no diferenciamos bien, cual es el segmento que mas diferencia tiene con respecto a los demas, por lo tanto no tenemos grandes diferencias en cuanto a la penetracion de compras de cada uno de los segmentos.\n",
    "\n",
    "Quitar variables, que pensamos que no nos ayudan mucho a diferenciar\n",
    "\n",
    "Despues de haberle quitado las variables origen y fuente,desde el punto de vista de la target se observa que que el segmento 4 era el que mas convertia en compra y el que menos convierte es el 0.\n",
    "\n",
    "Pero no somos capaces de dibujar un perfil claro de que es cada uno de estos segmentos.\n",
    "\n",
    "Para entender mejor el segmento 3 en ult_actividad viene claramente de ult_actividad_Email Opened y el segmento 5 de ult_actividad_SMS Sent, pero los demas no nos quedan claros de donde vienen, no hay una diferencia clara."
   ]
  },
  {
   "cell_type": "code",
   "execution_count": 69,
   "id": "f32990c1",
   "metadata": {},
   "outputs": [
    {
     "data": {
      "text/html": [
       "<style type=\"text/css\">\n",
       "#T_9807a_row0_col0, #T_9807a_row0_col3, #T_9807a_row0_col5, #T_9807a_row1_col1, #T_9807a_row1_col4, #T_9807a_row2_col1, #T_9807a_row2_col4, #T_9807a_row3_col1, #T_9807a_row3_col2, #T_9807a_row3_col4, #T_9807a_row4_col0, #T_9807a_row4_col4, #T_9807a_row4_col5, #T_9807a_row5_col0, #T_9807a_row5_col4, #T_9807a_row5_col5, #T_9807a_row6_col0, #T_9807a_row6_col4, #T_9807a_row6_col5, #T_9807a_row7_col3, #T_9807a_row7_col4, #T_9807a_row7_col5, #T_9807a_row8_col0, #T_9807a_row8_col4, #T_9807a_row8_col5, #T_9807a_row9_col0, #T_9807a_row9_col4, #T_9807a_row9_col5, #T_9807a_row10_col0, #T_9807a_row10_col1, #T_9807a_row10_col3, #T_9807a_row11_col5, #T_9807a_row12_col4, #T_9807a_row13_col2, #T_9807a_row14_col0, #T_9807a_row14_col3, #T_9807a_row14_col5, #T_9807a_row15_col1, #T_9807a_row16_col1 {\n",
       "  background-color: red;\n",
       "}\n",
       "#T_9807a_row0_col1, #T_9807a_row0_col4, #T_9807a_row1_col0, #T_9807a_row2_col2, #T_9807a_row3_col3, #T_9807a_row4_col1, #T_9807a_row5_col3, #T_9807a_row6_col3, #T_9807a_row7_col0, #T_9807a_row8_col3, #T_9807a_row9_col3, #T_9807a_row10_col4, #T_9807a_row10_col5, #T_9807a_row11_col2, #T_9807a_row12_col2, #T_9807a_row13_col5, #T_9807a_row14_col2, #T_9807a_row15_col2, #T_9807a_row16_col2 {\n",
       "  background-color: lightgreen;\n",
       "}\n",
       "</style>\n",
       "<table id=\"T_9807a\">\n",
       "  <thead>\n",
       "    <tr>\n",
       "      <th class=\"index_name level0\" >segmento</th>\n",
       "      <th id=\"T_9807a_level0_col0\" class=\"col_heading level0 col0\" >0</th>\n",
       "      <th id=\"T_9807a_level0_col1\" class=\"col_heading level0 col1\" >1</th>\n",
       "      <th id=\"T_9807a_level0_col2\" class=\"col_heading level0 col2\" >2</th>\n",
       "      <th id=\"T_9807a_level0_col3\" class=\"col_heading level0 col3\" >3</th>\n",
       "      <th id=\"T_9807a_level0_col4\" class=\"col_heading level0 col4\" >4</th>\n",
       "      <th id=\"T_9807a_level0_col5\" class=\"col_heading level0 col5\" >5</th>\n",
       "    </tr>\n",
       "  </thead>\n",
       "  <tbody>\n",
       "    <tr>\n",
       "      <th id=\"T_9807a_level0_row0\" class=\"row_heading level0 row0\" >origen_API</th>\n",
       "      <td id=\"T_9807a_row0_col0\" class=\"data row0 col0\" >0.000000</td>\n",
       "      <td id=\"T_9807a_row0_col1\" class=\"data row0 col1\" >1.000000</td>\n",
       "      <td id=\"T_9807a_row0_col2\" class=\"data row0 col2\" >0.205950</td>\n",
       "      <td id=\"T_9807a_row0_col3\" class=\"data row0 col3\" >0.000000</td>\n",
       "      <td id=\"T_9807a_row0_col4\" class=\"data row0 col4\" >1.000000</td>\n",
       "      <td id=\"T_9807a_row0_col5\" class=\"data row0 col5\" >0.000000</td>\n",
       "    </tr>\n",
       "    <tr>\n",
       "      <th id=\"T_9807a_level0_row1\" class=\"row_heading level0 row1\" >origen_Landing Page Submission</th>\n",
       "      <td id=\"T_9807a_row1_col0\" class=\"data row1 col0\" >0.950731</td>\n",
       "      <td id=\"T_9807a_row1_col1\" class=\"data row1 col1\" >0.000000</td>\n",
       "      <td id=\"T_9807a_row1_col2\" class=\"data row1 col2\" >0.583524</td>\n",
       "      <td id=\"T_9807a_row1_col3\" class=\"data row1 col3\" >0.919180</td>\n",
       "      <td id=\"T_9807a_row1_col4\" class=\"data row1 col4\" >0.000000</td>\n",
       "      <td id=\"T_9807a_row1_col5\" class=\"data row1 col5\" >0.949038</td>\n",
       "    </tr>\n",
       "    <tr>\n",
       "      <th id=\"T_9807a_level0_row2\" class=\"row_heading level0 row2\" >origen_Lead Add Form</th>\n",
       "      <td id=\"T_9807a_row2_col0\" class=\"data row2 col0\" >0.039261</td>\n",
       "      <td id=\"T_9807a_row2_col1\" class=\"data row2 col1\" >0.000000</td>\n",
       "      <td id=\"T_9807a_row2_col2\" class=\"data row2 col2\" >0.210526</td>\n",
       "      <td id=\"T_9807a_row2_col3\" class=\"data row2 col3\" >0.068758</td>\n",
       "      <td id=\"T_9807a_row2_col4\" class=\"data row2 col4\" >0.000000</td>\n",
       "      <td id=\"T_9807a_row2_col5\" class=\"data row2 col5\" >0.044231</td>\n",
       "    </tr>\n",
       "    <tr>\n",
       "      <th id=\"T_9807a_level0_row3\" class=\"row_heading level0 row3\" >origen_OTROS</th>\n",
       "      <td id=\"T_9807a_row3_col0\" class=\"data row3 col0\" >0.010008</td>\n",
       "      <td id=\"T_9807a_row3_col1\" class=\"data row3 col1\" >0.000000</td>\n",
       "      <td id=\"T_9807a_row3_col2\" class=\"data row3 col2\" >0.000000</td>\n",
       "      <td id=\"T_9807a_row3_col3\" class=\"data row3 col3\" >0.012063</td>\n",
       "      <td id=\"T_9807a_row3_col4\" class=\"data row3 col4\" >0.000000</td>\n",
       "      <td id=\"T_9807a_row3_col5\" class=\"data row3 col5\" >0.006731</td>\n",
       "    </tr>\n",
       "    <tr>\n",
       "      <th id=\"T_9807a_level0_row4\" class=\"row_heading level0 row4\" >ult_actividad_Chat Conversation</th>\n",
       "      <td id=\"T_9807a_row4_col0\" class=\"data row4 col0\" >0.000000</td>\n",
       "      <td id=\"T_9807a_row4_col1\" class=\"data row4 col1\" >0.201984</td>\n",
       "      <td id=\"T_9807a_row4_col2\" class=\"data row4 col2\" >0.018307</td>\n",
       "      <td id=\"T_9807a_row4_col3\" class=\"data row4 col3\" >0.069964</td>\n",
       "      <td id=\"T_9807a_row4_col4\" class=\"data row4 col4\" >0.000000</td>\n",
       "      <td id=\"T_9807a_row4_col5\" class=\"data row4 col5\" >0.000000</td>\n",
       "    </tr>\n",
       "    <tr>\n",
       "      <th id=\"T_9807a_level0_row5\" class=\"row_heading level0 row5\" >ult_actividad_Converted to Lead</th>\n",
       "      <td id=\"T_9807a_row5_col0\" class=\"data row5 col0\" >0.000000</td>\n",
       "      <td id=\"T_9807a_row5_col1\" class=\"data row5 col1\" >0.099188</td>\n",
       "      <td id=\"T_9807a_row5_col2\" class=\"data row5 col2\" >0.025172</td>\n",
       "      <td id=\"T_9807a_row5_col3\" class=\"data row5 col3\" >0.213510</td>\n",
       "      <td id=\"T_9807a_row5_col4\" class=\"data row5 col4\" >0.000000</td>\n",
       "      <td id=\"T_9807a_row5_col5\" class=\"data row5 col5\" >0.000000</td>\n",
       "    </tr>\n",
       "    <tr>\n",
       "      <th id=\"T_9807a_level0_row6\" class=\"row_heading level0 row6\" >ult_actividad_Email Link Clicked</th>\n",
       "      <td id=\"T_9807a_row6_col0\" class=\"data row6 col0\" >0.000000</td>\n",
       "      <td id=\"T_9807a_row6_col1\" class=\"data row6 col1\" >0.045987</td>\n",
       "      <td id=\"T_9807a_row6_col2\" class=\"data row6 col2\" >0.034325</td>\n",
       "      <td id=\"T_9807a_row6_col3\" class=\"data row6 col3\" >0.109771</td>\n",
       "      <td id=\"T_9807a_row6_col4\" class=\"data row6 col4\" >0.000000</td>\n",
       "      <td id=\"T_9807a_row6_col5\" class=\"data row6 col5\" >0.000000</td>\n",
       "    </tr>\n",
       "    <tr>\n",
       "      <th id=\"T_9807a_level0_row7\" class=\"row_heading level0 row7\" >ult_actividad_Email Opened</th>\n",
       "      <td id=\"T_9807a_row7_col0\" class=\"data row7 col0\" >1.000000</td>\n",
       "      <td id=\"T_9807a_row7_col1\" class=\"data row7 col1\" >0.487827</td>\n",
       "      <td id=\"T_9807a_row7_col2\" class=\"data row7 col2\" >0.370709</td>\n",
       "      <td id=\"T_9807a_row7_col3\" class=\"data row7 col3\" >0.000000</td>\n",
       "      <td id=\"T_9807a_row7_col4\" class=\"data row7 col4\" >0.000000</td>\n",
       "      <td id=\"T_9807a_row7_col5\" class=\"data row7 col5\" >0.000000</td>\n",
       "    </tr>\n",
       "    <tr>\n",
       "      <th id=\"T_9807a_level0_row8\" class=\"row_heading level0 row8\" >ult_actividad_OTROS</th>\n",
       "      <td id=\"T_9807a_row8_col0\" class=\"data row8 col0\" >0.000000</td>\n",
       "      <td id=\"T_9807a_row8_col1\" class=\"data row8 col1\" >0.054103</td>\n",
       "      <td id=\"T_9807a_row8_col2\" class=\"data row8 col2\" >0.091533</td>\n",
       "      <td id=\"T_9807a_row8_col3\" class=\"data row8 col3\" >0.230398</td>\n",
       "      <td id=\"T_9807a_row8_col4\" class=\"data row8 col4\" >0.000000</td>\n",
       "      <td id=\"T_9807a_row8_col5\" class=\"data row8 col5\" >0.000000</td>\n",
       "    </tr>\n",
       "    <tr>\n",
       "      <th id=\"T_9807a_level0_row9\" class=\"row_heading level0 row9\" >ult_actividad_Page Visited on Website</th>\n",
       "      <td id=\"T_9807a_row9_col0\" class=\"data row9 col0\" >0.000000</td>\n",
       "      <td id=\"T_9807a_row9_col1\" class=\"data row9 col1\" >0.110911</td>\n",
       "      <td id=\"T_9807a_row9_col2\" class=\"data row9 col2\" >0.048055</td>\n",
       "      <td id=\"T_9807a_row9_col3\" class=\"data row9 col3\" >0.376357</td>\n",
       "      <td id=\"T_9807a_row9_col4\" class=\"data row9 col4\" >0.000000</td>\n",
       "      <td id=\"T_9807a_row9_col5\" class=\"data row9 col5\" >0.000000</td>\n",
       "    </tr>\n",
       "    <tr>\n",
       "      <th id=\"T_9807a_level0_row10\" class=\"row_heading level0 row10\" >ult_actividad_SMS Sent</th>\n",
       "      <td id=\"T_9807a_row10_col0\" class=\"data row10 col0\" >0.000000</td>\n",
       "      <td id=\"T_9807a_row10_col1\" class=\"data row10 col1\" >0.000000</td>\n",
       "      <td id=\"T_9807a_row10_col2\" class=\"data row10 col2\" >0.411899</td>\n",
       "      <td id=\"T_9807a_row10_col3\" class=\"data row10 col3\" >0.000000</td>\n",
       "      <td id=\"T_9807a_row10_col4\" class=\"data row10 col4\" >1.000000</td>\n",
       "      <td id=\"T_9807a_row10_col5\" class=\"data row10 col5\" >1.000000</td>\n",
       "    </tr>\n",
       "    <tr>\n",
       "      <th id=\"T_9807a_level0_row11\" class=\"row_heading level0 row11\" >ocupacion_OTROS</th>\n",
       "      <td id=\"T_9807a_row11_col0\" class=\"data row11 col0\" >0.005389</td>\n",
       "      <td id=\"T_9807a_row11_col1\" class=\"data row11 col1\" >0.007214</td>\n",
       "      <td id=\"T_9807a_row11_col2\" class=\"data row11 col2\" >0.013730</td>\n",
       "      <td id=\"T_9807a_row11_col3\" class=\"data row11 col3\" >0.004825</td>\n",
       "      <td id=\"T_9807a_row11_col4\" class=\"data row11 col4\" >0.002632</td>\n",
       "      <td id=\"T_9807a_row11_col5\" class=\"data row11 col5\" >0.000000</td>\n",
       "    </tr>\n",
       "    <tr>\n",
       "      <th id=\"T_9807a_level0_row12\" class=\"row_heading level0 row12\" >ocupacion_Student</th>\n",
       "      <td id=\"T_9807a_row12_col0\" class=\"data row12 col0\" >0.027714</td>\n",
       "      <td id=\"T_9807a_row12_col1\" class=\"data row12 col1\" >0.027051</td>\n",
       "      <td id=\"T_9807a_row12_col2\" class=\"data row12 col2\" >0.032037</td>\n",
       "      <td id=\"T_9807a_row12_col3\" class=\"data row12 col3\" >0.015682</td>\n",
       "      <td id=\"T_9807a_row12_col4\" class=\"data row12 col4\" >0.013158</td>\n",
       "      <td id=\"T_9807a_row12_col5\" class=\"data row12 col5\" >0.017308</td>\n",
       "    </tr>\n",
       "    <tr>\n",
       "      <th id=\"T_9807a_level0_row13\" class=\"row_heading level0 row13\" >ocupacion_Unemployed</th>\n",
       "      <td id=\"T_9807a_row13_col0\" class=\"data row13 col0\" >0.966898</td>\n",
       "      <td id=\"T_9807a_row13_col1\" class=\"data row13 col1\" >0.958521</td>\n",
       "      <td id=\"T_9807a_row13_col2\" class=\"data row13 col2\" >0.000000</td>\n",
       "      <td id=\"T_9807a_row13_col3\" class=\"data row13 col3\" >0.979493</td>\n",
       "      <td id=\"T_9807a_row13_col4\" class=\"data row13 col4\" >0.981579</td>\n",
       "      <td id=\"T_9807a_row13_col5\" class=\"data row13 col5\" >0.982692</td>\n",
       "    </tr>\n",
       "    <tr>\n",
       "      <th id=\"T_9807a_level0_row14\" class=\"row_heading level0 row14\" >ocupacion_Working Professional</th>\n",
       "      <td id=\"T_9807a_row14_col0\" class=\"data row14 col0\" >0.000000</td>\n",
       "      <td id=\"T_9807a_row14_col1\" class=\"data row14 col1\" >0.007214</td>\n",
       "      <td id=\"T_9807a_row14_col2\" class=\"data row14 col2\" >0.954233</td>\n",
       "      <td id=\"T_9807a_row14_col3\" class=\"data row14 col3\" >0.000000</td>\n",
       "      <td id=\"T_9807a_row14_col4\" class=\"data row14 col4\" >0.002632</td>\n",
       "      <td id=\"T_9807a_row14_col5\" class=\"data row14 col5\" >0.000000</td>\n",
       "    </tr>\n",
       "    <tr>\n",
       "      <th id=\"T_9807a_level0_row15\" class=\"row_heading level0 row15\" >tiempo_en_site_total_mms</th>\n",
       "      <td id=\"T_9807a_row15_col0\" class=\"data row15 col0\" >0.245261</td>\n",
       "      <td id=\"T_9807a_row15_col1\" class=\"data row15 col1\" >0.215169</td>\n",
       "      <td id=\"T_9807a_row15_col2\" class=\"data row15 col2\" >0.345847</td>\n",
       "      <td id=\"T_9807a_row15_col3\" class=\"data row15 col3\" >0.244531</td>\n",
       "      <td id=\"T_9807a_row15_col4\" class=\"data row15 col4\" >0.308630</td>\n",
       "      <td id=\"T_9807a_row15_col5\" class=\"data row15 col5\" >0.304073</td>\n",
       "    </tr>\n",
       "    <tr>\n",
       "      <th id=\"T_9807a_level0_row16\" class=\"row_heading level0 row16\" >compra</th>\n",
       "      <td id=\"T_9807a_row16_col0\" class=\"data row16 col0\" >0.316397</td>\n",
       "      <td id=\"T_9807a_row16_col1\" class=\"data row16 col1\" >0.233544</td>\n",
       "      <td id=\"T_9807a_row16_col2\" class=\"data row16 col2\" >0.938215</td>\n",
       "      <td id=\"T_9807a_row16_col3\" class=\"data row16 col3\" >0.249698</td>\n",
       "      <td id=\"T_9807a_row16_col4\" class=\"data row16 col4\" >0.650000</td>\n",
       "      <td id=\"T_9807a_row16_col5\" class=\"data row16 col5\" >0.498077</td>\n",
       "    </tr>\n",
       "  </tbody>\n",
       "</table>\n"
      ],
      "text/plain": [
       "<pandas.io.formats.style.Styler at 0x1b34185be50>"
      ]
     },
     "execution_count": 69,
     "metadata": {},
     "output_type": "execute_result"
    }
   ],
   "source": [
    "df.groupby('segmento').mean().T \\\n",
    "    .style.highlight_max(color = 'lightgreen', axis = 1) \\\n",
    "    .highlight_min(color = 'red', axis = 1)\n",
    "\n"
   ]
  },
  {
   "cell_type": "markdown",
   "id": "b5ad6ae7",
   "metadata": {},
   "source": [
    "Conclusiones:\n",
    "\n",
    "Segmento 0 que viene de una landing page que abre el email, que tienen un perfil de desempleados y que se pasa, no mucho tiempo en el site, la conversion de este segmento es poca.\n",
    "\n",
    "Segmento 1 viene a traves de API, del chat de conversacion y la mayoria son desempleados, son los que menos convierten.\n",
    "\n",
    "Semento 2, vienen a traves de formularios,landing_page,abren el email y la gran mayoria de estos perfiles son empleados y ademas son los que mas tiempo se pasan en el site, son los que mas convierten a compra.\n",
    "\n",
    "Segmento 3 vienen de una landing page, visitan bastante las paginas de la web y son perfiles desempleados, no convierten tanto a compra.\n",
    "\n",
    "Segmento 4 vienen a traves de API y SMS son perfiles desempleados y es el segundo segmento que mas convierte despues del segmento 2.\n",
    "\n",
    "Segmento 5 vienen a traves del SMS y son perfiles desempleados, tienen una conversion del 50%"
   ]
  },
  {
   "cell_type": "markdown",
   "id": "6ad67e56",
   "metadata": {},
   "source": [
    "EL CHAT no nos genera ningun lead de calidad.El SMS funciona muy bien, el email lo mantenemos pero para los que son profesionales en activo y se pasan horas en la pagina.\n",
    "\n",
    "Aquellos que abren el email y son desempleados convierten muy poco, por lo tanto no vamos a enviar email a este tipo de gente.\n"
   ]
  },
  {
   "cell_type": "markdown",
   "id": "4930ea34",
   "metadata": {},
   "source": [
    "ACCIONES QUE HAY QUE TOMAR\n",
    "1. Priorizar sobre los leads del segmento 2.\n",
    "2. Eliminar el CHAT.\n",
    "3. Eliminar de los envios que estamos haciendo con emails a personas desempleados o mejor dicho a todos los que no son empleados,dejarlos solo para los que son profesionales en activo y que llevan tiempo en el site.\n",
    "4. Mantener el SMS de recordatorio despues de origen_Landing Page Submission\n"
   ]
  },
  {
   "cell_type": "code",
   "execution_count": 74,
   "id": "ab23619d",
   "metadata": {},
   "outputs": [
    {
     "data": {
      "text/plain": [
       "0   0.26\n",
       "1   0.22\n",
       "5   0.20\n",
       "3   0.16\n",
       "2   0.09\n",
       "4   0.07\n",
       "Name: segmento, dtype: float64"
      ]
     },
     "execution_count": 74,
     "metadata": {},
     "output_type": "execute_result"
    }
   ],
   "source": [
    "df.segmento.value_counts(normalize=True)"
   ]
  },
  {
   "cell_type": "markdown",
   "id": "19c04262",
   "metadata": {},
   "source": [
    "#### INSIGHTS\n",
    "\n",
    "1. TENEMOS EL segmento 2 y 4 son los mejores, es decir un 16% de los leads que estamos generando son de muy buena calidad.\n",
    "\n",
    "2. Por otro lado tenemos el segmento 1 y 3 que actualmente estamos generando un 48% de los leads de muy mala calidad,porque no vamos a poder convertir practicamente a ninguno de ellos.En este caso podriamos prescindir del 40% de los leads que estamos generando y incluso podriamos revisar de manera mas profunda como estan llegando estos leads."
   ]
  }
 ],
 "metadata": {
  "kernelspec": {
   "display_name": "Python 3 (ipykernel)",
   "language": "python",
   "name": "python3"
  },
  "language_info": {
   "codemirror_mode": {
    "name": "ipython",
    "version": 3
   },
   "file_extension": ".py",
   "mimetype": "text/x-python",
   "name": "python",
   "nbconvert_exporter": "python",
   "pygments_lexer": "ipython3",
   "version": "3.10.8"
  },
  "toc": {
   "base_numbering": 1,
   "nav_menu": {},
   "number_sections": true,
   "sideBar": true,
   "skip_h1_title": false,
   "title_cell": "Table of Contents",
   "title_sidebar": "Contents",
   "toc_cell": false,
   "toc_position": {
    "height": "calc(100% - 180px)",
    "left": "10px",
    "top": "150px",
    "width": "253.938px"
   },
   "toc_section_display": true,
   "toc_window_display": true
  },
  "varInspector": {
   "cols": {
    "lenName": 16,
    "lenType": 16,
    "lenVar": 40
   },
   "kernels_config": {
    "python": {
     "delete_cmd_postfix": "",
     "delete_cmd_prefix": "del ",
     "library": "var_list.py",
     "varRefreshCmd": "print(var_dic_list())"
    },
    "r": {
     "delete_cmd_postfix": ") ",
     "delete_cmd_prefix": "rm(",
     "library": "var_list.r",
     "varRefreshCmd": "cat(var_dic_list()) "
    }
   },
   "position": {
    "height": "546.85px",
    "left": "1531.75px",
    "right": "20px",
    "top": "115px",
    "width": "350px"
   },
   "types_to_exclude": [
    "module",
    "function",
    "builtin_function_or_method",
    "instance",
    "_Feature"
   ],
   "window_display": false
  }
 },
 "nbformat": 4,
 "nbformat_minor": 5
}
