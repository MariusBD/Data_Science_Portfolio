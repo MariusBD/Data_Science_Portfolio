{
 "cells": [
  {
   "cell_type": "markdown",
   "id": "c7f65e25",
   "metadata": {},
   "source": [
    "# CODIGO DE RE-ENTRENAMIENTO"
   ]
  },
  {
   "cell_type": "markdown",
   "id": "73a0f588",
   "metadata": {},
   "source": [
    "*NOTA: Para poder usar este código de entrenamiento hay que lanzarlo desde exactamente el mismo entorno en el que fue creado.*\n",
    "\n",
    "*Se puede instalar ese entorno en la nueva máquina usando el environment.yml que creamos en el set up del proyecto*\n",
    "\n",
    "*Copiar el proyecto1.yml al directorio y en el terminal o anaconda prompt ejecutar:*\n",
    "\n",
    "conda env create --file proyecto1.yml --name proyecto1"
   ]
  },
  {
   "cell_type": "code",
   "execution_count": 6,
   "id": "ffe7be80",
   "metadata": {},
   "outputs": [
    {
     "name": "stderr",
     "output_type": "stream",
     "text": [
      "C:\\Users\\Marius\\miniconda3\\envs\\leadscoring\\lib\\site-packages\\sklearn\\linear_model\\_logistic.py:1113: UserWarning: Setting penalty='none' will ignore the C and l1_ratio parameters\n",
      "  warnings.warn(\n"
     ]
    }
   ],
   "source": [
    "import numpy as np\n",
    "import pandas as pd\n",
    "import cloudpickle #alternativa a pickle(guardar/cargar/ datos) pero amplia mas cosas\n",
    "\n",
    "#Automcompletar rápido\n",
    "%config IPCompleter.greedy=True\n",
    "\n",
    "#Esto se importa una vez hayamos hecho el excel\n",
    "\n",
    "from sklearn.preprocessing import OneHotEncoder\n",
    "from sklearn.preprocessing import MinMaxScaler\n",
    "\n",
    "from sklearn.linear_model import LogisticRegression\n",
    "\n",
    "\n",
    "#Las necesitamos en cualquier proyecto\n",
    "from sklearn.pipeline import Pipeline\n",
    "from sklearn.preprocessing import FunctionTransformer\n",
    "from sklearn.compose import make_column_transformer\n",
    "from sklearn.pipeline import make_pipeline\n",
    "\n",
    "\n",
    "ruta_proyecto = 'C:/Users/Marius/EstructuraDirectorio/03_MACHINE_LEARNING/06_CASOS/01_LEADSCORING'\n",
    "\n",
    "nombre_fichero_datos = 'Leads.csv'\n",
    "\n",
    "ruta_completa = ruta_proyecto + '/02_Datos/01_Originales/' + nombre_fichero_datos\n",
    "\n",
    "df = pd.read_csv(ruta_completa,index_col='id',sep=';')\n",
    "\n",
    "df = df.drop_duplicates()\n",
    "\n",
    "df = df.loc[(df.no_llamar != 'OTROS') & (df.no_enviar_email != 'Yes') & (df.ult_actividad != 'Email Bounced')]\n",
    "\n",
    "variables_finales = ['ambito',\n",
    "                     'descarga_lm',\n",
    "                     'ocupacion',\n",
    "                     'paginas_vistas_visita',\n",
    "                     'score_actividad',\n",
    "                     'score_perfil',\n",
    "                     'tiempo_en_site_total',\n",
    "                     'ult_actividad',\n",
    "                     'visitas_total'            \n",
    "                    ]\n",
    "\n",
    "target = 'compra'\n",
    "\n",
    "x = df[variables_finales].copy()\n",
    "\n",
    "y = df[target].copy()\n",
    "\n",
    "nombre_pipe_entrenamiento = 'pipe_entrenamiento.pickle'\n",
    "\n",
    "ruta_pipe_entrenamiento = ruta_proyecto + '/04_Modelos/' + nombre_pipe_entrenamiento\n",
    "\n",
    "with open(ruta_pipe_entrenamiento, mode='rb') as file:\n",
    "    pipe_entrenamiento = cloudpickle.load(file)\n",
    "\n",
    "pipe_ejecucion = pipe_entrenamiento.fit(x,y)\n",
    "\n",
    "nombre_pipe_ejecucion = 'pipe_ejecucion.pickle'\n",
    "\n",
    "ruta_pipe_ejecucion = ruta_proyecto + '/04_Modelos/' + nombre_pipe_ejecucion\n",
    "\n",
    "with open(ruta_pipe_ejecucion, mode='wb') as file:\n",
    "    cloudpickle.dump(pipe_ejecucion, file)"
   ]
  },
  {
   "cell_type": "code",
   "execution_count": null,
   "id": "a346ed6c",
   "metadata": {},
   "outputs": [],
   "source": []
  }
 ],
 "metadata": {
  "kernelspec": {
   "display_name": "Python 3 (ipykernel)",
   "language": "python",
   "name": "python3"
  },
  "language_info": {
   "codemirror_mode": {
    "name": "ipython",
    "version": 3
   },
   "file_extension": ".py",
   "mimetype": "text/x-python",
   "name": "python",
   "nbconvert_exporter": "python",
   "pygments_lexer": "ipython3",
   "version": "3.10.8"
  },
  "toc": {
   "base_numbering": 1,
   "nav_menu": {},
   "number_sections": true,
   "sideBar": true,
   "skip_h1_title": false,
   "title_cell": "Table of Contents",
   "title_sidebar": "Contents",
   "toc_cell": false,
   "toc_position": {
    "height": "calc(100% - 180px)",
    "left": "10px",
    "top": "150px",
    "width": "193.5px"
   },
   "toc_section_display": true,
   "toc_window_display": true
  },
  "varInspector": {
   "cols": {
    "lenName": 16,
    "lenType": 16,
    "lenVar": 40
   },
   "kernels_config": {
    "python": {
     "delete_cmd_postfix": "",
     "delete_cmd_prefix": "del ",
     "library": "var_list.py",
     "varRefreshCmd": "print(var_dic_list())"
    },
    "r": {
     "delete_cmd_postfix": ") ",
     "delete_cmd_prefix": "rm(",
     "library": "var_list.r",
     "varRefreshCmd": "cat(var_dic_list()) "
    }
   },
   "position": {
    "height": "388.85px",
    "left": "1070px",
    "right": "20px",
    "top": "120px",
    "width": "350px"
   },
   "types_to_exclude": [
    "module",
    "function",
    "builtin_function_or_method",
    "instance",
    "_Feature"
   ],
   "window_display": false
  }
 },
 "nbformat": 4,
 "nbformat_minor": 5
}
