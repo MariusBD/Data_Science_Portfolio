{
 "cells": [
  {
   "cell_type": "markdown",
   "id": "d31dea65",
   "metadata": {},
   "source": [
    "# CALIDAD DE DATOS"
   ]
  },
  {
   "cell_type": "markdown",
   "id": "swiss-fault",
   "metadata": {},
   "source": [
    "## IMPORTAR PAQUETES"
   ]
  },
  {
   "cell_type": "code",
   "execution_count": 107,
   "id": "adjacent-toddler",
   "metadata": {},
   "outputs": [],
   "source": [
    "import numpy as np\n",
    "import pandas as pd\n",
    "from janitor import clean_names\n",
    "\n",
    "#Automcompletar rápido\n",
    "%config IPCompleter.greedy=True"
   ]
  },
  {
   "cell_type": "markdown",
   "id": "graduate-compensation",
   "metadata": {},
   "source": [
    "## IMPORTAR LOS DATOS"
   ]
  },
  {
   "cell_type": "markdown",
   "id": "38bb812b",
   "metadata": {},
   "source": [
    "Sustituir la ruta del proyecto."
   ]
  },
  {
   "cell_type": "code",
   "execution_count": 108,
   "id": "28c63848",
   "metadata": {},
   "outputs": [],
   "source": [
    "ruta_proyecto = 'C:/Users/Marius/EstructuraDirectorio/03_MACHINE_LEARNING/06_CASOS/01_LEADSCORING'"
   ]
  },
  {
   "cell_type": "markdown",
   "id": "ba473b09",
   "metadata": {},
   "source": [
    "Sustituir el nombre_fichero_datos."
   ]
  },
  {
   "cell_type": "code",
   "execution_count": 109,
   "id": "5d9dc5ea",
   "metadata": {},
   "outputs": [],
   "source": [
    "nombre_fichero_datos = 'trabajo.csv'"
   ]
  },
  {
   "cell_type": "markdown",
   "id": "ae75bf0b",
   "metadata": {},
   "source": [
    "Cargar los datos."
   ]
  },
  {
   "cell_type": "code",
   "execution_count": 110,
   "id": "24ff453b",
   "metadata": {},
   "outputs": [
    {
     "data": {
      "text/html": [
       "<div>\n",
       "<style scoped>\n",
       "    .dataframe tbody tr th:only-of-type {\n",
       "        vertical-align: middle;\n",
       "    }\n",
       "\n",
       "    .dataframe tbody tr th {\n",
       "        vertical-align: top;\n",
       "    }\n",
       "\n",
       "    .dataframe thead th {\n",
       "        text-align: right;\n",
       "    }\n",
       "</style>\n",
       "<table border=\"1\" class=\"dataframe\">\n",
       "  <thead>\n",
       "    <tr style=\"text-align: right;\">\n",
       "      <th></th>\n",
       "      <th>origen</th>\n",
       "      <th>fuente</th>\n",
       "      <th>no_enviar_email</th>\n",
       "      <th>no_llamar</th>\n",
       "      <th>compra</th>\n",
       "      <th>visitas_total</th>\n",
       "      <th>tiempo_en_site_total</th>\n",
       "      <th>paginas_vistas_visita</th>\n",
       "      <th>ult_actividad</th>\n",
       "      <th>ambito</th>\n",
       "      <th>ocupacion</th>\n",
       "      <th>conociste_google</th>\n",
       "      <th>conociste_revista</th>\n",
       "      <th>conociste_periodico</th>\n",
       "      <th>conociste_youtube</th>\n",
       "      <th>conociste_facebook</th>\n",
       "      <th>conociste_referencias</th>\n",
       "      <th>score_actividad</th>\n",
       "      <th>score_perfil</th>\n",
       "      <th>descarga_lm</th>\n",
       "    </tr>\n",
       "    <tr>\n",
       "      <th>id</th>\n",
       "      <th></th>\n",
       "      <th></th>\n",
       "      <th></th>\n",
       "      <th></th>\n",
       "      <th></th>\n",
       "      <th></th>\n",
       "      <th></th>\n",
       "      <th></th>\n",
       "      <th></th>\n",
       "      <th></th>\n",
       "      <th></th>\n",
       "      <th></th>\n",
       "      <th></th>\n",
       "      <th></th>\n",
       "      <th></th>\n",
       "      <th></th>\n",
       "      <th></th>\n",
       "      <th></th>\n",
       "      <th></th>\n",
       "      <th></th>\n",
       "    </tr>\n",
       "  </thead>\n",
       "  <tbody>\n",
       "    <tr>\n",
       "      <th>660737</th>\n",
       "      <td>API</td>\n",
       "      <td>Chat</td>\n",
       "      <td>No</td>\n",
       "      <td>No</td>\n",
       "      <td>0</td>\n",
       "      <td>0.0</td>\n",
       "      <td>0</td>\n",
       "      <td>0.00</td>\n",
       "      <td>Page Visited on Website</td>\n",
       "      <td>Select</td>\n",
       "      <td>Unemployed</td>\n",
       "      <td>No</td>\n",
       "      <td>No</td>\n",
       "      <td>No</td>\n",
       "      <td>No</td>\n",
       "      <td>No</td>\n",
       "      <td>No</td>\n",
       "      <td>15.0</td>\n",
       "      <td>15.0</td>\n",
       "      <td>No</td>\n",
       "    </tr>\n",
       "    <tr>\n",
       "      <th>660728</th>\n",
       "      <td>API</td>\n",
       "      <td>Organic Search</td>\n",
       "      <td>No</td>\n",
       "      <td>No</td>\n",
       "      <td>0</td>\n",
       "      <td>5.0</td>\n",
       "      <td>674</td>\n",
       "      <td>2.50</td>\n",
       "      <td>Email Opened</td>\n",
       "      <td>Select</td>\n",
       "      <td>Unemployed</td>\n",
       "      <td>No</td>\n",
       "      <td>No</td>\n",
       "      <td>No</td>\n",
       "      <td>No</td>\n",
       "      <td>No</td>\n",
       "      <td>No</td>\n",
       "      <td>15.0</td>\n",
       "      <td>15.0</td>\n",
       "      <td>No</td>\n",
       "    </tr>\n",
       "    <tr>\n",
       "      <th>660719</th>\n",
       "      <td>Landing Page Submission</td>\n",
       "      <td>Direct Traffic</td>\n",
       "      <td>No</td>\n",
       "      <td>No</td>\n",
       "      <td>0</td>\n",
       "      <td>1.0</td>\n",
       "      <td>305</td>\n",
       "      <td>1.00</td>\n",
       "      <td>Unreachable</td>\n",
       "      <td>Media and Advertising</td>\n",
       "      <td>Unemployed</td>\n",
       "      <td>No</td>\n",
       "      <td>No</td>\n",
       "      <td>No</td>\n",
       "      <td>No</td>\n",
       "      <td>No</td>\n",
       "      <td>No</td>\n",
       "      <td>13.0</td>\n",
       "      <td>17.0</td>\n",
       "      <td>No</td>\n",
       "    </tr>\n",
       "    <tr>\n",
       "      <th>660681</th>\n",
       "      <td>Landing Page Submission</td>\n",
       "      <td>Google</td>\n",
       "      <td>No</td>\n",
       "      <td>No</td>\n",
       "      <td>1</td>\n",
       "      <td>2.0</td>\n",
       "      <td>1428</td>\n",
       "      <td>1.00</td>\n",
       "      <td>Converted to Lead</td>\n",
       "      <td>Select</td>\n",
       "      <td>Unemployed</td>\n",
       "      <td>No</td>\n",
       "      <td>No</td>\n",
       "      <td>No</td>\n",
       "      <td>No</td>\n",
       "      <td>No</td>\n",
       "      <td>No</td>\n",
       "      <td>15.0</td>\n",
       "      <td>18.0</td>\n",
       "      <td>No</td>\n",
       "    </tr>\n",
       "    <tr>\n",
       "      <th>660664</th>\n",
       "      <td>API</td>\n",
       "      <td>Chat</td>\n",
       "      <td>No</td>\n",
       "      <td>No</td>\n",
       "      <td>0</td>\n",
       "      <td>0.0</td>\n",
       "      <td>0</td>\n",
       "      <td>0.00</td>\n",
       "      <td>Chat Conversation</td>\n",
       "      <td>NaN</td>\n",
       "      <td>NaN</td>\n",
       "      <td>No</td>\n",
       "      <td>No</td>\n",
       "      <td>No</td>\n",
       "      <td>No</td>\n",
       "      <td>No</td>\n",
       "      <td>No</td>\n",
       "      <td>15.0</td>\n",
       "      <td>15.0</td>\n",
       "      <td>No</td>\n",
       "    </tr>\n",
       "    <tr>\n",
       "      <th>...</th>\n",
       "      <td>...</td>\n",
       "      <td>...</td>\n",
       "      <td>...</td>\n",
       "      <td>...</td>\n",
       "      <td>...</td>\n",
       "      <td>...</td>\n",
       "      <td>...</td>\n",
       "      <td>...</td>\n",
       "      <td>...</td>\n",
       "      <td>...</td>\n",
       "      <td>...</td>\n",
       "      <td>...</td>\n",
       "      <td>...</td>\n",
       "      <td>...</td>\n",
       "      <td>...</td>\n",
       "      <td>...</td>\n",
       "      <td>...</td>\n",
       "      <td>...</td>\n",
       "      <td>...</td>\n",
       "      <td>...</td>\n",
       "    </tr>\n",
       "    <tr>\n",
       "      <th>579615</th>\n",
       "      <td>Landing Page Submission</td>\n",
       "      <td>Direct Traffic</td>\n",
       "      <td>No</td>\n",
       "      <td>No</td>\n",
       "      <td>1</td>\n",
       "      <td>5.0</td>\n",
       "      <td>210</td>\n",
       "      <td>2.50</td>\n",
       "      <td>SMS Sent</td>\n",
       "      <td>Business Administration</td>\n",
       "      <td>Unemployed</td>\n",
       "      <td>No</td>\n",
       "      <td>No</td>\n",
       "      <td>No</td>\n",
       "      <td>No</td>\n",
       "      <td>No</td>\n",
       "      <td>No</td>\n",
       "      <td>14.0</td>\n",
       "      <td>20.0</td>\n",
       "      <td>No</td>\n",
       "    </tr>\n",
       "    <tr>\n",
       "      <th>579564</th>\n",
       "      <td>Landing Page Submission</td>\n",
       "      <td>Direct Traffic</td>\n",
       "      <td>Yes</td>\n",
       "      <td>No</td>\n",
       "      <td>1</td>\n",
       "      <td>8.0</td>\n",
       "      <td>1845</td>\n",
       "      <td>2.67</td>\n",
       "      <td>Email Marked Spam</td>\n",
       "      <td>IT Projects Management</td>\n",
       "      <td>Unemployed</td>\n",
       "      <td>No</td>\n",
       "      <td>No</td>\n",
       "      <td>No</td>\n",
       "      <td>No</td>\n",
       "      <td>No</td>\n",
       "      <td>No</td>\n",
       "      <td>15.0</td>\n",
       "      <td>17.0</td>\n",
       "      <td>No</td>\n",
       "    </tr>\n",
       "    <tr>\n",
       "      <th>579546</th>\n",
       "      <td>Landing Page Submission</td>\n",
       "      <td>Direct Traffic</td>\n",
       "      <td>No</td>\n",
       "      <td>No</td>\n",
       "      <td>0</td>\n",
       "      <td>2.0</td>\n",
       "      <td>238</td>\n",
       "      <td>2.00</td>\n",
       "      <td>SMS Sent</td>\n",
       "      <td>Media and Advertising</td>\n",
       "      <td>Unemployed</td>\n",
       "      <td>No</td>\n",
       "      <td>No</td>\n",
       "      <td>No</td>\n",
       "      <td>No</td>\n",
       "      <td>No</td>\n",
       "      <td>No</td>\n",
       "      <td>14.0</td>\n",
       "      <td>19.0</td>\n",
       "      <td>Yes</td>\n",
       "    </tr>\n",
       "    <tr>\n",
       "      <th>579538</th>\n",
       "      <td>Landing Page Submission</td>\n",
       "      <td>Google</td>\n",
       "      <td>No</td>\n",
       "      <td>No</td>\n",
       "      <td>1</td>\n",
       "      <td>3.0</td>\n",
       "      <td>499</td>\n",
       "      <td>3.00</td>\n",
       "      <td>SMS Sent</td>\n",
       "      <td>Human Resource Management</td>\n",
       "      <td>NaN</td>\n",
       "      <td>No</td>\n",
       "      <td>No</td>\n",
       "      <td>No</td>\n",
       "      <td>No</td>\n",
       "      <td>No</td>\n",
       "      <td>No</td>\n",
       "      <td>15.0</td>\n",
       "      <td>16.0</td>\n",
       "      <td>No</td>\n",
       "    </tr>\n",
       "    <tr>\n",
       "      <th>579533</th>\n",
       "      <td>Landing Page Submission</td>\n",
       "      <td>Direct Traffic</td>\n",
       "      <td>No</td>\n",
       "      <td>No</td>\n",
       "      <td>1</td>\n",
       "      <td>6.0</td>\n",
       "      <td>1279</td>\n",
       "      <td>3.00</td>\n",
       "      <td>SMS Sent</td>\n",
       "      <td>Supply Chain Management</td>\n",
       "      <td>Unemployed</td>\n",
       "      <td>No</td>\n",
       "      <td>No</td>\n",
       "      <td>No</td>\n",
       "      <td>No</td>\n",
       "      <td>No</td>\n",
       "      <td>No</td>\n",
       "      <td>15.0</td>\n",
       "      <td>18.0</td>\n",
       "      <td>Yes</td>\n",
       "    </tr>\n",
       "  </tbody>\n",
       "</table>\n",
       "<p>6365 rows × 20 columns</p>\n",
       "</div>"
      ],
      "text/plain": [
       "                         origen          fuente no_enviar_email no_llamar  \\\n",
       "id                                                                          \n",
       "660737                      API            Chat              No        No   \n",
       "660728                      API  Organic Search              No        No   \n",
       "660719  Landing Page Submission  Direct Traffic              No        No   \n",
       "660681  Landing Page Submission          Google              No        No   \n",
       "660664                      API            Chat              No        No   \n",
       "...                         ...             ...             ...       ...   \n",
       "579615  Landing Page Submission  Direct Traffic              No        No   \n",
       "579564  Landing Page Submission  Direct Traffic             Yes        No   \n",
       "579546  Landing Page Submission  Direct Traffic              No        No   \n",
       "579538  Landing Page Submission          Google              No        No   \n",
       "579533  Landing Page Submission  Direct Traffic              No        No   \n",
       "\n",
       "        compra  visitas_total  tiempo_en_site_total  paginas_vistas_visita  \\\n",
       "id                                                                           \n",
       "660737       0            0.0                     0                   0.00   \n",
       "660728       0            5.0                   674                   2.50   \n",
       "660719       0            1.0                   305                   1.00   \n",
       "660681       1            2.0                  1428                   1.00   \n",
       "660664       0            0.0                     0                   0.00   \n",
       "...        ...            ...                   ...                    ...   \n",
       "579615       1            5.0                   210                   2.50   \n",
       "579564       1            8.0                  1845                   2.67   \n",
       "579546       0            2.0                   238                   2.00   \n",
       "579538       1            3.0                   499                   3.00   \n",
       "579533       1            6.0                  1279                   3.00   \n",
       "\n",
       "                  ult_actividad                     ambito   ocupacion  \\\n",
       "id                                                                       \n",
       "660737  Page Visited on Website                     Select  Unemployed   \n",
       "660728             Email Opened                     Select  Unemployed   \n",
       "660719              Unreachable      Media and Advertising  Unemployed   \n",
       "660681        Converted to Lead                     Select  Unemployed   \n",
       "660664        Chat Conversation                        NaN         NaN   \n",
       "...                         ...                        ...         ...   \n",
       "579615                 SMS Sent    Business Administration  Unemployed   \n",
       "579564        Email Marked Spam     IT Projects Management  Unemployed   \n",
       "579546                 SMS Sent      Media and Advertising  Unemployed   \n",
       "579538                 SMS Sent  Human Resource Management         NaN   \n",
       "579533                 SMS Sent    Supply Chain Management  Unemployed   \n",
       "\n",
       "       conociste_google conociste_revista conociste_periodico  \\\n",
       "id                                                              \n",
       "660737               No                No                  No   \n",
       "660728               No                No                  No   \n",
       "660719               No                No                  No   \n",
       "660681               No                No                  No   \n",
       "660664               No                No                  No   \n",
       "...                 ...               ...                 ...   \n",
       "579615               No                No                  No   \n",
       "579564               No                No                  No   \n",
       "579546               No                No                  No   \n",
       "579538               No                No                  No   \n",
       "579533               No                No                  No   \n",
       "\n",
       "       conociste_youtube conociste_facebook conociste_referencias  \\\n",
       "id                                                                  \n",
       "660737                No                 No                    No   \n",
       "660728                No                 No                    No   \n",
       "660719                No                 No                    No   \n",
       "660681                No                 No                    No   \n",
       "660664                No                 No                    No   \n",
       "...                  ...                ...                   ...   \n",
       "579615                No                 No                    No   \n",
       "579564                No                 No                    No   \n",
       "579546                No                 No                    No   \n",
       "579538                No                 No                    No   \n",
       "579533                No                 No                    No   \n",
       "\n",
       "        score_actividad  score_perfil descarga_lm  \n",
       "id                                                 \n",
       "660737             15.0          15.0          No  \n",
       "660728             15.0          15.0          No  \n",
       "660719             13.0          17.0          No  \n",
       "660681             15.0          18.0          No  \n",
       "660664             15.0          15.0          No  \n",
       "...                 ...           ...         ...  \n",
       "579615             14.0          20.0          No  \n",
       "579564             15.0          17.0          No  \n",
       "579546             14.0          19.0         Yes  \n",
       "579538             15.0          16.0          No  \n",
       "579533             15.0          18.0         Yes  \n",
       "\n",
       "[6365 rows x 20 columns]"
      ]
     },
     "execution_count": 110,
     "metadata": {},
     "output_type": "execute_result"
    }
   ],
   "source": [
    "ruta_completa = ruta_proyecto + '/02_Datos/03_Trabajo/' + nombre_fichero_datos\n",
    "\n",
    "df = pd.read_csv(ruta_completa,index_col='id',sep=',')\n",
    "df"
   ]
  },
  {
   "cell_type": "markdown",
   "id": "d2d5443c",
   "metadata": {},
   "source": [
    "## VISIÓN GENERAL"
   ]
  },
  {
   "cell_type": "code",
   "execution_count": 111,
   "id": "f1517b55",
   "metadata": {},
   "outputs": [
    {
     "data": {
      "text/html": [
       "<div>\n",
       "<style scoped>\n",
       "    .dataframe tbody tr th:only-of-type {\n",
       "        vertical-align: middle;\n",
       "    }\n",
       "\n",
       "    .dataframe tbody tr th {\n",
       "        vertical-align: top;\n",
       "    }\n",
       "\n",
       "    .dataframe thead th {\n",
       "        text-align: right;\n",
       "    }\n",
       "</style>\n",
       "<table border=\"1\" class=\"dataframe\">\n",
       "  <thead>\n",
       "    <tr style=\"text-align: right;\">\n",
       "      <th></th>\n",
       "      <th>origen</th>\n",
       "      <th>fuente</th>\n",
       "      <th>no_enviar_email</th>\n",
       "      <th>no_llamar</th>\n",
       "      <th>compra</th>\n",
       "      <th>visitas_total</th>\n",
       "      <th>tiempo_en_site_total</th>\n",
       "      <th>paginas_vistas_visita</th>\n",
       "      <th>ult_actividad</th>\n",
       "      <th>ambito</th>\n",
       "      <th>ocupacion</th>\n",
       "      <th>conociste_google</th>\n",
       "      <th>conociste_revista</th>\n",
       "      <th>conociste_periodico</th>\n",
       "      <th>conociste_youtube</th>\n",
       "      <th>conociste_facebook</th>\n",
       "      <th>conociste_referencias</th>\n",
       "      <th>score_actividad</th>\n",
       "      <th>score_perfil</th>\n",
       "      <th>descarga_lm</th>\n",
       "    </tr>\n",
       "    <tr>\n",
       "      <th>id</th>\n",
       "      <th></th>\n",
       "      <th></th>\n",
       "      <th></th>\n",
       "      <th></th>\n",
       "      <th></th>\n",
       "      <th></th>\n",
       "      <th></th>\n",
       "      <th></th>\n",
       "      <th></th>\n",
       "      <th></th>\n",
       "      <th></th>\n",
       "      <th></th>\n",
       "      <th></th>\n",
       "      <th></th>\n",
       "      <th></th>\n",
       "      <th></th>\n",
       "      <th></th>\n",
       "      <th></th>\n",
       "      <th></th>\n",
       "      <th></th>\n",
       "    </tr>\n",
       "  </thead>\n",
       "  <tbody>\n",
       "    <tr>\n",
       "      <th>660737</th>\n",
       "      <td>API</td>\n",
       "      <td>Chat</td>\n",
       "      <td>No</td>\n",
       "      <td>No</td>\n",
       "      <td>0</td>\n",
       "      <td>0.0</td>\n",
       "      <td>0</td>\n",
       "      <td>0.0</td>\n",
       "      <td>Page Visited on Website</td>\n",
       "      <td>Select</td>\n",
       "      <td>Unemployed</td>\n",
       "      <td>No</td>\n",
       "      <td>No</td>\n",
       "      <td>No</td>\n",
       "      <td>No</td>\n",
       "      <td>No</td>\n",
       "      <td>No</td>\n",
       "      <td>15.0</td>\n",
       "      <td>15.0</td>\n",
       "      <td>No</td>\n",
       "    </tr>\n",
       "    <tr>\n",
       "      <th>660728</th>\n",
       "      <td>API</td>\n",
       "      <td>Organic Search</td>\n",
       "      <td>No</td>\n",
       "      <td>No</td>\n",
       "      <td>0</td>\n",
       "      <td>5.0</td>\n",
       "      <td>674</td>\n",
       "      <td>2.5</td>\n",
       "      <td>Email Opened</td>\n",
       "      <td>Select</td>\n",
       "      <td>Unemployed</td>\n",
       "      <td>No</td>\n",
       "      <td>No</td>\n",
       "      <td>No</td>\n",
       "      <td>No</td>\n",
       "      <td>No</td>\n",
       "      <td>No</td>\n",
       "      <td>15.0</td>\n",
       "      <td>15.0</td>\n",
       "      <td>No</td>\n",
       "    </tr>\n",
       "    <tr>\n",
       "      <th>660719</th>\n",
       "      <td>Landing Page Submission</td>\n",
       "      <td>Direct Traffic</td>\n",
       "      <td>No</td>\n",
       "      <td>No</td>\n",
       "      <td>0</td>\n",
       "      <td>1.0</td>\n",
       "      <td>305</td>\n",
       "      <td>1.0</td>\n",
       "      <td>Unreachable</td>\n",
       "      <td>Media and Advertising</td>\n",
       "      <td>Unemployed</td>\n",
       "      <td>No</td>\n",
       "      <td>No</td>\n",
       "      <td>No</td>\n",
       "      <td>No</td>\n",
       "      <td>No</td>\n",
       "      <td>No</td>\n",
       "      <td>13.0</td>\n",
       "      <td>17.0</td>\n",
       "      <td>No</td>\n",
       "    </tr>\n",
       "    <tr>\n",
       "      <th>660681</th>\n",
       "      <td>Landing Page Submission</td>\n",
       "      <td>Google</td>\n",
       "      <td>No</td>\n",
       "      <td>No</td>\n",
       "      <td>1</td>\n",
       "      <td>2.0</td>\n",
       "      <td>1428</td>\n",
       "      <td>1.0</td>\n",
       "      <td>Converted to Lead</td>\n",
       "      <td>Select</td>\n",
       "      <td>Unemployed</td>\n",
       "      <td>No</td>\n",
       "      <td>No</td>\n",
       "      <td>No</td>\n",
       "      <td>No</td>\n",
       "      <td>No</td>\n",
       "      <td>No</td>\n",
       "      <td>15.0</td>\n",
       "      <td>18.0</td>\n",
       "      <td>No</td>\n",
       "    </tr>\n",
       "    <tr>\n",
       "      <th>660664</th>\n",
       "      <td>API</td>\n",
       "      <td>Chat</td>\n",
       "      <td>No</td>\n",
       "      <td>No</td>\n",
       "      <td>0</td>\n",
       "      <td>0.0</td>\n",
       "      <td>0</td>\n",
       "      <td>0.0</td>\n",
       "      <td>Chat Conversation</td>\n",
       "      <td>NaN</td>\n",
       "      <td>NaN</td>\n",
       "      <td>No</td>\n",
       "      <td>No</td>\n",
       "      <td>No</td>\n",
       "      <td>No</td>\n",
       "      <td>No</td>\n",
       "      <td>No</td>\n",
       "      <td>15.0</td>\n",
       "      <td>15.0</td>\n",
       "      <td>No</td>\n",
       "    </tr>\n",
       "  </tbody>\n",
       "</table>\n",
       "</div>"
      ],
      "text/plain": [
       "                         origen          fuente no_enviar_email no_llamar  \\\n",
       "id                                                                          \n",
       "660737                      API            Chat              No        No   \n",
       "660728                      API  Organic Search              No        No   \n",
       "660719  Landing Page Submission  Direct Traffic              No        No   \n",
       "660681  Landing Page Submission          Google              No        No   \n",
       "660664                      API            Chat              No        No   \n",
       "\n",
       "        compra  visitas_total  tiempo_en_site_total  paginas_vistas_visita  \\\n",
       "id                                                                           \n",
       "660737       0            0.0                     0                    0.0   \n",
       "660728       0            5.0                   674                    2.5   \n",
       "660719       0            1.0                   305                    1.0   \n",
       "660681       1            2.0                  1428                    1.0   \n",
       "660664       0            0.0                     0                    0.0   \n",
       "\n",
       "                  ult_actividad                 ambito   ocupacion  \\\n",
       "id                                                                   \n",
       "660737  Page Visited on Website                 Select  Unemployed   \n",
       "660728             Email Opened                 Select  Unemployed   \n",
       "660719              Unreachable  Media and Advertising  Unemployed   \n",
       "660681        Converted to Lead                 Select  Unemployed   \n",
       "660664        Chat Conversation                    NaN         NaN   \n",
       "\n",
       "       conociste_google conociste_revista conociste_periodico  \\\n",
       "id                                                              \n",
       "660737               No                No                  No   \n",
       "660728               No                No                  No   \n",
       "660719               No                No                  No   \n",
       "660681               No                No                  No   \n",
       "660664               No                No                  No   \n",
       "\n",
       "       conociste_youtube conociste_facebook conociste_referencias  \\\n",
       "id                                                                  \n",
       "660737                No                 No                    No   \n",
       "660728                No                 No                    No   \n",
       "660719                No                 No                    No   \n",
       "660681                No                 No                    No   \n",
       "660664                No                 No                    No   \n",
       "\n",
       "        score_actividad  score_perfil descarga_lm  \n",
       "id                                                 \n",
       "660737             15.0          15.0          No  \n",
       "660728             15.0          15.0          No  \n",
       "660719             13.0          17.0          No  \n",
       "660681             15.0          18.0          No  \n",
       "660664             15.0          15.0          No  "
      ]
     },
     "execution_count": 111,
     "metadata": {},
     "output_type": "execute_result"
    }
   ],
   "source": [
    "df.head()"
   ]
  },
  {
   "cell_type": "code",
   "execution_count": 75,
   "id": "976c8ac6",
   "metadata": {},
   "outputs": [
    {
     "name": "stdout",
     "output_type": "stream",
     "text": [
      "<class 'pandas.core.frame.DataFrame'>\n",
      "Int64Index: 6365 entries, 660737 to 579533\n",
      "Data columns (total 20 columns):\n",
      " #   Column                 Non-Null Count  Dtype  \n",
      "---  ------                 --------------  -----  \n",
      " 0   origen                 6365 non-null   object \n",
      " 1   fuente                 6348 non-null   object \n",
      " 2   no_enviar_email        6365 non-null   object \n",
      " 3   no_llamar              6365 non-null   object \n",
      " 4   compra                 6365 non-null   int64  \n",
      " 5   visitas_total          6287 non-null   float64\n",
      " 6   tiempo_en_site_total   6365 non-null   int64  \n",
      " 7   paginas_vistas_visita  6287 non-null   float64\n",
      " 8   ult_actividad          6308 non-null   object \n",
      " 9   ambito                 5353 non-null   object \n",
      " 10  ocupacion              4494 non-null   object \n",
      " 11  conociste_google       6365 non-null   object \n",
      " 12  conociste_revista      6365 non-null   object \n",
      " 13  conociste_periodico    6365 non-null   object \n",
      " 14  conociste_youtube      6365 non-null   object \n",
      " 15  conociste_facebook     6365 non-null   object \n",
      " 16  conociste_referencias  6365 non-null   object \n",
      " 17  score_actividad        3472 non-null   float64\n",
      " 18  score_perfil           3472 non-null   float64\n",
      " 19  descarga_lm            6365 non-null   object \n",
      "dtypes: float64(4), int64(2), object(14)\n",
      "memory usage: 1.0+ MB\n"
     ]
    }
   ],
   "source": [
    "df.info()"
   ]
  },
  {
   "cell_type": "markdown",
   "id": "158ee1d7",
   "metadata": {},
   "source": [
    "## TIPOS DE DATOS"
   ]
  },
  {
   "cell_type": "markdown",
   "id": "88162727",
   "metadata": {},
   "source": [
    "### Identificación"
   ]
  },
  {
   "cell_type": "code",
   "execution_count": 112,
   "id": "197a99c2",
   "metadata": {},
   "outputs": [
    {
     "data": {
      "text/plain": [
       "origen                    object\n",
       "fuente                    object\n",
       "no_enviar_email           object\n",
       "no_llamar                 object\n",
       "compra                     int64\n",
       "visitas_total            float64\n",
       "tiempo_en_site_total       int64\n",
       "paginas_vistas_visita    float64\n",
       "ult_actividad             object\n",
       "ambito                    object\n",
       "ocupacion                 object\n",
       "conociste_google          object\n",
       "conociste_revista         object\n",
       "conociste_periodico       object\n",
       "conociste_youtube         object\n",
       "conociste_facebook        object\n",
       "conociste_referencias     object\n",
       "score_actividad          float64\n",
       "score_perfil             float64\n",
       "descarga_lm               object\n",
       "dtype: object"
      ]
     },
     "execution_count": 112,
     "metadata": {},
     "output_type": "execute_result"
    }
   ],
   "source": [
    "df.dtypes\n",
    "#visitas_total seria int64"
   ]
  },
  {
   "cell_type": "markdown",
   "id": "54f495a6",
   "metadata": {},
   "source": [
    "### Corrección"
   ]
  },
  {
   "cell_type": "code",
   "execution_count": 114,
   "id": "828b9893",
   "metadata": {
    "scrolled": true
   },
   "outputs": [
    {
     "data": {
      "text/plain": [
       "origen                    object\n",
       "fuente                    object\n",
       "no_enviar_email           object\n",
       "no_llamar                 object\n",
       "compra                     int64\n",
       "visitas_total              Int64\n",
       "tiempo_en_site_total       int64\n",
       "paginas_vistas_visita    float64\n",
       "ult_actividad             object\n",
       "ambito                    object\n",
       "ocupacion                 object\n",
       "conociste_google          object\n",
       "conociste_revista         object\n",
       "conociste_periodico       object\n",
       "conociste_youtube         object\n",
       "conociste_facebook        object\n",
       "conociste_referencias     object\n",
       "score_actividad          float64\n",
       "score_perfil             float64\n",
       "descarga_lm               object\n",
       "dtype: object"
      ]
     },
     "execution_count": 114,
     "metadata": {},
     "output_type": "execute_result"
    }
   ],
   "source": [
    "df = df.astype({'visitas_total':'Int64'})\n",
    "\n",
    "df.dtypes"
   ]
  },
  {
   "cell_type": "markdown",
   "id": "cc8d4a22",
   "metadata": {},
   "source": [
    "## VALORES ÚNICOS"
   ]
  },
  {
   "cell_type": "markdown",
   "id": "f21f0e36",
   "metadata": {},
   "source": [
    "### Identificación"
   ]
  },
  {
   "cell_type": "code",
   "execution_count": 116,
   "id": "6e53e444",
   "metadata": {},
   "outputs": [
    {
     "data": {
      "text/plain": [
       "conociste_youtube           1\n",
       "conociste_revista           1\n",
       "descarga_lm                 2\n",
       "conociste_referencias       2\n",
       "no_enviar_email             2\n",
       "no_llamar                   2\n",
       "compra                      2\n",
       "conociste_facebook          2\n",
       "conociste_periodico         2\n",
       "conociste_google            2\n",
       "origen                      4\n",
       "ocupacion                   6\n",
       "score_perfil               10\n",
       "score_actividad            12\n",
       "ult_actividad              15\n",
       "fuente                     16\n",
       "ambito                     19\n",
       "visitas_total              36\n",
       "paginas_vistas_visita     103\n",
       "tiempo_en_site_total     1591\n",
       "dtype: int64"
      ]
     },
     "execution_count": 116,
     "metadata": {},
     "output_type": "execute_result"
    }
   ],
   "source": [
    "df.nunique().sort_values()"
   ]
  },
  {
   "cell_type": "code",
   "execution_count": 79,
   "id": "e02693b1",
   "metadata": {},
   "outputs": [
    {
     "data": {
      "text/plain": [
       "No    6365\n",
       "Name: conociste_revista, dtype: int64"
      ]
     },
     "execution_count": 79,
     "metadata": {},
     "output_type": "execute_result"
    }
   ],
   "source": [
    "df.conociste_youtube.value_counts()\n",
    "df.conociste_revista.value_counts()\n",
    "#Una variable que tiene un unico es una constante, por tanto la eliminamos"
   ]
  },
  {
   "cell_type": "markdown",
   "id": "b1d1a668",
   "metadata": {},
   "source": [
    "### Corrección"
   ]
  },
  {
   "cell_type": "code",
   "execution_count": 117,
   "id": "62f7d14e",
   "metadata": {},
   "outputs": [],
   "source": [
    "df.drop(columns = ['conociste_youtube','conociste_revista'], inplace = True)"
   ]
  },
  {
   "cell_type": "markdown",
   "id": "e25cfc89",
   "metadata": {},
   "source": [
    "## DUPLICADOS"
   ]
  },
  {
   "cell_type": "markdown",
   "id": "8a079ed3",
   "metadata": {},
   "source": [
    "### Identificación"
   ]
  },
  {
   "cell_type": "code",
   "execution_count": 119,
   "id": "f5b23bfc",
   "metadata": {
    "scrolled": true
   },
   "outputs": [
    {
     "data": {
      "text/plain": [
       "1066"
      ]
     },
     "execution_count": 119,
     "metadata": {},
     "output_type": "execute_result"
    }
   ],
   "source": [
    "df.duplicated().sum()"
   ]
  },
  {
   "cell_type": "markdown",
   "id": "d440242b",
   "metadata": {},
   "source": [
    "### Corrección"
   ]
  },
  {
   "cell_type": "code",
   "execution_count": 120,
   "id": "a693f362",
   "metadata": {},
   "outputs": [],
   "source": [
    "df.drop_duplicates(inplace = True)"
   ]
  },
  {
   "cell_type": "markdown",
   "id": "632ec2cd",
   "metadata": {},
   "source": [
    "## SEPARAR NUMÉRICAS Y CATEGÓRICAS"
   ]
  },
  {
   "cell_type": "markdown",
   "id": "573a61ac",
   "metadata": {},
   "source": [
    "### Categóricas"
   ]
  },
  {
   "cell_type": "code",
   "execution_count": 122,
   "id": "47a7eece",
   "metadata": {},
   "outputs": [],
   "source": [
    "cat = df.select_dtypes(exclude = 'number').copy()"
   ]
  },
  {
   "cell_type": "code",
   "execution_count": 123,
   "id": "fb42e21e",
   "metadata": {},
   "outputs": [
    {
     "data": {
      "text/html": [
       "<div>\n",
       "<style scoped>\n",
       "    .dataframe tbody tr th:only-of-type {\n",
       "        vertical-align: middle;\n",
       "    }\n",
       "\n",
       "    .dataframe tbody tr th {\n",
       "        vertical-align: top;\n",
       "    }\n",
       "\n",
       "    .dataframe thead th {\n",
       "        text-align: right;\n",
       "    }\n",
       "</style>\n",
       "<table border=\"1\" class=\"dataframe\">\n",
       "  <thead>\n",
       "    <tr style=\"text-align: right;\">\n",
       "      <th></th>\n",
       "      <th>origen</th>\n",
       "      <th>fuente</th>\n",
       "      <th>no_enviar_email</th>\n",
       "      <th>no_llamar</th>\n",
       "      <th>ult_actividad</th>\n",
       "      <th>ambito</th>\n",
       "      <th>ocupacion</th>\n",
       "      <th>conociste_google</th>\n",
       "      <th>conociste_periodico</th>\n",
       "      <th>conociste_facebook</th>\n",
       "      <th>conociste_referencias</th>\n",
       "      <th>descarga_lm</th>\n",
       "    </tr>\n",
       "    <tr>\n",
       "      <th>id</th>\n",
       "      <th></th>\n",
       "      <th></th>\n",
       "      <th></th>\n",
       "      <th></th>\n",
       "      <th></th>\n",
       "      <th></th>\n",
       "      <th></th>\n",
       "      <th></th>\n",
       "      <th></th>\n",
       "      <th></th>\n",
       "      <th></th>\n",
       "      <th></th>\n",
       "    </tr>\n",
       "  </thead>\n",
       "  <tbody>\n",
       "    <tr>\n",
       "      <th>660737</th>\n",
       "      <td>API</td>\n",
       "      <td>Chat</td>\n",
       "      <td>No</td>\n",
       "      <td>No</td>\n",
       "      <td>Page Visited on Website</td>\n",
       "      <td>Select</td>\n",
       "      <td>Unemployed</td>\n",
       "      <td>No</td>\n",
       "      <td>No</td>\n",
       "      <td>No</td>\n",
       "      <td>No</td>\n",
       "      <td>No</td>\n",
       "    </tr>\n",
       "    <tr>\n",
       "      <th>660728</th>\n",
       "      <td>API</td>\n",
       "      <td>Organic Search</td>\n",
       "      <td>No</td>\n",
       "      <td>No</td>\n",
       "      <td>Email Opened</td>\n",
       "      <td>Select</td>\n",
       "      <td>Unemployed</td>\n",
       "      <td>No</td>\n",
       "      <td>No</td>\n",
       "      <td>No</td>\n",
       "      <td>No</td>\n",
       "      <td>No</td>\n",
       "    </tr>\n",
       "    <tr>\n",
       "      <th>660719</th>\n",
       "      <td>Landing Page Submission</td>\n",
       "      <td>Direct Traffic</td>\n",
       "      <td>No</td>\n",
       "      <td>No</td>\n",
       "      <td>Unreachable</td>\n",
       "      <td>Media and Advertising</td>\n",
       "      <td>Unemployed</td>\n",
       "      <td>No</td>\n",
       "      <td>No</td>\n",
       "      <td>No</td>\n",
       "      <td>No</td>\n",
       "      <td>No</td>\n",
       "    </tr>\n",
       "    <tr>\n",
       "      <th>660681</th>\n",
       "      <td>Landing Page Submission</td>\n",
       "      <td>Google</td>\n",
       "      <td>No</td>\n",
       "      <td>No</td>\n",
       "      <td>Converted to Lead</td>\n",
       "      <td>Select</td>\n",
       "      <td>Unemployed</td>\n",
       "      <td>No</td>\n",
       "      <td>No</td>\n",
       "      <td>No</td>\n",
       "      <td>No</td>\n",
       "      <td>No</td>\n",
       "    </tr>\n",
       "    <tr>\n",
       "      <th>660664</th>\n",
       "      <td>API</td>\n",
       "      <td>Chat</td>\n",
       "      <td>No</td>\n",
       "      <td>No</td>\n",
       "      <td>Chat Conversation</td>\n",
       "      <td>NaN</td>\n",
       "      <td>NaN</td>\n",
       "      <td>No</td>\n",
       "      <td>No</td>\n",
       "      <td>No</td>\n",
       "      <td>No</td>\n",
       "      <td>No</td>\n",
       "    </tr>\n",
       "    <tr>\n",
       "      <th>...</th>\n",
       "      <td>...</td>\n",
       "      <td>...</td>\n",
       "      <td>...</td>\n",
       "      <td>...</td>\n",
       "      <td>...</td>\n",
       "      <td>...</td>\n",
       "      <td>...</td>\n",
       "      <td>...</td>\n",
       "      <td>...</td>\n",
       "      <td>...</td>\n",
       "      <td>...</td>\n",
       "      <td>...</td>\n",
       "    </tr>\n",
       "    <tr>\n",
       "      <th>579615</th>\n",
       "      <td>Landing Page Submission</td>\n",
       "      <td>Direct Traffic</td>\n",
       "      <td>No</td>\n",
       "      <td>No</td>\n",
       "      <td>SMS Sent</td>\n",
       "      <td>Business Administration</td>\n",
       "      <td>Unemployed</td>\n",
       "      <td>No</td>\n",
       "      <td>No</td>\n",
       "      <td>No</td>\n",
       "      <td>No</td>\n",
       "      <td>No</td>\n",
       "    </tr>\n",
       "    <tr>\n",
       "      <th>579564</th>\n",
       "      <td>Landing Page Submission</td>\n",
       "      <td>Direct Traffic</td>\n",
       "      <td>Yes</td>\n",
       "      <td>No</td>\n",
       "      <td>Email Marked Spam</td>\n",
       "      <td>IT Projects Management</td>\n",
       "      <td>Unemployed</td>\n",
       "      <td>No</td>\n",
       "      <td>No</td>\n",
       "      <td>No</td>\n",
       "      <td>No</td>\n",
       "      <td>No</td>\n",
       "    </tr>\n",
       "    <tr>\n",
       "      <th>579546</th>\n",
       "      <td>Landing Page Submission</td>\n",
       "      <td>Direct Traffic</td>\n",
       "      <td>No</td>\n",
       "      <td>No</td>\n",
       "      <td>SMS Sent</td>\n",
       "      <td>Media and Advertising</td>\n",
       "      <td>Unemployed</td>\n",
       "      <td>No</td>\n",
       "      <td>No</td>\n",
       "      <td>No</td>\n",
       "      <td>No</td>\n",
       "      <td>Yes</td>\n",
       "    </tr>\n",
       "    <tr>\n",
       "      <th>579538</th>\n",
       "      <td>Landing Page Submission</td>\n",
       "      <td>Google</td>\n",
       "      <td>No</td>\n",
       "      <td>No</td>\n",
       "      <td>SMS Sent</td>\n",
       "      <td>Human Resource Management</td>\n",
       "      <td>NaN</td>\n",
       "      <td>No</td>\n",
       "      <td>No</td>\n",
       "      <td>No</td>\n",
       "      <td>No</td>\n",
       "      <td>No</td>\n",
       "    </tr>\n",
       "    <tr>\n",
       "      <th>579533</th>\n",
       "      <td>Landing Page Submission</td>\n",
       "      <td>Direct Traffic</td>\n",
       "      <td>No</td>\n",
       "      <td>No</td>\n",
       "      <td>SMS Sent</td>\n",
       "      <td>Supply Chain Management</td>\n",
       "      <td>Unemployed</td>\n",
       "      <td>No</td>\n",
       "      <td>No</td>\n",
       "      <td>No</td>\n",
       "      <td>No</td>\n",
       "      <td>Yes</td>\n",
       "    </tr>\n",
       "  </tbody>\n",
       "</table>\n",
       "<p>5299 rows × 12 columns</p>\n",
       "</div>"
      ],
      "text/plain": [
       "                         origen          fuente no_enviar_email no_llamar  \\\n",
       "id                                                                          \n",
       "660737                      API            Chat              No        No   \n",
       "660728                      API  Organic Search              No        No   \n",
       "660719  Landing Page Submission  Direct Traffic              No        No   \n",
       "660681  Landing Page Submission          Google              No        No   \n",
       "660664                      API            Chat              No        No   \n",
       "...                         ...             ...             ...       ...   \n",
       "579615  Landing Page Submission  Direct Traffic              No        No   \n",
       "579564  Landing Page Submission  Direct Traffic             Yes        No   \n",
       "579546  Landing Page Submission  Direct Traffic              No        No   \n",
       "579538  Landing Page Submission          Google              No        No   \n",
       "579533  Landing Page Submission  Direct Traffic              No        No   \n",
       "\n",
       "                  ult_actividad                     ambito   ocupacion  \\\n",
       "id                                                                       \n",
       "660737  Page Visited on Website                     Select  Unemployed   \n",
       "660728             Email Opened                     Select  Unemployed   \n",
       "660719              Unreachable      Media and Advertising  Unemployed   \n",
       "660681        Converted to Lead                     Select  Unemployed   \n",
       "660664        Chat Conversation                        NaN         NaN   \n",
       "...                         ...                        ...         ...   \n",
       "579615                 SMS Sent    Business Administration  Unemployed   \n",
       "579564        Email Marked Spam     IT Projects Management  Unemployed   \n",
       "579546                 SMS Sent      Media and Advertising  Unemployed   \n",
       "579538                 SMS Sent  Human Resource Management         NaN   \n",
       "579533                 SMS Sent    Supply Chain Management  Unemployed   \n",
       "\n",
       "       conociste_google conociste_periodico conociste_facebook  \\\n",
       "id                                                               \n",
       "660737               No                  No                 No   \n",
       "660728               No                  No                 No   \n",
       "660719               No                  No                 No   \n",
       "660681               No                  No                 No   \n",
       "660664               No                  No                 No   \n",
       "...                 ...                 ...                ...   \n",
       "579615               No                  No                 No   \n",
       "579564               No                  No                 No   \n",
       "579546               No                  No                 No   \n",
       "579538               No                  No                 No   \n",
       "579533               No                  No                 No   \n",
       "\n",
       "       conociste_referencias descarga_lm  \n",
       "id                                        \n",
       "660737                    No          No  \n",
       "660728                    No          No  \n",
       "660719                    No          No  \n",
       "660681                    No          No  \n",
       "660664                    No          No  \n",
       "...                      ...         ...  \n",
       "579615                    No          No  \n",
       "579564                    No          No  \n",
       "579546                    No         Yes  \n",
       "579538                    No          No  \n",
       "579533                    No         Yes  \n",
       "\n",
       "[5299 rows x 12 columns]"
      ]
     },
     "execution_count": 123,
     "metadata": {},
     "output_type": "execute_result"
    }
   ],
   "source": [
    "cat"
   ]
  },
  {
   "cell_type": "markdown",
   "id": "41756893",
   "metadata": {},
   "source": [
    "### Numéricas"
   ]
  },
  {
   "cell_type": "code",
   "execution_count": 124,
   "id": "59140e9a",
   "metadata": {},
   "outputs": [],
   "source": [
    "num = df.select_dtypes(include='number').copy()"
   ]
  },
  {
   "cell_type": "code",
   "execution_count": 125,
   "id": "a6e875bf",
   "metadata": {},
   "outputs": [
    {
     "data": {
      "text/html": [
       "<div>\n",
       "<style scoped>\n",
       "    .dataframe tbody tr th:only-of-type {\n",
       "        vertical-align: middle;\n",
       "    }\n",
       "\n",
       "    .dataframe tbody tr th {\n",
       "        vertical-align: top;\n",
       "    }\n",
       "\n",
       "    .dataframe thead th {\n",
       "        text-align: right;\n",
       "    }\n",
       "</style>\n",
       "<table border=\"1\" class=\"dataframe\">\n",
       "  <thead>\n",
       "    <tr style=\"text-align: right;\">\n",
       "      <th></th>\n",
       "      <th>compra</th>\n",
       "      <th>visitas_total</th>\n",
       "      <th>tiempo_en_site_total</th>\n",
       "      <th>paginas_vistas_visita</th>\n",
       "      <th>score_actividad</th>\n",
       "      <th>score_perfil</th>\n",
       "    </tr>\n",
       "    <tr>\n",
       "      <th>id</th>\n",
       "      <th></th>\n",
       "      <th></th>\n",
       "      <th></th>\n",
       "      <th></th>\n",
       "      <th></th>\n",
       "      <th></th>\n",
       "    </tr>\n",
       "  </thead>\n",
       "  <tbody>\n",
       "    <tr>\n",
       "      <th>660737</th>\n",
       "      <td>0</td>\n",
       "      <td>0</td>\n",
       "      <td>0</td>\n",
       "      <td>0.00</td>\n",
       "      <td>15.0</td>\n",
       "      <td>15.0</td>\n",
       "    </tr>\n",
       "    <tr>\n",
       "      <th>660728</th>\n",
       "      <td>0</td>\n",
       "      <td>5</td>\n",
       "      <td>674</td>\n",
       "      <td>2.50</td>\n",
       "      <td>15.0</td>\n",
       "      <td>15.0</td>\n",
       "    </tr>\n",
       "    <tr>\n",
       "      <th>660719</th>\n",
       "      <td>0</td>\n",
       "      <td>1</td>\n",
       "      <td>305</td>\n",
       "      <td>1.00</td>\n",
       "      <td>13.0</td>\n",
       "      <td>17.0</td>\n",
       "    </tr>\n",
       "    <tr>\n",
       "      <th>660681</th>\n",
       "      <td>1</td>\n",
       "      <td>2</td>\n",
       "      <td>1428</td>\n",
       "      <td>1.00</td>\n",
       "      <td>15.0</td>\n",
       "      <td>18.0</td>\n",
       "    </tr>\n",
       "    <tr>\n",
       "      <th>660664</th>\n",
       "      <td>0</td>\n",
       "      <td>0</td>\n",
       "      <td>0</td>\n",
       "      <td>0.00</td>\n",
       "      <td>15.0</td>\n",
       "      <td>15.0</td>\n",
       "    </tr>\n",
       "    <tr>\n",
       "      <th>...</th>\n",
       "      <td>...</td>\n",
       "      <td>...</td>\n",
       "      <td>...</td>\n",
       "      <td>...</td>\n",
       "      <td>...</td>\n",
       "      <td>...</td>\n",
       "    </tr>\n",
       "    <tr>\n",
       "      <th>579615</th>\n",
       "      <td>1</td>\n",
       "      <td>5</td>\n",
       "      <td>210</td>\n",
       "      <td>2.50</td>\n",
       "      <td>14.0</td>\n",
       "      <td>20.0</td>\n",
       "    </tr>\n",
       "    <tr>\n",
       "      <th>579564</th>\n",
       "      <td>1</td>\n",
       "      <td>8</td>\n",
       "      <td>1845</td>\n",
       "      <td>2.67</td>\n",
       "      <td>15.0</td>\n",
       "      <td>17.0</td>\n",
       "    </tr>\n",
       "    <tr>\n",
       "      <th>579546</th>\n",
       "      <td>0</td>\n",
       "      <td>2</td>\n",
       "      <td>238</td>\n",
       "      <td>2.00</td>\n",
       "      <td>14.0</td>\n",
       "      <td>19.0</td>\n",
       "    </tr>\n",
       "    <tr>\n",
       "      <th>579538</th>\n",
       "      <td>1</td>\n",
       "      <td>3</td>\n",
       "      <td>499</td>\n",
       "      <td>3.00</td>\n",
       "      <td>15.0</td>\n",
       "      <td>16.0</td>\n",
       "    </tr>\n",
       "    <tr>\n",
       "      <th>579533</th>\n",
       "      <td>1</td>\n",
       "      <td>6</td>\n",
       "      <td>1279</td>\n",
       "      <td>3.00</td>\n",
       "      <td>15.0</td>\n",
       "      <td>18.0</td>\n",
       "    </tr>\n",
       "  </tbody>\n",
       "</table>\n",
       "<p>5299 rows × 6 columns</p>\n",
       "</div>"
      ],
      "text/plain": [
       "        compra  visitas_total  tiempo_en_site_total  paginas_vistas_visita  \\\n",
       "id                                                                           \n",
       "660737       0              0                     0                   0.00   \n",
       "660728       0              5                   674                   2.50   \n",
       "660719       0              1                   305                   1.00   \n",
       "660681       1              2                  1428                   1.00   \n",
       "660664       0              0                     0                   0.00   \n",
       "...        ...            ...                   ...                    ...   \n",
       "579615       1              5                   210                   2.50   \n",
       "579564       1              8                  1845                   2.67   \n",
       "579546       0              2                   238                   2.00   \n",
       "579538       1              3                   499                   3.00   \n",
       "579533       1              6                  1279                   3.00   \n",
       "\n",
       "        score_actividad  score_perfil  \n",
       "id                                     \n",
       "660737             15.0          15.0  \n",
       "660728             15.0          15.0  \n",
       "660719             13.0          17.0  \n",
       "660681             15.0          18.0  \n",
       "660664             15.0          15.0  \n",
       "...                 ...           ...  \n",
       "579615             14.0          20.0  \n",
       "579564             15.0          17.0  \n",
       "579546             14.0          19.0  \n",
       "579538             15.0          16.0  \n",
       "579533             15.0          18.0  \n",
       "\n",
       "[5299 rows x 6 columns]"
      ]
     },
     "execution_count": 125,
     "metadata": {},
     "output_type": "execute_result"
    }
   ],
   "source": [
    "num"
   ]
  },
  {
   "cell_type": "markdown",
   "id": "5e7d8e7e",
   "metadata": {},
   "source": [
    "## GESTIÓN DE CATEGÓRICAS"
   ]
  },
  {
   "cell_type": "markdown",
   "id": "5b5808b7",
   "metadata": {},
   "source": [
    "### Nulos"
   ]
  },
  {
   "cell_type": "markdown",
   "id": "5c08ca55",
   "metadata": {},
   "source": [
    "#### Identificación"
   ]
  },
  {
   "cell_type": "code",
   "execution_count": 126,
   "id": "da49ae63",
   "metadata": {
    "scrolled": true
   },
   "outputs": [
    {
     "data": {
      "text/plain": [
       "ocupacion                1345\n",
       "ambito                    486\n",
       "ult_actividad              57\n",
       "fuente                     13\n",
       "origen                      0\n",
       "no_enviar_email             0\n",
       "no_llamar                   0\n",
       "conociste_google            0\n",
       "conociste_periodico         0\n",
       "conociste_facebook          0\n",
       "conociste_referencias       0\n",
       "descarga_lm                 0\n",
       "dtype: int64"
      ]
     },
     "execution_count": 126,
     "metadata": {},
     "output_type": "execute_result"
    }
   ],
   "source": [
    "cat.isna().sum().sort_values(ascending = False)\n",
    "#De cara a hacer un lead, la variable ocupacion es una de las variables mas relevantes, no debieramos eliminar nada, en este caso"
   ]
  },
  {
   "cell_type": "markdown",
   "id": "6802d575",
   "metadata": {},
   "source": [
    "#### Corrección"
   ]
  },
  {
   "cell_type": "code",
   "execution_count": 127,
   "id": "16364811",
   "metadata": {},
   "outputs": [
    {
     "data": {
      "text/plain": [
       "Unemployed              3370\n",
       "Working Professional     431\n",
       "Student                  127\n",
       "Other                     13\n",
       "Housewife                  7\n",
       "Businessman                6\n",
       "Name: ocupacion, dtype: int64"
      ]
     },
     "execution_count": 127,
     "metadata": {},
     "output_type": "execute_result"
    }
   ],
   "source": [
    "cat.ocupacion.value_counts()"
   ]
  },
  {
   "cell_type": "code",
   "execution_count": 51,
   "id": "ccaf71c0",
   "metadata": {},
   "outputs": [
    {
     "data": {
      "text/plain": [
       "Select                               857\n",
       "Finance Management                   670\n",
       "Human Resource Management            556\n",
       "Marketing Management                 543\n",
       "Operations Management                343\n",
       "Business Administration              261\n",
       "IT Projects Management               258\n",
       "Supply Chain Management              237\n",
       "Banking, Investment And Insurance    225\n",
       "Media and Advertising                151\n",
       "Travel and Tourism                   140\n",
       "International Business               119\n",
       "Healthcare Management                109\n",
       "E-COMMERCE                            81\n",
       "Hospitality Management                78\n",
       "Retail Management                     71\n",
       "Rural and Agribusiness                50\n",
       "E-Business                            42\n",
       "Services Excellence                   22\n",
       "Name: ambito, dtype: int64"
      ]
     },
     "execution_count": 51,
     "metadata": {},
     "output_type": "execute_result"
    }
   ],
   "source": [
    "cat.ambito.value_counts()"
   ]
  },
  {
   "cell_type": "code",
   "execution_count": 52,
   "id": "b5a79678",
   "metadata": {},
   "outputs": [
    {
     "data": {
      "text/plain": [
       "Email Opened                    2003\n",
       "SMS Sent                        1600\n",
       "Page Visited on Website          456\n",
       "Converted to Lead                298\n",
       "Chat Conversation                290\n",
       "Email Bounced                    204\n",
       "Email Link Clicked               157\n",
       "Form Submitted on Website         90\n",
       "Unreachable                       66\n",
       "Unsubscribed                      42\n",
       "Had a Phone Conversation          25\n",
       "View in browser link Clicked       5\n",
       "Approached upfront                 4\n",
       "Resubscribed to emails             1\n",
       "Email Marked Spam                  1\n",
       "Name: ult_actividad, dtype: int64"
      ]
     },
     "execution_count": 52,
     "metadata": {},
     "output_type": "execute_result"
    }
   ],
   "source": [
    "cat.ult_actividad.value_counts()"
   ]
  },
  {
   "cell_type": "markdown",
   "id": "ebeb52a6",
   "metadata": {},
   "source": [
    "##### Imputar por un valor"
   ]
  },
  {
   "cell_type": "markdown",
   "id": "2cba1c3c",
   "metadata": {},
   "source": [
    "###### Variables a imputar"
   ]
  },
  {
   "cell_type": "code",
   "execution_count": 128,
   "id": "749a19bb",
   "metadata": {},
   "outputs": [
    {
     "data": {
      "text/plain": [
       "['origen',\n",
       " 'fuente',\n",
       " 'no_enviar_email',\n",
       " 'no_llamar',\n",
       " 'ult_actividad',\n",
       " 'ambito',\n",
       " 'ocupacion',\n",
       " 'conociste_google',\n",
       " 'conociste_periodico',\n",
       " 'conociste_facebook',\n",
       " 'conociste_referencias',\n",
       " 'descarga_lm']"
      ]
     },
     "execution_count": 128,
     "metadata": {},
     "output_type": "execute_result"
    }
   ],
   "source": [
    "cat.columns.to_list()"
   ]
  },
  {
   "cell_type": "code",
   "execution_count": 129,
   "id": "4050ef9f",
   "metadata": {},
   "outputs": [],
   "source": [
    "var_imputar_valor = ['origen',\n",
    "                     'fuente',\n",
    "                     'no_enviar_email',\n",
    "                     'no_llamar',\n",
    "                     'ult_actividad',\n",
    "                     'conociste_google',\n",
    "                     'conociste_periodico',\n",
    "                     'conociste_facebook',\n",
    "                     'conociste_referencias',\n",
    "                     'descarga_lm']"
   ]
  },
  {
   "cell_type": "markdown",
   "id": "fa866ac6",
   "metadata": {},
   "source": [
    "###### Valor por el que imputar"
   ]
  },
  {
   "cell_type": "code",
   "execution_count": 130,
   "id": "10abb34a",
   "metadata": {},
   "outputs": [],
   "source": [
    "valor = 'DESCONOCIDO'"
   ]
  },
  {
   "cell_type": "markdown",
   "id": "78d10252",
   "metadata": {},
   "source": [
    "###### Imputar"
   ]
  },
  {
   "cell_type": "code",
   "execution_count": 131,
   "id": "f16e8491",
   "metadata": {},
   "outputs": [],
   "source": [
    "cat[var_imputar_valor] = cat[var_imputar_valor].fillna(valor)"
   ]
  },
  {
   "cell_type": "markdown",
   "id": "c111e44d",
   "metadata": {},
   "source": [
    "##### Imputar por la moda"
   ]
  },
  {
   "cell_type": "markdown",
   "id": "4c1a9c46",
   "metadata": {},
   "source": [
    "###### Variables a imputar"
   ]
  },
  {
   "cell_type": "code",
   "execution_count": 132,
   "id": "cf4cee3d",
   "metadata": {},
   "outputs": [],
   "source": [
    "var_imputar_moda = ['ocupacion','ambito']"
   ]
  },
  {
   "cell_type": "markdown",
   "id": "e3a31c7d",
   "metadata": {},
   "source": [
    "###### Funcion para imputar con la moda"
   ]
  },
  {
   "cell_type": "code",
   "execution_count": 133,
   "id": "6d7c902b",
   "metadata": {},
   "outputs": [],
   "source": [
    "def imputar_moda(variable):\n",
    "    return(variable.fillna(variable.mode()[0]))"
   ]
  },
  {
   "cell_type": "markdown",
   "id": "b2c3ceba",
   "metadata": {},
   "source": [
    "###### Imputar con la moda"
   ]
  },
  {
   "cell_type": "code",
   "execution_count": 134,
   "id": "5f5184ef",
   "metadata": {},
   "outputs": [],
   "source": [
    "cat[var_imputar_moda] = cat[var_imputar_moda].apply(imputar_moda)"
   ]
  },
  {
   "cell_type": "code",
   "execution_count": 135,
   "id": "d13d32cb",
   "metadata": {},
   "outputs": [
    {
     "data": {
      "text/plain": [
       "origen                   0\n",
       "fuente                   0\n",
       "no_enviar_email          0\n",
       "no_llamar                0\n",
       "ult_actividad            0\n",
       "ambito                   0\n",
       "ocupacion                0\n",
       "conociste_google         0\n",
       "conociste_periodico      0\n",
       "conociste_facebook       0\n",
       "conociste_referencias    0\n",
       "descarga_lm              0\n",
       "dtype: int64"
      ]
     },
     "execution_count": 135,
     "metadata": {},
     "output_type": "execute_result"
    }
   ],
   "source": [
    "#VOLVEMOS A EJECUTAR PARA VER QUE EFECTIVAMENTE NO TENEMOS NULOS\n",
    "cat.isna().sum().sort_values(ascending = False)"
   ]
  },
  {
   "cell_type": "markdown",
   "id": "913cd65d",
   "metadata": {},
   "source": [
    "### Atípicos"
   ]
  },
  {
   "cell_type": "markdown",
   "id": "5a575397",
   "metadata": {},
   "source": [
    "#### Categorías poco frecuentes"
   ]
  },
  {
   "cell_type": "markdown",
   "id": "e88c9f39",
   "metadata": {},
   "source": [
    "##### Función para agrupar categorías raras en 'OTROS'"
   ]
  },
  {
   "cell_type": "code",
   "execution_count": 136,
   "id": "c59f8d06",
   "metadata": {},
   "outputs": [],
   "source": [
    "def agrupar_cat_raras(variable, criterio = 0.05):\n",
    "    #Calcula las frecuencias\n",
    "    frecuencias = variable.value_counts(normalize=True)\n",
    "    #Identifica las que están por debajo del criterio\n",
    "    temp = [cada for cada in frecuencias.loc[frecuencias < criterio].index.values]\n",
    "    #Las recodifica en 'OTROS'\n",
    "    temp2 = np.where(variable.isin(temp),'OTROS',variable)\n",
    "    #Devuelve el resultado\n",
    "    return(temp2)"
   ]
  },
  {
   "cell_type": "code",
   "execution_count": 137,
   "id": "b9ac1c0d",
   "metadata": {},
   "outputs": [
    {
     "data": {
      "text/plain": [
       "Unemployed              4715\n",
       "Working Professional     431\n",
       "Student                  127\n",
       "Other                     13\n",
       "Housewife                  7\n",
       "Businessman                6\n",
       "Name: ocupacion, dtype: int64"
      ]
     },
     "execution_count": 137,
     "metadata": {},
     "output_type": "execute_result"
    }
   ],
   "source": [
    "#imputamos todo el dataframe ya que hay categorias raras, en variables como ocupacion,fuente,ambito\n",
    "cat.ocupacion.value_counts()"
   ]
  },
  {
   "cell_type": "markdown",
   "id": "4205e067",
   "metadata": {},
   "source": [
    "##### Variables a imputar"
   ]
  },
  {
   "cell_type": "code",
   "execution_count": 138,
   "id": "ec35c874",
   "metadata": {},
   "outputs": [],
   "source": [
    "var_agrupar_cat_raras = cat.columns.to_list()"
   ]
  },
  {
   "cell_type": "markdown",
   "id": "5eaca402",
   "metadata": {},
   "source": [
    "##### Aplicar"
   ]
  },
  {
   "cell_type": "code",
   "execution_count": 139,
   "id": "2b187bc7",
   "metadata": {},
   "outputs": [],
   "source": [
    "for variable in var_agrupar_cat_raras:\n",
    "    cat[variable] = agrupar_cat_raras(cat[variable],criterio = 0.02)"
   ]
  },
  {
   "cell_type": "markdown",
   "id": "db3a72a6",
   "metadata": {},
   "source": [
    "## GESTIÓN DE NUMÉRICAS"
   ]
  },
  {
   "cell_type": "markdown",
   "id": "d65bd06a",
   "metadata": {},
   "source": [
    "### Nulos"
   ]
  },
  {
   "cell_type": "markdown",
   "id": "e5ee8416",
   "metadata": {},
   "source": [
    "#### Identificación"
   ]
  },
  {
   "cell_type": "code",
   "execution_count": 140,
   "id": "c9f054a3",
   "metadata": {
    "scrolled": true
   },
   "outputs": [
    {
     "data": {
      "text/plain": [
       "score_actividad          2330\n",
       "score_perfil             2330\n",
       "visitas_total              78\n",
       "paginas_vistas_visita      78\n",
       "compra                      0\n",
       "tiempo_en_site_total        0\n",
       "dtype: int64"
      ]
     },
     "execution_count": 140,
     "metadata": {},
     "output_type": "execute_result"
    }
   ],
   "source": [
    "num.isna().sum().sort_values(ascending = False)\n",
    "#score_actividad y score_perfil no sabemos que importancia tienen, de momento lo imputamos por la mediana(es el valor mas seguro)\n",
    "#si mas adelante vemos que no tiene mucha capacidad predictiva las eliminamos"
   ]
  },
  {
   "cell_type": "markdown",
   "id": "1b7cb2c4",
   "metadata": {},
   "source": [
    "#### Corrección"
   ]
  },
  {
   "cell_type": "markdown",
   "id": "649c19f3",
   "metadata": {},
   "source": [
    "##### Imputar por la mediana"
   ]
  },
  {
   "cell_type": "markdown",
   "id": "d22ea297",
   "metadata": {},
   "source": [
    "###### Variables a imputar"
   ]
  },
  {
   "cell_type": "code",
   "execution_count": 141,
   "id": "37e4d7f6",
   "metadata": {},
   "outputs": [],
   "source": [
    "#imputamos por la mediana todas esas variables, por si en un futuro nos encontramos nulos en algunas (para asegurar)\n",
    "#este es un enfoque mas industrializado, y en categorias hacemos lo mismo\n",
    "var_imputar_mediana = num.columns.to_list()"
   ]
  },
  {
   "cell_type": "markdown",
   "id": "432c371c",
   "metadata": {},
   "source": [
    "###### Funcion para imputar con la mediana"
   ]
  },
  {
   "cell_type": "code",
   "execution_count": 142,
   "id": "66679233",
   "metadata": {},
   "outputs": [],
   "source": [
    "def imputar_mediana(variable):\n",
    "    if pd.api.types.is_integer_dtype(variable):\n",
    "        return(variable.fillna(int(variable.median())))\n",
    "    else:\n",
    "        return(variable.fillna(variable.median()))"
   ]
  },
  {
   "cell_type": "markdown",
   "id": "70d7a1c5",
   "metadata": {},
   "source": [
    "###### Imputar con la mediana"
   ]
  },
  {
   "cell_type": "code",
   "execution_count": 143,
   "id": "887a4106",
   "metadata": {},
   "outputs": [],
   "source": [
    "num[var_imputar_mediana] = num[var_imputar_mediana].apply(imputar_mediana)"
   ]
  },
  {
   "cell_type": "markdown",
   "id": "82cb56e8",
   "metadata": {},
   "source": [
    "### Atípicos"
   ]
  },
  {
   "cell_type": "markdown",
   "id": "760baf8c",
   "metadata": {},
   "source": [
    "#### Por desviación típica"
   ]
  },
  {
   "cell_type": "markdown",
   "id": "4b508149",
   "metadata": {},
   "source": [
    "##### Identificación"
   ]
  },
  {
   "cell_type": "markdown",
   "id": "8ceda3d3",
   "metadata": {},
   "source": [
    "###### Definir el número de desviaciones típicas"
   ]
  },
  {
   "cell_type": "code",
   "execution_count": 144,
   "id": "2b7419cb",
   "metadata": {},
   "outputs": [],
   "source": [
    "num_desv_tip = 4"
   ]
  },
  {
   "cell_type": "markdown",
   "id": "942da237",
   "metadata": {},
   "source": [
    "###### Función que devuelve los índices de los atípicos"
   ]
  },
  {
   "cell_type": "code",
   "execution_count": 145,
   "id": "8a81f494",
   "metadata": {},
   "outputs": [],
   "source": [
    "def atipicos_desv_tip(variable, num_desv_tip = 4):\n",
    "    #sacamos los nulos por ahora\n",
    "    variable = variable.dropna()\n",
    "    #calculamos los límites\n",
    "    media = np.mean(variable)\n",
    "    sd = np.std(variable)\n",
    "    umbral = sd * num_desv_tip\n",
    "    lim_inf = media - umbral\n",
    "    lim_sup = media + umbral\n",
    "    #encontramos los índices de los que están fuera de los límites\n",
    "    indices = [indice for indice,valor in variable.items() if valor < lim_inf or valor > lim_sup]\n",
    "    return(indices)"
   ]
  },
  {
   "cell_type": "markdown",
   "id": "768e7398",
   "metadata": {},
   "source": [
    "###### Función que cuenta el número de atípicos"
   ]
  },
  {
   "cell_type": "code",
   "execution_count": 146,
   "id": "5c8f4462",
   "metadata": {},
   "outputs": [],
   "source": [
    "def conteo_atipicos(df,variable, num_desv_tip = 4):\n",
    "    atipicos = atipicos_desv_tip(df[variable], num_desv_tip)\n",
    "    return(df.loc[atipicos,variable].value_counts())"
   ]
  },
  {
   "cell_type": "markdown",
   "id": "5cd1e425",
   "metadata": {},
   "source": [
    "###### Variables a aplicar"
   ]
  },
  {
   "cell_type": "code",
   "execution_count": 147,
   "id": "cfbb3d88",
   "metadata": {},
   "outputs": [],
   "source": [
    "var_atipicos_dt = num.columns.to_list()"
   ]
  },
  {
   "cell_type": "markdown",
   "id": "ac400ced",
   "metadata": {},
   "source": [
    "###### Aplicar"
   ]
  },
  {
   "cell_type": "code",
   "execution_count": 148,
   "id": "c4b74e98",
   "metadata": {},
   "outputs": [
    {
     "name": "stdout",
     "output_type": "stream",
     "text": [
      "\n",
      "compra:\n",
      "\n",
      "Series([], Name: compra, dtype: int64)\n",
      "\n",
      "visitas_total:\n",
      "\n",
      "20     8\n",
      "21     5\n",
      "25     5\n",
      "23     5\n",
      "24     4\n",
      "22     3\n",
      "27     3\n",
      "29     2\n",
      "28     2\n",
      "43     1\n",
      "74     1\n",
      "41     1\n",
      "115    1\n",
      "32     1\n",
      "26     1\n",
      "42     1\n",
      "Name: visitas_total, dtype: Int64\n",
      "\n",
      "tiempo_en_site_total:\n",
      "\n",
      "Series([], Name: tiempo_en_site_total, dtype: int64)\n",
      "\n",
      "paginas_vistas_visita:\n",
      "\n",
      "11.00    13\n",
      "14.00     5\n",
      "12.00     4\n",
      "13.00     3\n",
      "16.00     3\n",
      "15.00     3\n",
      "12.33     1\n",
      "24.00     1\n",
      "14.50     1\n",
      "11.50     1\n",
      "Name: paginas_vistas_visita, dtype: int64\n",
      "\n",
      "score_actividad:\n",
      "\n",
      "10.0    42\n",
      "9.0      7\n",
      "8.0      3\n",
      "18.0     2\n",
      "7.0      1\n",
      "Name: score_actividad, dtype: int64\n",
      "\n",
      "score_perfil:\n",
      "\n",
      "Series([], Name: score_perfil, dtype: int64)\n"
     ]
    }
   ],
   "source": [
    "for variable in var_atipicos_dt:\n",
    "    print('\\n' + variable + ':\\n')\n",
    "    print(conteo_atipicos(num,variable,num_desv_tip))\n"
   ]
  },
  {
   "cell_type": "markdown",
   "id": "5197aae9",
   "metadata": {},
   "source": [
    "##### Corrección"
   ]
  },
  {
   "cell_type": "markdown",
   "id": "47862bcf",
   "metadata": {},
   "source": [
    "#### Por winsorización manual para una variable"
   ]
  },
  {
   "cell_type": "markdown",
   "id": "28d07312",
   "metadata": {},
   "source": [
    "##### Corrección"
   ]
  },
  {
   "cell_type": "markdown",
   "id": "fbea3a26",
   "metadata": {},
   "source": [
    "###### Definir el mínimo y máximo tolerable."
   ]
  },
  {
   "cell_type": "code",
   "execution_count": 150,
   "id": "6e2a48e3",
   "metadata": {},
   "outputs": [
    {
     "name": "stdout",
     "output_type": "stream",
     "text": [
      "<class 'pandas.core.frame.DataFrame'>\n",
      "Int64Index: 5299 entries, 660737 to 579533\n",
      "Data columns (total 6 columns):\n",
      " #   Column                 Non-Null Count  Dtype  \n",
      "---  ------                 --------------  -----  \n",
      " 0   compra                 5299 non-null   int64  \n",
      " 1   visitas_total          5299 non-null   Int64  \n",
      " 2   tiempo_en_site_total   5299 non-null   int64  \n",
      " 3   paginas_vistas_visita  5299 non-null   float64\n",
      " 4   score_actividad        5299 non-null   float64\n",
      " 5   score_perfil           5299 non-null   float64\n",
      "dtypes: Int64(1), float64(3), int64(2)\n",
      "memory usage: 424.0 KB\n"
     ]
    }
   ],
   "source": [
    "num.info()"
   ]
  },
  {
   "cell_type": "markdown",
   "id": "be19a3d1",
   "metadata": {},
   "source": [
    "###### Aplicar"
   ]
  },
  {
   "cell_type": "code",
   "execution_count": 151,
   "id": "a607d0dd",
   "metadata": {},
   "outputs": [],
   "source": [
    "num['visitas_total'].clip(0,50, inplace=True)\n",
    "num['paginas_vistas_visita'].clip(0,20, inplace=True)"
   ]
  },
  {
   "cell_type": "code",
   "execution_count": 155,
   "id": "413b95a6",
   "metadata": {},
   "outputs": [
    {
     "data": {
      "text/html": [
       "<div>\n",
       "<style scoped>\n",
       "    .dataframe tbody tr th:only-of-type {\n",
       "        vertical-align: middle;\n",
       "    }\n",
       "\n",
       "    .dataframe tbody tr th {\n",
       "        vertical-align: top;\n",
       "    }\n",
       "\n",
       "    .dataframe thead th {\n",
       "        text-align: right;\n",
       "    }\n",
       "</style>\n",
       "<table border=\"1\" class=\"dataframe\">\n",
       "  <thead>\n",
       "    <tr style=\"text-align: right;\">\n",
       "      <th></th>\n",
       "      <th>compra</th>\n",
       "      <th>visitas_total</th>\n",
       "      <th>tiempo_en_site_total</th>\n",
       "      <th>paginas_vistas_visita</th>\n",
       "      <th>score_actividad</th>\n",
       "      <th>score_perfil</th>\n",
       "    </tr>\n",
       "    <tr>\n",
       "      <th>id</th>\n",
       "      <th></th>\n",
       "      <th></th>\n",
       "      <th></th>\n",
       "      <th></th>\n",
       "      <th></th>\n",
       "      <th></th>\n",
       "    </tr>\n",
       "  </thead>\n",
       "  <tbody>\n",
       "    <tr>\n",
       "      <th>660737</th>\n",
       "      <td>0</td>\n",
       "      <td>0</td>\n",
       "      <td>0</td>\n",
       "      <td>0.00</td>\n",
       "      <td>15.0</td>\n",
       "      <td>15.0</td>\n",
       "    </tr>\n",
       "    <tr>\n",
       "      <th>660728</th>\n",
       "      <td>0</td>\n",
       "      <td>5</td>\n",
       "      <td>674</td>\n",
       "      <td>2.50</td>\n",
       "      <td>15.0</td>\n",
       "      <td>15.0</td>\n",
       "    </tr>\n",
       "    <tr>\n",
       "      <th>660719</th>\n",
       "      <td>0</td>\n",
       "      <td>1</td>\n",
       "      <td>305</td>\n",
       "      <td>1.00</td>\n",
       "      <td>13.0</td>\n",
       "      <td>17.0</td>\n",
       "    </tr>\n",
       "    <tr>\n",
       "      <th>660681</th>\n",
       "      <td>1</td>\n",
       "      <td>2</td>\n",
       "      <td>1428</td>\n",
       "      <td>1.00</td>\n",
       "      <td>15.0</td>\n",
       "      <td>18.0</td>\n",
       "    </tr>\n",
       "    <tr>\n",
       "      <th>660664</th>\n",
       "      <td>0</td>\n",
       "      <td>0</td>\n",
       "      <td>0</td>\n",
       "      <td>0.00</td>\n",
       "      <td>15.0</td>\n",
       "      <td>15.0</td>\n",
       "    </tr>\n",
       "    <tr>\n",
       "      <th>...</th>\n",
       "      <td>...</td>\n",
       "      <td>...</td>\n",
       "      <td>...</td>\n",
       "      <td>...</td>\n",
       "      <td>...</td>\n",
       "      <td>...</td>\n",
       "    </tr>\n",
       "    <tr>\n",
       "      <th>579615</th>\n",
       "      <td>1</td>\n",
       "      <td>5</td>\n",
       "      <td>210</td>\n",
       "      <td>2.50</td>\n",
       "      <td>14.0</td>\n",
       "      <td>20.0</td>\n",
       "    </tr>\n",
       "    <tr>\n",
       "      <th>579564</th>\n",
       "      <td>1</td>\n",
       "      <td>8</td>\n",
       "      <td>1845</td>\n",
       "      <td>2.67</td>\n",
       "      <td>15.0</td>\n",
       "      <td>17.0</td>\n",
       "    </tr>\n",
       "    <tr>\n",
       "      <th>579546</th>\n",
       "      <td>0</td>\n",
       "      <td>2</td>\n",
       "      <td>238</td>\n",
       "      <td>2.00</td>\n",
       "      <td>14.0</td>\n",
       "      <td>19.0</td>\n",
       "    </tr>\n",
       "    <tr>\n",
       "      <th>579538</th>\n",
       "      <td>1</td>\n",
       "      <td>3</td>\n",
       "      <td>499</td>\n",
       "      <td>3.00</td>\n",
       "      <td>15.0</td>\n",
       "      <td>16.0</td>\n",
       "    </tr>\n",
       "    <tr>\n",
       "      <th>579533</th>\n",
       "      <td>1</td>\n",
       "      <td>6</td>\n",
       "      <td>1279</td>\n",
       "      <td>3.00</td>\n",
       "      <td>15.0</td>\n",
       "      <td>18.0</td>\n",
       "    </tr>\n",
       "  </tbody>\n",
       "</table>\n",
       "<p>5299 rows × 6 columns</p>\n",
       "</div>"
      ],
      "text/plain": [
       "        compra  visitas_total  tiempo_en_site_total  paginas_vistas_visita  \\\n",
       "id                                                                           \n",
       "660737       0              0                     0                   0.00   \n",
       "660728       0              5                   674                   2.50   \n",
       "660719       0              1                   305                   1.00   \n",
       "660681       1              2                  1428                   1.00   \n",
       "660664       0              0                     0                   0.00   \n",
       "...        ...            ...                   ...                    ...   \n",
       "579615       1              5                   210                   2.50   \n",
       "579564       1              8                  1845                   2.67   \n",
       "579546       0              2                   238                   2.00   \n",
       "579538       1              3                   499                   3.00   \n",
       "579533       1              6                  1279                   3.00   \n",
       "\n",
       "        score_actividad  score_perfil  \n",
       "id                                     \n",
       "660737             15.0          15.0  \n",
       "660728             15.0          15.0  \n",
       "660719             13.0          17.0  \n",
       "660681             15.0          18.0  \n",
       "660664             15.0          15.0  \n",
       "...                 ...           ...  \n",
       "579615             14.0          20.0  \n",
       "579564             15.0          17.0  \n",
       "579546             14.0          19.0  \n",
       "579538             15.0          16.0  \n",
       "579533             15.0          18.0  \n",
       "\n",
       "[5299 rows x 6 columns]"
      ]
     },
     "execution_count": 155,
     "metadata": {},
     "output_type": "execute_result"
    }
   ],
   "source": [
    "num"
   ]
  },
  {
   "cell_type": "markdown",
   "id": "0f6b1e4a",
   "metadata": {},
   "source": [
    "## GUARDAR DATASETS TRAS CALIDAD DE DATOS"
   ]
  },
  {
   "cell_type": "markdown",
   "id": "1e211b09",
   "metadata": {},
   "source": [
    "Guarda los avances en df, cat y num con un sufijo para poder guardar o recuperar avances del proyecto.\n",
    "\n",
    "En formato pickle para no perder las modificaciones de metadatos."
   ]
  },
  {
   "cell_type": "markdown",
   "id": "abb12eef",
   "metadata": {},
   "source": [
    "### Definir los nombres de los archivos"
   ]
  },
  {
   "cell_type": "code",
   "execution_count": 156,
   "id": "f83c6f26",
   "metadata": {},
   "outputs": [],
   "source": [
    "ruta_trabajo = ruta_proyecto + '/02_Datos/03_Trabajo/' + 'trabajo_resultado_calidad.pickle'\n",
    "ruta_cat = ruta_proyecto + '/02_Datos/03_Trabajo/' + 'cat_resultado_calidad.pickle'\n",
    "ruta_num = ruta_proyecto + '/02_Datos/03_Trabajo/' + 'num_resultado_calidad.pickle'"
   ]
  },
  {
   "cell_type": "markdown",
   "id": "1699f284",
   "metadata": {},
   "source": [
    "### Guardar los archivos"
   ]
  },
  {
   "cell_type": "code",
   "execution_count": 157,
   "id": "6731887a",
   "metadata": {},
   "outputs": [],
   "source": [
    "df.to_pickle(ruta_trabajo)\n",
    "cat.to_pickle(ruta_cat)\n",
    "num.to_pickle(ruta_num)"
   ]
  }
 ],
 "metadata": {
  "kernelspec": {
   "display_name": "Python 3 (ipykernel)",
   "language": "python",
   "name": "python3"
  },
  "language_info": {
   "codemirror_mode": {
    "name": "ipython",
    "version": 3
   },
   "file_extension": ".py",
   "mimetype": "text/x-python",
   "name": "python",
   "nbconvert_exporter": "python",
   "pygments_lexer": "ipython3",
   "version": "3.10.8"
  },
  "toc": {
   "base_numbering": 1,
   "nav_menu": {},
   "number_sections": true,
   "sideBar": true,
   "skip_h1_title": false,
   "title_cell": "Table of Contents",
   "title_sidebar": "Contents",
   "toc_cell": false,
   "toc_position": {
    "height": "calc(100% - 180px)",
    "left": "10px",
    "top": "150px",
    "width": "406.5px"
   },
   "toc_section_display": true,
   "toc_window_display": true
  },
  "varInspector": {
   "cols": {
    "lenName": 16,
    "lenType": 16,
    "lenVar": 40
   },
   "kernels_config": {
    "python": {
     "delete_cmd_postfix": "",
     "delete_cmd_prefix": "del ",
     "library": "var_list.py",
     "varRefreshCmd": "print(var_dic_list())"
    },
    "r": {
     "delete_cmd_postfix": ") ",
     "delete_cmd_prefix": "rm(",
     "library": "var_list.r",
     "varRefreshCmd": "cat(var_dic_list()) "
    }
   },
   "position": {
    "height": "546.85px",
    "left": "680.75px",
    "right": "20px",
    "top": "118px",
    "width": "350px"
   },
   "types_to_exclude": [
    "module",
    "function",
    "builtin_function_or_method",
    "instance",
    "_Feature"
   ],
   "window_display": false
  }
 },
 "nbformat": 4,
 "nbformat_minor": 5
}
