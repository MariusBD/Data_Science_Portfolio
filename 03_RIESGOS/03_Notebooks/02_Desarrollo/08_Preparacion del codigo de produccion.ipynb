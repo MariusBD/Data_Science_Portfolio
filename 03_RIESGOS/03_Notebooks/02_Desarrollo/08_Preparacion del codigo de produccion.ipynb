{
 "cells": [
  {
   "cell_type": "markdown",
   "id": "797ae63f",
   "metadata": {},
   "source": [
    "## IMPORTAR LAS LIBRERIAS"
   ]
  },
  {
   "cell_type": "markdown",
   "id": "64445de1",
   "metadata": {},
   "source": [
    "Actualizar a las que se usen finalmente en tu proyecto."
   ]
  },
  {
   "cell_type": "code",
   "execution_count": 21,
   "id": "ffe7be80",
   "metadata": {},
   "outputs": [],
   "source": [
    "import numpy as np\n",
    "import pandas as pd\n",
    "import pickle\n",
    "\n",
    "#Automcompletar rápido\n",
    "%config IPCompleter.greedy=True\n",
    "\n",
    "from sklearn.preprocessing import OrdinalEncoder\n",
    "from sklearn.preprocessing import OneHotEncoder\n",
    "from sklearn.preprocessing import Binarizer\n",
    "from sklearn.preprocessing import MinMaxScaler\n",
    "\n",
    "from sklearn.linear_model import LogisticRegression\n",
    "from sklearn.ensemble import HistGradientBoostingRegressor\n",
    "\n",
    "from sklearn.pipeline import Pipeline\n",
    "from sklearn.preprocessing import FunctionTransformer\n",
    "from sklearn.compose import make_column_transformer\n",
    "from sklearn.pipeline import make_pipeline"
   ]
  },
  {
   "cell_type": "markdown",
   "id": "5e12241c",
   "metadata": {},
   "source": [
    "## CARGAR LOS DATOS"
   ]
  },
  {
   "cell_type": "markdown",
   "id": "807b37d3",
   "metadata": {},
   "source": [
    "### Ruta del proyecto"
   ]
  },
  {
   "cell_type": "code",
   "execution_count": 22,
   "id": "5a6711f7",
   "metadata": {},
   "outputs": [],
   "source": [
    "ruta_proyecto = 'C:/Users/Marius/EstructuraDirectorio/03_MACHINE_LEARNING/07_CASOS/03_RIESGOS'"
   ]
  },
  {
   "cell_type": "markdown",
   "id": "89fe9a43",
   "metadata": {},
   "source": [
    "### Nombre del fichero de datos"
   ]
  },
  {
   "cell_type": "code",
   "execution_count": 23,
   "id": "25b345d7",
   "metadata": {},
   "outputs": [],
   "source": [
    "nombre_fichero_datos = 'prestamos.csv'"
   ]
  },
  {
   "cell_type": "markdown",
   "id": "765f82e1",
   "metadata": {},
   "source": [
    "### Cargar los datos"
   ]
  },
  {
   "cell_type": "code",
   "execution_count": 24,
   "id": "480494ff",
   "metadata": {},
   "outputs": [],
   "source": [
    "ruta_completa = ruta_proyecto + '/02_Datos/01_Originales/' + nombre_fichero_datos\n",
    "\n",
    "df = pd.read_csv(ruta_completa,index_col=0)"
   ]
  },
  {
   "cell_type": "markdown",
   "id": "454738c9",
   "metadata": {},
   "source": [
    "### Seleccionar solo las variables finales"
   ]
  },
  {
   "cell_type": "markdown",
   "id": "9c127d9a",
   "metadata": {},
   "source": [
    "#### Apuntar (manualmente) la lista de variables finales sin extensiones"
   ]
  },
  {
   "cell_type": "code",
   "execution_count": 25,
   "id": "da477021",
   "metadata": {},
   "outputs": [],
   "source": [
    "variables_finales = ['ingresos_verificados',\n",
    "                     'vivienda',\n",
    "                     'finalidad',\n",
    "                     'num_cuotas',\n",
    "                     'antigüedad_empleo',\n",
    "                     'rating',\n",
    "                     'ingresos',\n",
    "                     'dti',\n",
    "                     'num_lineas_credito',\n",
    "                     'porc_uso_revolving',\n",
    "                     'principal',\n",
    "                     'tipo_interes',\n",
    "                     'imp_cuota',\n",
    "                     'num_derogatorios',\n",
    "                     'estado',\n",
    "                     'imp_amortizado',\n",
    "                     'imp_recuperado'\n",
    "                  ]"
   ]
  },
  {
   "cell_type": "markdown",
   "id": "f81f09bf",
   "metadata": {},
   "source": [
    "#### Crear la matriz de variables procesos (excel)"
   ]
  },
  {
   "cell_type": "markdown",
   "id": "735beb13",
   "metadata": {},
   "source": [
    "Ir a la plantilla de Excel \"Fase Producción Plantilla Procesos\" y crear la matriz de variables por procesos."
   ]
  },
  {
   "cell_type": "markdown",
   "id": "ee3f31a6",
   "metadata": {},
   "source": [
    "#### Actualizar las importaciones"
   ]
  },
  {
   "cell_type": "markdown",
   "id": "80c12eea",
   "metadata": {},
   "source": [
    "Ir arriba a la celda de importacion de paquetes y actualizarlos con los que finalmente vamos a usar."
   ]
  },
  {
   "cell_type": "markdown",
   "id": "fe5a706b",
   "metadata": {},
   "source": [
    "## ESTRUCTURA DE LOS DATASETS"
   ]
  },
  {
   "cell_type": "markdown",
   "id": "a9cd9497",
   "metadata": {},
   "source": [
    "### Eliminar registros"
   ]
  },
  {
   "cell_type": "markdown",
   "id": "4af7dbab",
   "metadata": {},
   "source": [
    "#### Por atípicos"
   ]
  },
  {
   "cell_type": "code",
   "execution_count": 26,
   "id": "361fd5f0",
   "metadata": {},
   "outputs": [],
   "source": [
    "a_eliminar = df.loc[df.ingresos > 300000].index.values\n"
   ]
  },
  {
   "cell_type": "code",
   "execution_count": 27,
   "id": "88b5ccb4",
   "metadata": {},
   "outputs": [],
   "source": [
    "df = df[~df.index.isin(a_eliminar)]"
   ]
  },
  {
   "cell_type": "markdown",
   "id": "1852c8f6",
   "metadata": {},
   "source": [
    "### Seleccionar variables"
   ]
  },
  {
   "cell_type": "markdown",
   "id": "024faf5e",
   "metadata": {},
   "source": [
    "Quedarse solo con las de la lista."
   ]
  },
  {
   "cell_type": "code",
   "execution_count": 28,
   "id": "eb115fbf",
   "metadata": {},
   "outputs": [
    {
     "data": {
      "text/html": [
       "<div>\n",
       "<style scoped>\n",
       "    .dataframe tbody tr th:only-of-type {\n",
       "        vertical-align: middle;\n",
       "    }\n",
       "\n",
       "    .dataframe tbody tr th {\n",
       "        vertical-align: top;\n",
       "    }\n",
       "\n",
       "    .dataframe thead th {\n",
       "        text-align: right;\n",
       "    }\n",
       "</style>\n",
       "<table border=\"1\" class=\"dataframe\">\n",
       "  <thead>\n",
       "    <tr style=\"text-align: right;\">\n",
       "      <th></th>\n",
       "      <th>ingresos_verificados</th>\n",
       "      <th>vivienda</th>\n",
       "      <th>finalidad</th>\n",
       "      <th>num_cuotas</th>\n",
       "      <th>antigüedad_empleo</th>\n",
       "      <th>rating</th>\n",
       "      <th>ingresos</th>\n",
       "      <th>dti</th>\n",
       "      <th>num_lineas_credito</th>\n",
       "      <th>porc_uso_revolving</th>\n",
       "      <th>principal</th>\n",
       "      <th>tipo_interes</th>\n",
       "      <th>imp_cuota</th>\n",
       "      <th>num_derogatorios</th>\n",
       "      <th>estado</th>\n",
       "      <th>imp_amortizado</th>\n",
       "      <th>imp_recuperado</th>\n",
       "    </tr>\n",
       "    <tr>\n",
       "      <th>id_cliente</th>\n",
       "      <th></th>\n",
       "      <th></th>\n",
       "      <th></th>\n",
       "      <th></th>\n",
       "      <th></th>\n",
       "      <th></th>\n",
       "      <th></th>\n",
       "      <th></th>\n",
       "      <th></th>\n",
       "      <th></th>\n",
       "      <th></th>\n",
       "      <th></th>\n",
       "      <th></th>\n",
       "      <th></th>\n",
       "      <th></th>\n",
       "      <th></th>\n",
       "      <th></th>\n",
       "    </tr>\n",
       "  </thead>\n",
       "  <tbody>\n",
       "    <tr>\n",
       "      <th>137387967</th>\n",
       "      <td>Source Verified</td>\n",
       "      <td>MORTGAGE</td>\n",
       "      <td>debt_consolidation</td>\n",
       "      <td>36 months</td>\n",
       "      <td>3 years</td>\n",
       "      <td>A</td>\n",
       "      <td>54000.0</td>\n",
       "      <td>19.31</td>\n",
       "      <td>10.0</td>\n",
       "      <td>45.2</td>\n",
       "      <td>15000.0</td>\n",
       "      <td>7.21</td>\n",
       "      <td>464.60</td>\n",
       "      <td>0.0</td>\n",
       "      <td>Current</td>\n",
       "      <td>2669.06</td>\n",
       "      <td>0.00</td>\n",
       "    </tr>\n",
       "    <tr>\n",
       "      <th>4798121</th>\n",
       "      <td>Not Verified</td>\n",
       "      <td>RENT</td>\n",
       "      <td>debt_consolidation</td>\n",
       "      <td>36 months</td>\n",
       "      <td>10+ years</td>\n",
       "      <td>D</td>\n",
       "      <td>65000.0</td>\n",
       "      <td>25.40</td>\n",
       "      <td>15.0</td>\n",
       "      <td>86.2</td>\n",
       "      <td>10000.0</td>\n",
       "      <td>17.77</td>\n",
       "      <td>360.38</td>\n",
       "      <td>0.0</td>\n",
       "      <td>Charged Off</td>\n",
       "      <td>6362.96</td>\n",
       "      <td>0.00</td>\n",
       "    </tr>\n",
       "    <tr>\n",
       "      <th>46641215</th>\n",
       "      <td>Verified</td>\n",
       "      <td>RENT</td>\n",
       "      <td>debt_consolidation</td>\n",
       "      <td>36 months</td>\n",
       "      <td>5 years</td>\n",
       "      <td>A</td>\n",
       "      <td>135000.0</td>\n",
       "      <td>14.68</td>\n",
       "      <td>19.0</td>\n",
       "      <td>16.3</td>\n",
       "      <td>24000.0</td>\n",
       "      <td>6.39</td>\n",
       "      <td>734.38</td>\n",
       "      <td>0.0</td>\n",
       "      <td>Fully Paid</td>\n",
       "      <td>24000.00</td>\n",
       "      <td>0.00</td>\n",
       "    </tr>\n",
       "    <tr>\n",
       "      <th>87998444</th>\n",
       "      <td>Source Verified</td>\n",
       "      <td>MORTGAGE</td>\n",
       "      <td>credit_card</td>\n",
       "      <td>60 months</td>\n",
       "      <td>9 years</td>\n",
       "      <td>B</td>\n",
       "      <td>188000.0</td>\n",
       "      <td>11.69</td>\n",
       "      <td>15.0</td>\n",
       "      <td>3.3</td>\n",
       "      <td>27000.0</td>\n",
       "      <td>8.99</td>\n",
       "      <td>560.35</td>\n",
       "      <td>0.0</td>\n",
       "      <td>Current</td>\n",
       "      <td>12443.00</td>\n",
       "      <td>0.00</td>\n",
       "    </tr>\n",
       "    <tr>\n",
       "      <th>132883631</th>\n",
       "      <td>Source Verified</td>\n",
       "      <td>MORTGAGE</td>\n",
       "      <td>debt_consolidation</td>\n",
       "      <td>36 months</td>\n",
       "      <td>7 years</td>\n",
       "      <td>B</td>\n",
       "      <td>125000.0</td>\n",
       "      <td>9.00</td>\n",
       "      <td>6.0</td>\n",
       "      <td>69.9</td>\n",
       "      <td>22000.0</td>\n",
       "      <td>10.90</td>\n",
       "      <td>719.22</td>\n",
       "      <td>0.0</td>\n",
       "      <td>Fully Paid</td>\n",
       "      <td>22000.00</td>\n",
       "      <td>0.00</td>\n",
       "    </tr>\n",
       "    <tr>\n",
       "      <th>...</th>\n",
       "      <td>...</td>\n",
       "      <td>...</td>\n",
       "      <td>...</td>\n",
       "      <td>...</td>\n",
       "      <td>...</td>\n",
       "      <td>...</td>\n",
       "      <td>...</td>\n",
       "      <td>...</td>\n",
       "      <td>...</td>\n",
       "      <td>...</td>\n",
       "      <td>...</td>\n",
       "      <td>...</td>\n",
       "      <td>...</td>\n",
       "      <td>...</td>\n",
       "      <td>...</td>\n",
       "      <td>...</td>\n",
       "      <td>...</td>\n",
       "    </tr>\n",
       "    <tr>\n",
       "      <th>51876926</th>\n",
       "      <td>Not Verified</td>\n",
       "      <td>MORTGAGE</td>\n",
       "      <td>debt_consolidation</td>\n",
       "      <td>36 months</td>\n",
       "      <td>10+ years</td>\n",
       "      <td>C</td>\n",
       "      <td>42000.0</td>\n",
       "      <td>20.85</td>\n",
       "      <td>9.0</td>\n",
       "      <td>81.6</td>\n",
       "      <td>8000.0</td>\n",
       "      <td>12.29</td>\n",
       "      <td>266.83</td>\n",
       "      <td>0.0</td>\n",
       "      <td>Fully Paid</td>\n",
       "      <td>8000.00</td>\n",
       "      <td>0.00</td>\n",
       "    </tr>\n",
       "    <tr>\n",
       "      <th>121031962</th>\n",
       "      <td>Verified</td>\n",
       "      <td>MORTGAGE</td>\n",
       "      <td>other</td>\n",
       "      <td>36 months</td>\n",
       "      <td>6 years</td>\n",
       "      <td>B</td>\n",
       "      <td>111697.0</td>\n",
       "      <td>16.63</td>\n",
       "      <td>10.0</td>\n",
       "      <td>26.3</td>\n",
       "      <td>10000.0</td>\n",
       "      <td>9.44</td>\n",
       "      <td>320.05</td>\n",
       "      <td>1.0</td>\n",
       "      <td>Current</td>\n",
       "      <td>4388.51</td>\n",
       "      <td>0.00</td>\n",
       "    </tr>\n",
       "    <tr>\n",
       "      <th>135641397</th>\n",
       "      <td>Source Verified</td>\n",
       "      <td>MORTGAGE</td>\n",
       "      <td>small_business</td>\n",
       "      <td>36 months</td>\n",
       "      <td>10+ years</td>\n",
       "      <td>D</td>\n",
       "      <td>285000.0</td>\n",
       "      <td>6.02</td>\n",
       "      <td>9.0</td>\n",
       "      <td>21.1</td>\n",
       "      <td>30000.0</td>\n",
       "      <td>17.47</td>\n",
       "      <td>1076.62</td>\n",
       "      <td>0.0</td>\n",
       "      <td>Current</td>\n",
       "      <td>5387.53</td>\n",
       "      <td>0.00</td>\n",
       "    </tr>\n",
       "    <tr>\n",
       "      <th>53664762</th>\n",
       "      <td>Source Verified</td>\n",
       "      <td>RENT</td>\n",
       "      <td>small_business</td>\n",
       "      <td>60 months</td>\n",
       "      <td>8 years</td>\n",
       "      <td>E</td>\n",
       "      <td>168000.0</td>\n",
       "      <td>4.69</td>\n",
       "      <td>8.0</td>\n",
       "      <td>52.4</td>\n",
       "      <td>30050.0</td>\n",
       "      <td>18.25</td>\n",
       "      <td>767.17</td>\n",
       "      <td>2.0</td>\n",
       "      <td>Charged Off</td>\n",
       "      <td>2964.44</td>\n",
       "      <td>2750.88</td>\n",
       "    </tr>\n",
       "    <tr>\n",
       "      <th>94394801</th>\n",
       "      <td>Not Verified</td>\n",
       "      <td>MORTGAGE</td>\n",
       "      <td>debt_consolidation</td>\n",
       "      <td>36 months</td>\n",
       "      <td>NaN</td>\n",
       "      <td>C</td>\n",
       "      <td>80000.0</td>\n",
       "      <td>31.49</td>\n",
       "      <td>9.0</td>\n",
       "      <td>49.1</td>\n",
       "      <td>10000.0</td>\n",
       "      <td>13.99</td>\n",
       "      <td>341.73</td>\n",
       "      <td>0.0</td>\n",
       "      <td>Current</td>\n",
       "      <td>7096.40</td>\n",
       "      <td>0.00</td>\n",
       "    </tr>\n",
       "  </tbody>\n",
       "</table>\n",
       "<p>198679 rows × 17 columns</p>\n",
       "</div>"
      ],
      "text/plain": [
       "           ingresos_verificados  vivienda           finalidad  num_cuotas  \\\n",
       "id_cliente                                                                  \n",
       "137387967       Source Verified  MORTGAGE  debt_consolidation   36 months   \n",
       "4798121            Not Verified      RENT  debt_consolidation   36 months   \n",
       "46641215               Verified      RENT  debt_consolidation   36 months   \n",
       "87998444        Source Verified  MORTGAGE         credit_card   60 months   \n",
       "132883631       Source Verified  MORTGAGE  debt_consolidation   36 months   \n",
       "...                         ...       ...                 ...         ...   \n",
       "51876926           Not Verified  MORTGAGE  debt_consolidation   36 months   \n",
       "121031962              Verified  MORTGAGE               other   36 months   \n",
       "135641397       Source Verified  MORTGAGE      small_business   36 months   \n",
       "53664762        Source Verified      RENT      small_business   60 months   \n",
       "94394801           Not Verified  MORTGAGE  debt_consolidation   36 months   \n",
       "\n",
       "           antigüedad_empleo rating  ingresos    dti  num_lineas_credito  \\\n",
       "id_cliente                                                                 \n",
       "137387967            3 years      A   54000.0  19.31                10.0   \n",
       "4798121            10+ years      D   65000.0  25.40                15.0   \n",
       "46641215             5 years      A  135000.0  14.68                19.0   \n",
       "87998444             9 years      B  188000.0  11.69                15.0   \n",
       "132883631            7 years      B  125000.0   9.00                 6.0   \n",
       "...                      ...    ...       ...    ...                 ...   \n",
       "51876926           10+ years      C   42000.0  20.85                 9.0   \n",
       "121031962            6 years      B  111697.0  16.63                10.0   \n",
       "135641397          10+ years      D  285000.0   6.02                 9.0   \n",
       "53664762             8 years      E  168000.0   4.69                 8.0   \n",
       "94394801                 NaN      C   80000.0  31.49                 9.0   \n",
       "\n",
       "            porc_uso_revolving  principal  tipo_interes  imp_cuota  \\\n",
       "id_cliente                                                           \n",
       "137387967                 45.2    15000.0          7.21     464.60   \n",
       "4798121                   86.2    10000.0         17.77     360.38   \n",
       "46641215                  16.3    24000.0          6.39     734.38   \n",
       "87998444                   3.3    27000.0          8.99     560.35   \n",
       "132883631                 69.9    22000.0         10.90     719.22   \n",
       "...                        ...        ...           ...        ...   \n",
       "51876926                  81.6     8000.0         12.29     266.83   \n",
       "121031962                 26.3    10000.0          9.44     320.05   \n",
       "135641397                 21.1    30000.0         17.47    1076.62   \n",
       "53664762                  52.4    30050.0         18.25     767.17   \n",
       "94394801                  49.1    10000.0         13.99     341.73   \n",
       "\n",
       "            num_derogatorios       estado  imp_amortizado  imp_recuperado  \n",
       "id_cliente                                                                 \n",
       "137387967                0.0      Current         2669.06            0.00  \n",
       "4798121                  0.0  Charged Off         6362.96            0.00  \n",
       "46641215                 0.0   Fully Paid        24000.00            0.00  \n",
       "87998444                 0.0      Current        12443.00            0.00  \n",
       "132883631                0.0   Fully Paid        22000.00            0.00  \n",
       "...                      ...          ...             ...             ...  \n",
       "51876926                 0.0   Fully Paid         8000.00            0.00  \n",
       "121031962                1.0      Current         4388.51            0.00  \n",
       "135641397                0.0      Current         5387.53            0.00  \n",
       "53664762                 2.0  Charged Off         2964.44         2750.88  \n",
       "94394801                 0.0      Current         7096.40            0.00  \n",
       "\n",
       "[198679 rows x 17 columns]"
      ]
     },
     "execution_count": 28,
     "metadata": {},
     "output_type": "execute_result"
    }
   ],
   "source": [
    "df = df[variables_finales]\n",
    "df"
   ]
  },
  {
   "cell_type": "markdown",
   "id": "99bb2255",
   "metadata": {},
   "source": [
    "## CREAR EL PIPELINE"
   ]
  },
  {
   "cell_type": "markdown",
   "id": "6d6e8fca",
   "metadata": {},
   "source": [
    "### Instanciar calidad de datos"
   ]
  },
  {
   "cell_type": "markdown",
   "id": "06178080",
   "metadata": {},
   "source": [
    "#### Crear la función"
   ]
  },
  {
   "cell_type": "code",
   "execution_count": 29,
   "id": "98177b43",
   "metadata": {},
   "outputs": [],
   "source": [
    "#funcion unica que servira para los 3 modelos por igual\n",
    "def calidad_datos(temp):\n",
    "    \n",
    "    #esta variable categorica la habiamos imputado por valor desonocido\n",
    "    temp['antigüedad_empleo'] = temp['antigüedad_empleo'].fillna('desconocido')\n",
    "    \n",
    "    #todas las numericas las imputamos por 0\n",
    "    temp.update(temp.select_dtypes('number').fillna(value = 0))\n",
    "    \n",
    "    return(temp)"
   ]
  },
  {
   "cell_type": "markdown",
   "id": "1126f00c",
   "metadata": {},
   "source": [
    "### Instanciar creación de variables"
   ]
  },
  {
   "cell_type": "markdown",
   "id": "282eb56e",
   "metadata": {},
   "source": [
    "Dado que la creación de variables es diferente para los 3 modelos necesitamos construir 3 funciones."
   ]
  },
  {
   "cell_type": "markdown",
   "id": "e30da63d",
   "metadata": {},
   "source": [
    "#### Crear las funciones"
   ]
  },
  {
   "cell_type": "code",
   "execution_count": 30,
   "id": "4b461455",
   "metadata": {},
   "outputs": [],
   "source": [
    "def creacion_variables_pd(df):\n",
    "    \n",
    "    temp = df.copy()\n",
    "    \n",
    "    temp['target_pd'] = np.where(temp.estado.isin(['Charged Off','Does not meet the credit policy. Status:Charged Off','Default']), 1, 0)\n",
    "    \n",
    "    temp.vivienda = temp.vivienda.replace(['ANY','NONE','OTHER'],'MORTGAGE')\n",
    "    \n",
    "    temp.finalidad = temp.finalidad.replace(['wedding','educational','renewable_energy'],'otros')\n",
    "    \n",
    "    #Eliminamos las variables que ya no usaremos\n",
    "    #las eliminamos porque no tendremos esta informacion a la hora de hacer esta evaluacion de riesgos \n",
    "    #para saber si hacer el prestamo o no\n",
    "    \n",
    "    #la variable estado la hemos utilizado para hacer nuestra target, entonces ya no puede ser usada en nuestro df\n",
    "    #porque sino seria usada como una predictora y no podemos usarla como predictora porque es la variable madre de la var target\n",
    "    temp.drop(columns = ['estado','imp_amortizado','imp_recuperado'],inplace = True)\n",
    "    \n",
    "    #Separamos entre predictoras y target\n",
    "    temp_x = temp.iloc[:,:-1]\n",
    "    temp_y = temp.iloc[:,-1]\n",
    "    \n",
    "    return(temp_x,temp_y)"
   ]
  },
  {
   "cell_type": "code",
   "execution_count": 31,
   "id": "4f12fd5c",
   "metadata": {},
   "outputs": [],
   "source": [
    "def creacion_variables_ead(df):\n",
    "    \n",
    "    temp = df.copy()\n",
    "    \n",
    "    temp['pendiente'] = temp.principal - temp.imp_amortizado\n",
    "    \n",
    "    temp['target_ead'] = temp.pendiente / temp.principal\n",
    "    \n",
    "    temp.vivienda = temp.vivienda.replace(['ANY','NONE','OTHER'],'MORTGAGE')\n",
    "    \n",
    "    temp.finalidad = temp.finalidad.replace(['wedding','educational','renewable_energy'],'otros')\n",
    "    \n",
    "    #Eliminamos las variables que ya no usaremos\n",
    "    #ppendiente fue creada por nosotros para poder crear la target por lo tanto eliminamos\n",
    "    #y las demas, son variables que no dispondremos de esa informacion en el momento de hacer la evaluacion de riesgos\n",
    "    temp.drop(columns = ['estado','imp_amortizado','imp_recuperado','pendiente'],inplace = True)\n",
    "    \n",
    "    #Separamos entre predictoras y target\n",
    "    temp_x = temp.iloc[:,:-1]\n",
    "    temp_y = temp.iloc[:,-1]\n",
    "    \n",
    "    return(temp_x,temp_y)"
   ]
  },
  {
   "cell_type": "code",
   "execution_count": 32,
   "id": "ee89e853",
   "metadata": {},
   "outputs": [],
   "source": [
    "def creacion_variables_lgd(df):\n",
    "    \n",
    "    temp = df.copy()\n",
    "    \n",
    "    temp['pendiente'] = temp.principal - temp.imp_amortizado\n",
    "    \n",
    "    temp['target_lgd'] = 1 - (temp.imp_recuperado / temp.pendiente)\n",
    "    \n",
    "    temp['target_lgd'].fillna(0,inplace=True)\n",
    "    \n",
    "    temp.vivienda = temp.vivienda.replace(['ANY','NONE','OTHER'],'MORTGAGE')\n",
    "    \n",
    "    temp.finalidad = temp.finalidad.replace(['wedding','educational','renewable_energy'],'otros')\n",
    "    \n",
    "    #Eliminamos las variables que ya no usaremos\n",
    "    temp.drop(columns = ['estado','imp_amortizado','imp_recuperado','pendiente'],inplace = True)\n",
    "    \n",
    "    #Separamos entre predictoras y target\n",
    "    temp_x = temp.iloc[:,:-1]\n",
    "    temp_y = temp.iloc[:,-1]\n",
    "    \n",
    "    return(temp_x,temp_y)"
   ]
  },
  {
   "cell_type": "markdown",
   "id": "de72308d",
   "metadata": {},
   "source": [
    "#### Crear los dataframes de X e y"
   ]
  },
  {
   "cell_type": "code",
   "execution_count": 33,
   "id": "053dd03e",
   "metadata": {},
   "outputs": [],
   "source": [
    "#Python ejecuta primero la funcion de dentro (calidad de datos) y despues el resultado que esta dentro le pasa como parametro\n",
    "#de la siguiente funcion\n",
    "x_pd, y_pd = creacion_variables_pd(calidad_datos(df))\n",
    "\n",
    "x_ead, y_ead = creacion_variables_ead(calidad_datos(df))\n",
    "\n",
    "x_lgd, y_lgd = creacion_variables_lgd(calidad_datos(df))"
   ]
  },
  {
   "cell_type": "markdown",
   "id": "88e57147",
   "metadata": {},
   "source": [
    "### Instanciar transformación de variables"
   ]
  },
  {
   "cell_type": "code",
   "execution_count": 34,
   "id": "ee711664",
   "metadata": {},
   "outputs": [],
   "source": [
    "#ONE HOT ENCODING\n",
    "var_ohe = [ 'ingresos_verificados', 'vivienda','finalidad','num_cuotas']\n",
    "ohe = OneHotEncoder(sparse = False, handle_unknown='ignore')\n",
    "\n",
    "\n",
    "#ORDINAL ENCODING\n",
    "var_oe = ['antigüedad_empleo','rating']\n",
    "\n",
    "orden_antigüedad_empleo = ['desconocido','< 1 year','1 year','2 years','3 years','4 years',\n",
    "                           '5 years','6 years','7 years','8 years','9 years','10+ years']\n",
    "\n",
    "orden_rating = ['A','B','C','D','E','F','G']\n",
    "\n",
    "oe = OrdinalEncoder(categories = [orden_antigüedad_empleo,orden_rating],\n",
    "                    handle_unknown = 'use_encoded_value',\n",
    "                    unknown_value = 12)\n",
    "\n",
    "#BINNING\n",
    "var_bin = ['num_derogatorios']\n",
    "bina = Binarizer(threshold=0)\n",
    "\n",
    "\n",
    "#MIN-MAX SCALING\n",
    "var_mms = ['ingresos','dti','num_lineas_credito','porc_uso_revolving',\n",
    "            'principal','tipo_interes','imp_cuota']\n",
    "mms = MinMaxScaler()\n"
   ]
  },
  {
   "cell_type": "markdown",
   "id": "eaf3f141",
   "metadata": {},
   "source": [
    "### Crear el pipe del preprocesamiento"
   ]
  },
  {
   "cell_type": "markdown",
   "id": "8d7b7821",
   "metadata": {},
   "source": [
    "#### Crear el column transformer"
   ]
  },
  {
   "cell_type": "code",
   "execution_count": 35,
   "id": "e577b34d",
   "metadata": {},
   "outputs": [],
   "source": [
    "#Column transformer permite aplicar variables diferentes a procesos diferentes\n",
    "\n",
    "ct = make_column_transformer(\n",
    "    (ohe, var_ohe),\n",
    "    (oe, var_oe),\n",
    "    (bina, var_bin),\n",
    "    (mms, var_mms),\n",
    "    remainder='passthrough')"
   ]
  },
  {
   "cell_type": "markdown",
   "id": "d4b08601",
   "metadata": {},
   "source": [
    "### Instanciar los modelos"
   ]
  },
  {
   "cell_type": "markdown",
   "id": "b64c9e60",
   "metadata": {},
   "source": [
    "#### Instanciar los algoritmos"
   ]
  },
  {
   "cell_type": "code",
   "execution_count": 36,
   "id": "8b2e752d",
   "metadata": {},
   "outputs": [],
   "source": [
    "modelo_pd = LogisticRegression(solver = 'saga', n_jobs=-1, C = 0.25, penalty = 'l1')\n",
    "\n",
    "modelo_ead = HistGradientBoostingRegressor(learning_rate = 0.1,\n",
    "                                          max_iter = 200,\n",
    "                                          max_depth = 10,\n",
    "                                          min_samples_leaf = 100,\n",
    "                                          scoring = 'neg_mean_absolute_percentage_error',\n",
    "                                          l2_regularization = 0.75)\n",
    "\n",
    "modelo_lgd = HistGradientBoostingRegressor(learning_rate = 0.1,\n",
    "                                          max_iter = 200,\n",
    "                                          max_depth = 20,\n",
    "                                          min_samples_leaf = 100,\n",
    "                                          scoring = 'neg_mean_absolute_percentage_error',\n",
    "                                          l2_regularization = 0)"
   ]
  },
  {
   "cell_type": "markdown",
   "id": "80f8e2f3",
   "metadata": {},
   "source": [
    "#### Crear los pipes finales de entrenamiento"
   ]
  },
  {
   "cell_type": "code",
   "execution_count": 37,
   "id": "0efb038b",
   "metadata": {},
   "outputs": [],
   "source": [
    "pipe_entrenamiento_pd = make_pipeline(ct,modelo_pd)\n",
    "\n",
    "pipe_entrenamiento_ead = make_pipeline(ct,modelo_ead)\n",
    "\n",
    "pipe_entrenamiento_lgd = make_pipeline(ct,modelo_lgd)\n",
    "\n",
    "#Ahora ya tenemos creado y definido todo el trabajo que tenemos que hacer con pandas mediante funciones y \n",
    "#todo el trabajo que tenemos que hacer con scikit-learn, mediante pipes"
   ]
  },
  {
   "cell_type": "markdown",
   "id": "cb0700d8",
   "metadata": {},
   "source": [
    "#### Guardar el pipe final de entrenamiento\n",
    "\n",
    "En esta parte vamos a guardar toda esa definicion, ya que todavia no hemos entrenado estos modelos, lo que estamos guardando son los objetos de entrenamiento de scikit-learn, que contienen preprocesamiento de scikit-learn como modelización.\n",
    "Estos 3 pipes de entrenamiento son los que vamos a recuperar en el codigo de reentrenamiento, cada vez que queramos hacer un reentrenamiento de los modelos vamos a utilizar la definicion de ese entrenamiento pero vamos a reentrenarlo."
   ]
  },
  {
   "cell_type": "code",
   "execution_count": 38,
   "id": "74b5beda",
   "metadata": {},
   "outputs": [],
   "source": [
    "ruta_pipe_entrenamiento_pd = ruta_proyecto + '/04_Modelos/pipe_entrenamiento_pd.pickle'\n",
    "\n",
    "with open(ruta_pipe_entrenamiento_pd, mode='wb') as file:\n",
    "    pickle.dump(pipe_entrenamiento_pd, file)"
   ]
  },
  {
   "cell_type": "code",
   "execution_count": 39,
   "id": "1dbf4597",
   "metadata": {},
   "outputs": [],
   "source": [
    "ruta_pipe_entrenamiento_ead = ruta_proyecto + '/04_Modelos/pipe_entrenamiento_ead.pickle'\n",
    "\n",
    "with open(ruta_pipe_entrenamiento_ead, mode='wb') as file:\n",
    "    pickle.dump(pipe_entrenamiento_ead, file)"
   ]
  },
  {
   "cell_type": "code",
   "execution_count": 40,
   "id": "004f26f1",
   "metadata": {},
   "outputs": [],
   "source": [
    "ruta_pipe_entrenamiento_lgd = ruta_proyecto + '/04_Modelos/pipe_entrenamiento_lgd.pickle'\n",
    "\n",
    "with open(ruta_pipe_entrenamiento_lgd, mode='wb') as file:\n",
    "    pickle.dump(pipe_entrenamiento_lgd, file)"
   ]
  },
  {
   "cell_type": "markdown",
   "id": "2c7e5ed1",
   "metadata": {},
   "source": [
    "#### Entrenar los pipes"
   ]
  },
  {
   "cell_type": "code",
   "execution_count": 41,
   "id": "13ca2db6",
   "metadata": {},
   "outputs": [
    {
     "name": "stderr",
     "output_type": "stream",
     "text": [
      "C:\\Users\\Marius\\miniconda3\\envs\\riskscoring\\Lib\\site-packages\\sklearn\\preprocessing\\_encoders.py:868: FutureWarning: `sparse` was renamed to `sparse_output` in version 1.2 and will be removed in 1.4. `sparse_output` is ignored unless you leave `sparse` to its default value.\n",
      "  warnings.warn(\n",
      "C:\\Users\\Marius\\miniconda3\\envs\\riskscoring\\Lib\\site-packages\\sklearn\\preprocessing\\_encoders.py:868: FutureWarning: `sparse` was renamed to `sparse_output` in version 1.2 and will be removed in 1.4. `sparse_output` is ignored unless you leave `sparse` to its default value.\n",
      "  warnings.warn(\n",
      "C:\\Users\\Marius\\miniconda3\\envs\\riskscoring\\Lib\\site-packages\\sklearn\\preprocessing\\_encoders.py:868: FutureWarning: `sparse` was renamed to `sparse_output` in version 1.2 and will be removed in 1.4. `sparse_output` is ignored unless you leave `sparse` to its default value.\n",
      "  warnings.warn(\n"
     ]
    }
   ],
   "source": [
    "#Entrenamos para nuestro codigo de ejecucion y despues guardaremos los objetos entrenados\n",
    "#estos objetos no seria necesario reentrenarlos\n",
    "pipe_ejecucion_pd = pipe_entrenamiento_pd.fit(x_pd,y_pd)\n",
    "pipe_ejecucion_ead = pipe_entrenamiento_ead.fit(x_ead,y_ead)\n",
    "pipe_ejecucion_lgd = pipe_entrenamiento_lgd.fit(x_lgd,y_lgd)"
   ]
  },
  {
   "cell_type": "markdown",
   "id": "52e506db",
   "metadata": {},
   "source": [
    "## GUARDAR EL PIPE"
   ]
  },
  {
   "cell_type": "markdown",
   "id": "afba8bc8",
   "metadata": {},
   "source": [
    "### Guardar el pipe final de ejecución"
   ]
  },
  {
   "cell_type": "code",
   "execution_count": 42,
   "id": "1dda8f25",
   "metadata": {},
   "outputs": [],
   "source": [
    "#Tanto los scripts de reentrenamiento como de ejecucion son material de producción\n",
    "\n",
    "ruta_pipe_ejecucion_pd = ruta_proyecto + '/04_Modelos/pipe_ejecucion_pd.pickle'\n",
    "\n",
    "with open(ruta_pipe_ejecucion_pd, mode='wb') as file:\n",
    "    pickle.dump(pipe_ejecucion_pd, file)"
   ]
  },
  {
   "cell_type": "code",
   "execution_count": 43,
   "id": "dcde2dbb",
   "metadata": {},
   "outputs": [],
   "source": [
    "ruta_pipe_ejecucion_ead = ruta_proyecto + '/04_Modelos/pipe_ejecucion_ead.pickle'\n",
    "\n",
    "with open(ruta_pipe_ejecucion_ead, mode='wb') as file:\n",
    "    pickle.dump(pipe_ejecucion_ead, file)"
   ]
  },
  {
   "cell_type": "code",
   "execution_count": 44,
   "id": "9b5a5b3e",
   "metadata": {},
   "outputs": [],
   "source": [
    "ruta_pipe_ejecucion_lgd = ruta_proyecto + '/04_Modelos/pipe_ejecucion_lgd.pickle'\n",
    "\n",
    "with open(ruta_pipe_ejecucion_lgd, mode='wb') as file:\n",
    "    pickle.dump(pipe_ejecucion_lgd, file)"
   ]
  }
 ],
 "metadata": {
  "kernelspec": {
   "display_name": "Python 3 (ipykernel)",
   "language": "python",
   "name": "python3"
  },
  "language_info": {
   "codemirror_mode": {
    "name": "ipython",
    "version": 3
   },
   "file_extension": ".py",
   "mimetype": "text/x-python",
   "name": "python",
   "nbconvert_exporter": "python",
   "pygments_lexer": "ipython3",
   "version": "3.11.4"
  },
  "toc": {
   "base_numbering": 1,
   "nav_menu": {},
   "number_sections": true,
   "sideBar": true,
   "skip_h1_title": false,
   "title_cell": "Table of Contents",
   "title_sidebar": "Contents",
   "toc_cell": false,
   "toc_position": {
    "height": "calc(100% - 180px)",
    "left": "10px",
    "top": "150px",
    "width": "383.359px"
   },
   "toc_section_display": true,
   "toc_window_display": true
  },
  "varInspector": {
   "cols": {
    "lenName": 16,
    "lenType": 16,
    "lenVar": 40
   },
   "kernels_config": {
    "python": {
     "delete_cmd_postfix": "",
     "delete_cmd_prefix": "del ",
     "library": "var_list.py",
     "varRefreshCmd": "print(var_dic_list())"
    },
    "r": {
     "delete_cmd_postfix": ") ",
     "delete_cmd_prefix": "rm(",
     "library": "var_list.r",
     "varRefreshCmd": "cat(var_dic_list()) "
    }
   },
   "position": {
    "height": "437.85px",
    "left": "1550px",
    "right": "20px",
    "top": "120px",
    "width": "350px"
   },
   "types_to_exclude": [
    "module",
    "function",
    "builtin_function_or_method",
    "instance",
    "_Feature"
   ],
   "window_display": false
  }
 },
 "nbformat": 4,
 "nbformat_minor": 5
}
